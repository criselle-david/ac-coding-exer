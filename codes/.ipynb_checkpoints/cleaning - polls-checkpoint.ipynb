{
 "cells": [
  {
   "cell_type": "code",
   "execution_count": 11,
   "metadata": {
    "ExecuteTime": {
     "end_time": "2020-05-25T11:05:17.785821Z",
     "start_time": "2020-05-25T11:05:17.767678Z"
    }
   },
   "outputs": [],
   "source": [
    "import pandas as pd\n",
    "import numpy as np\n",
    "import matplotlib.pyplot as plt\n",
    "%matplotlib inline\n",
    "\n",
    "import re\n",
    "import os\n",
    "from glob import glob\n",
    "import sys\n",
    "# sys.path"
   ]
  },
  {
   "cell_type": "code",
   "execution_count": 342,
   "metadata": {
    "ExecuteTime": {
     "end_time": "2020-05-25T12:18:31.641868Z",
     "start_time": "2020-05-25T12:18:31.634103Z"
    }
   },
   "outputs": [],
   "source": [
    "file = glob(os.path.join(os.path.split(sys.path[0])[0], 'auxiliary', 'vp_poll*'))[0]"
   ]
  },
  {
   "cell_type": "code",
   "execution_count": 343,
   "metadata": {
    "ExecuteTime": {
     "end_time": "2020-05-25T12:18:32.162473Z",
     "start_time": "2020-05-25T12:18:32.154788Z"
    }
   },
   "outputs": [],
   "source": [
    "df_poll = pd.DataFrame()"
   ]
  },
  {
   "cell_type": "code",
   "execution_count": 386,
   "metadata": {
    "ExecuteTime": {
     "end_time": "2020-05-25T12:29:17.966716Z",
     "start_time": "2020-05-25T12:29:17.928837Z"
    }
   },
   "outputs": [
    {
     "data": {
      "text/plain": [
       "['Sheet1', 'Sheet2', 'Sheet3', 'Sheet4', 'Sheet5']"
      ]
     },
     "execution_count": 386,
     "metadata": {},
     "output_type": "execute_result"
    }
   ],
   "source": [
    "pd.ExcelFile(file).sheet_names"
   ]
  },
  {
   "cell_type": "code",
   "execution_count": 470,
   "metadata": {
    "ExecuteTime": {
     "end_time": "2020-05-25T12:41:14.423641Z",
     "start_time": "2020-05-25T12:41:14.410883Z"
    }
   },
   "outputs": [],
   "source": [
    "def clean_date(text):\n",
    "    inp = text\n",
    "    if len(inp) > 12:\n",
    "        try:\n",
    "\n",
    "            text = re.findall('(\\w{3})\\s\\d{1,2}.*?(?:(?=.*?\\w+)(\\w+.*?\\d{4})$)', text)\n",
    "            if text[0][-1][:2].isalpha():\n",
    "                date = text[0][-1]\n",
    "            else:\n",
    "                date = ' '.join(text[0])\n",
    "            return date\n",
    "        except:\n",
    "            print(inp)\n",
    "    else:\n",
    "        return inp"
   ]
  },
  {
   "cell_type": "code",
   "execution_count": 516,
   "metadata": {
    "ExecuteTime": {
     "end_time": "2020-05-25T12:49:11.547083Z",
     "start_time": "2020-05-25T12:49:11.283480Z"
    }
   },
   "outputs": [],
   "source": [
    "df_poll = pd.DataFrame()\n",
    "for n in range(1,6):\n",
    "    df = pd.read_excel(file, sheet_name = f'Sheet{n}')\n",
    "    df = pd.melt(df, id_vars='Date', value_vars = df.columns[1:])\n",
    "    df.columns = ['candidate', 'date', 'percentage']\n",
    "    df.date = pd.to_datetime(df.date.apply(clean_date))\n",
    "    df.percentage = df.percentage.apply(lambda x: x if isinstance(x, (int, float)) else np.nan)\n",
    "    df.candidate = df.candidate.astype(str)\n",
    "    df_poll = pd.concat([df_poll, df], axis=0)\n",
    "    df_poll = df_poll.drop_duplicates(subset=['candidate', 'date']).copy()"
   ]
  },
  {
   "cell_type": "code",
   "execution_count": 517,
   "metadata": {
    "ExecuteTime": {
     "end_time": "2020-05-25T12:49:11.924759Z",
     "start_time": "2020-05-25T12:49:11.918550Z"
    },
    "scrolled": false
   },
   "outputs": [],
   "source": [
    "cands = ['Bongbong Marcos', 'Leni Robredo']"
   ]
  },
  {
   "cell_type": "code",
   "execution_count": 518,
   "metadata": {
    "ExecuteTime": {
     "end_time": "2020-05-25T12:49:12.257399Z",
     "start_time": "2020-05-25T12:49:12.248209Z"
    }
   },
   "outputs": [
    {
     "data": {
      "text/plain": [
       "array(['Lito Atienza', 'Bam Aquino', 'Benigno Aquino III', 'Kris Aquino',\n",
       "       'Jejomar Binay', 'Alan Peter Cayetano', 'Miriam Defensor Santiago',\n",
       "       'Franklin Drilon', 'Rodrigo Duterte', 'JV Ejercito',\n",
       "       'Francis Escudero', 'Jinggoy Estrada', 'Joseph Estrada',\n",
       "       'Win Gatchalian', 'Kim Henares', 'Panfilo Lacson', 'Loren Legarda',\n",
       "       'Bongbong Marcos', 'Isko Moreno', 'Manny Pacquiao',\n",
       "       'Francis Pangilinan', 'Grace Poe', 'Bong Revilla', 'Leni Robredo',\n",
       "       'Mar Roxas', 'Vilma Santos', 'Antonio Trillanes', 'Others',\n",
       "       'Refused', \"Don't know\", 'None', 'Albert Alba', 'Gringo Honasan',\n",
       "       'Undecided/None'], dtype=object)"
      ]
     },
     "execution_count": 518,
     "metadata": {},
     "output_type": "execute_result"
    }
   ],
   "source": [
    "df_poll.candidate.unique()\n",
    "# .drop_duplicates()"
   ]
  },
  {
   "cell_type": "code",
   "execution_count": 520,
   "metadata": {
    "ExecuteTime": {
     "end_time": "2020-05-25T12:49:22.598668Z",
     "start_time": "2020-05-25T12:49:22.569039Z"
    },
    "scrolled": true
   },
   "outputs": [],
   "source": [
    "df= pd.crosstab(df_poll.candidate, df_poll.date, df_poll.percentage, aggfunc='mean').T[cands]"
   ]
  },
  {
   "cell_type": "code",
   "execution_count": 545,
   "metadata": {
    "ExecuteTime": {
     "end_time": "2020-05-25T12:53:36.569303Z",
     "start_time": "2020-05-25T12:53:36.307422Z"
    }
   },
   "outputs": [
    {
     "data": {
      "text/plain": [
       "<matplotlib.axes._subplots.AxesSubplot at 0x7f309156c050>"
      ]
     },
     "execution_count": 545,
     "metadata": {},
     "output_type": "execute_result"
    },
    {
     "data": {
      "image/png": "[encoded data removed]",
      "text/plain": [
       "<Figure size 432x288 with 1 Axes>"
      ]
     },
     "metadata": {
      "needs_background": "light"
     },
     "output_type": "display_data"
    }
   ],
   "source": [
    "df.resample('M').mean().bfill().plot()"
   ]
  },
  {
   "cell_type": "code",
   "execution_count": 550,
   "metadata": {
    "ExecuteTime": {
     "end_time": "2020-05-25T12:55:19.327696Z",
     "start_time": "2020-05-25T12:55:18.990894Z"
    }
   },
   "outputs": [
    {
     "data": {
      "text/plain": [
       "<matplotlib.axes._subplots.AxesSubplot at 0x7f30911adf50>"
      ]
     },
     "execution_count": 550,
     "metadata": {},
     "output_type": "execute_result"
    },
    {
     "data": {
      "image/png": "[encoded data removed]",
      "text/plain": [
       "<Figure size 432x288 with 1 Axes>"
      ]
     },
     "metadata": {
      "needs_background": "light"
     },
     "output_type": "display_data"
    }
   ],
   "source": [
    "(df[cands[0]] - df[cands[1]]).dropna().plot(kind='bar')"
   ]
  },
  {
   "cell_type": "code",
   "execution_count": 536,
   "metadata": {
    "ExecuteTime": {
     "end_time": "2020-05-25T12:51:43.471644Z",
     "start_time": "2020-05-25T12:51:42.985330Z"
    }
   },
   "outputs": [
    {
     "data": {
      "text/plain": [
       "<matplotlib.axes._subplots.AxesSubplot at 0x7f309db4f350>"
      ]
     },
     "execution_count": 536,
     "metadata": {},
     "output_type": "execute_result"
    },
    {
     "data": {
      "image/png": "[encoded data removed]",
      "text/plain": [
       "<Figure size 600x400 with 1 Axes>"
      ]
     },
     "metadata": {
      "needs_background": "light"
     },
     "output_type": "display_data"
    }
   ],
   "source": [
    "fig, ax = plt.subplots(dpi=100)\n",
    "# df.plot(kind='bar', ax=ax)\n",
    "(df[cands[0]] - df[cands[1]]).plot(kind='bar', ax=ax)"
   ]
  },
  {
   "cell_type": "code",
   "execution_count": 481,
   "metadata": {
    "ExecuteTime": {
     "end_time": "2020-05-25T12:43:19.587170Z",
     "start_time": "2020-05-25T12:43:19.577736Z"
    }
   },
   "outputs": [
    {
     "data": {
      "text/plain": [
       "'Mar Apr 1, 2016'"
      ]
     },
     "execution_count": 481,
     "metadata": {},
     "output_type": "execute_result"
    }
   ],
   "source": [
    "' '.join(text[0])"
   ]
  },
  {
   "cell_type": "code",
   "execution_count": 490,
   "metadata": {
    "ExecuteTime": {
     "end_time": "2020-05-25T12:44:39.039492Z",
     "start_time": "2020-05-25T12:44:39.031597Z"
    }
   },
   "outputs": [
    {
     "data": {
      "text/plain": [
       "array(['2014-03-26T00:00:00.000000000', '2014-07-06T00:00:00.000000000',\n",
       "       '2014-09-15T00:00:00.000000000', '2014-11-20T00:00:00.000000000',\n",
       "       '2015-03-07T00:00:00.000000000', '2015-03-23T00:00:00.000000000',\n",
       "       '2015-05-18T00:00:00.000000000', '2015-05-23T00:00:00.000000000',\n",
       "       '2015-06-05T00:00:00.000000000', '2015-06-08T00:00:00.000000000',\n",
       "       '2015-08-18T00:00:00.000000000', '2015-09-05T00:00:00.000000000',\n",
       "       '2015-09-15T00:00:00.000000000', '2015-11-05T00:00:00.000000000',\n",
       "       '2015-11-27T00:00:00.000000000', '2015-12-11T00:00:00.000000000',\n",
       "       '2015-12-12T00:00:00.000000000', '2015-12-14T00:00:00.000000000',\n",
       "       '2016-01-14T00:00:00.000000000', '2016-01-10T00:00:00.000000000',\n",
       "       '2016-01-28T00:00:00.000000000', '2016-02-04T00:00:00.000000000',\n",
       "       '2016-02-07T00:00:00.000000000', '2016-02-13T00:00:00.000000000',\n",
       "       '2016-02-20T00:00:00.000000000', '2016-02-27T00:00:00.000000000',\n",
       "       '2016-03-01T00:00:00.000000000', '2016-03-06T00:00:00.000000000',\n",
       "       '2016-03-07T00:00:00.000000000', '2016-03-13T00:00:00.000000000',\n",
       "       '2016-03-20T00:00:00.000000000', '2016-04-01T00:00:00.000000000',\n",
       "       '2016-04-02T00:00:00.000000000', '2016-04-03T00:00:00.000000000',\n",
       "       '2016-04-07T00:00:00.000000000', '2016-04-10T00:00:00.000000000',\n",
       "       '2016-04-16T00:00:00.000000000', '2016-04-17T00:00:00.000000000',\n",
       "       '2016-04-18T00:00:00.000000000', '2016-04-20T00:00:00.000000000',\n",
       "       '2016-04-24T00:00:00.000000000', '2016-04-29T00:00:00.000000000',\n",
       "       '2016-04-30T00:00:00.000000000', '2016-05-01T00:00:00.000000000',\n",
       "       '2016-05-03T00:00:00.000000000', '2016-05-05T00:00:00.000000000'],\n",
       "      dtype='datetime64[ns]')"
      ]
     },
     "execution_count": 490,
     "metadata": {},
     "output_type": "execute_result"
    }
   ],
   "source": [
    "df_poll.date.unique()"
   ]
  },
  {
   "cell_type": "code",
   "execution_count": 554,
   "metadata": {
    "ExecuteTime": {
     "end_time": "2020-05-25T12:56:42.910337Z",
     "start_time": "2020-05-25T12:56:42.879393Z"
    }
   },
   "outputs": [],
   "source": [
    "df_poll.dropna().to_csv(os.path.join(os.path.split(sys.path[0])[0], 'output', 'vp_poll.csv'), index=False)"
   ]
  },
  {
   "cell_type": "code",
   "execution_count": null,
   "metadata": {},
   "outputs": [],
   "source": []
  }
 ],
 "metadata": {
  "kernelspec": {
   "display_name": "Python 3",
   "language": "python",
   "name": "python3"
  },
  "language_info": {
   "codemirror_mode": {
    "name": "ipython",
    "version": 3
   },
   "file_extension": ".py",
   "mimetype": "text/x-python",
   "name": "python",
   "nbconvert_exporter": "python",
   "pygments_lexer": "ipython3",
   "version": "3.7.6"
  },
  "toc": {
   "base_numbering": 1,
   "nav_menu": {},
   "number_sections": true,
   "sideBar": true,
   "skip_h1_title": false,
   "title_cell": "Table of Contents",
   "title_sidebar": "Contents",
   "toc_cell": false,
   "toc_position": {},
   "toc_section_display": true,
   "toc_window_display": false
  }
 },
 "nbformat": 4,
 "nbformat_minor": 4
}
