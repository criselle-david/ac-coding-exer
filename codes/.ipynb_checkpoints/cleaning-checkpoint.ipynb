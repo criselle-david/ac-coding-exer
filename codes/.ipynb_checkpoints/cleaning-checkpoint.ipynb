{
 "cells": [
  {
   "cell_type": "markdown",
   "metadata": {
    "toc": true
   },
   "source": [
    "<h1>Table of Contents<span class=\"tocSkip\"></span></h1>\n",
    "<div class=\"toc\"><ul class=\"toc-item\"><li><span><a href=\"#Instructions\" data-toc-modified-id=\"Instructions-1\"><span class=\"toc-item-num\">1&nbsp;&nbsp;</span>Instructions</a></span></li><li><span><a href=\"#Workflow-Summary\" data-toc-modified-id=\"Workflow-Summary-2\"><span class=\"toc-item-num\">2&nbsp;&nbsp;</span>Workflow Summary</a></span></li><li><span><a href=\"#Preliminaries:-library-imports\" data-toc-modified-id=\"Preliminaries:-library-imports-3\"><span class=\"toc-item-num\">3&nbsp;&nbsp;</span>Preliminaries: library imports</a></span></li><li><span><a href=\"#Data-loading\" data-toc-modified-id=\"Data-loading-4\"><span class=\"toc-item-num\">4&nbsp;&nbsp;</span>Data loading</a></span></li><li><span><a href=\"#Data-dictionary\" data-toc-modified-id=\"Data-dictionary-5\"><span class=\"toc-item-num\">5&nbsp;&nbsp;</span>Data dictionary</a></span><ul class=\"toc-item\"><li><span><a href=\"#location\" data-toc-modified-id=\"location-5.1\"><span class=\"toc-item-num\">5.1&nbsp;&nbsp;</span><code>location</code></a></span></li><li><span><a href=\"#psgc\" data-toc-modified-id=\"psgc-5.2\"><span class=\"toc-item-num\">5.2&nbsp;&nbsp;</span><code>psgc</code></a></span></li><li><span><a href=\"#results-tables:-president-and-vice_president\" data-toc-modified-id=\"results-tables:-president-and-vice_president-5.3\"><span class=\"toc-item-num\">5.3&nbsp;&nbsp;</span>results tables: <code>president</code> and <code>vice_president</code></a></span><ul class=\"toc-item\"><li><span><a href=\"#unlabeled-columns\" data-toc-modified-id=\"unlabeled-columns-5.3.1\"><span class=\"toc-item-num\">5.3.1&nbsp;&nbsp;</span>unlabeled columns</a></span><ul class=\"toc-item\"><li><span><a href=\"#col5\" data-toc-modified-id=\"col5-5.3.1.1\"><span class=\"toc-item-num\">5.3.1.1&nbsp;&nbsp;</span><code>col5</code></a></span></li><li><span><a href=\"#col7,-col8\" data-toc-modified-id=\"col7,-col8-5.3.1.2\"><span class=\"toc-item-num\">5.3.1.2&nbsp;&nbsp;</span><code>col7</code>, <code>col8</code></a></span></li></ul></li></ul></li><li><span><a href=\"#granularity-of-information\" data-toc-modified-id=\"granularity-of-information-5.4\"><span class=\"toc-item-num\">5.4&nbsp;&nbsp;</span>granularity of information</a></span><ul class=\"toc-item\"><li><span><a href=\"#municipal-level-information\" data-toc-modified-id=\"municipal-level-information-5.4.1\"><span class=\"toc-item-num\">5.4.1&nbsp;&nbsp;</span>municipal level information</a></span></li><li><span><a href=\"#precinct-level-information\" data-toc-modified-id=\"precinct-level-information-5.4.2\"><span class=\"toc-item-num\">5.4.2&nbsp;&nbsp;</span>precinct level information</a></span></li><li><span><a href=\"#candidate-information---precinct-votes-breakdown\" data-toc-modified-id=\"candidate-information---precinct-votes-breakdown-5.4.3\"><span class=\"toc-item-num\">5.4.3&nbsp;&nbsp;</span>candidate information - precinct votes breakdown</a></span></li></ul></li></ul></li><li><span><a href=\"#Cleaning:-location-files\" data-toc-modified-id=\"Cleaning:-location-files-6\"><span class=\"toc-item-num\">6&nbsp;&nbsp;</span>Cleaning: location files</a></span><ul class=\"toc-item\"><li><span><a href=\"#first-pass-cleaning-:-provincial-level\" data-toc-modified-id=\"first-pass-cleaning-:-provincial-level-6.1\"><span class=\"toc-item-num\">6.1&nbsp;&nbsp;</span>first pass cleaning : provincial level</a></span></li><li><span><a href=\"#second-pass-cleaning:-municipal-level\" data-toc-modified-id=\"second-pass-cleaning:-municipal-level-6.2\"><span class=\"toc-item-num\">6.2&nbsp;&nbsp;</span>second pass cleaning: municipal level</a></span></li><li><span><a href=\"#third-pass:-barangay-level\" data-toc-modified-id=\"third-pass:-barangay-level-6.3\"><span class=\"toc-item-num\">6.3&nbsp;&nbsp;</span>third pass: barangay level</a></span></li></ul></li><li><span><a href=\"#mapping-tables\" data-toc-modified-id=\"mapping-tables-7\"><span class=\"toc-item-num\">7&nbsp;&nbsp;</span>mapping tables</a></span><ul class=\"toc-item\"><li><span><a href=\"#location-to-GADM-lookup\" data-toc-modified-id=\"location-to-GADM-lookup-7.1\"><span class=\"toc-item-num\">7.1&nbsp;&nbsp;</span>location to GADM lookup</a></span></li><li><span><a href=\"#precinct-code-lookup\" data-toc-modified-id=\"precinct-code-lookup-7.2\"><span class=\"toc-item-num\">7.2&nbsp;&nbsp;</span>precinct code lookup</a></span></li></ul></li><li><span><a href=\"#consolidate-lookup-information\" data-toc-modified-id=\"consolidate-lookup-information-8\"><span class=\"toc-item-num\">8&nbsp;&nbsp;</span>consolidate lookup information</a></span><ul class=\"toc-item\"><li><span><a href=\"#from-the-location-tables\" data-toc-modified-id=\"from-the-location-tables-8.1\"><span class=\"toc-item-num\">8.1&nbsp;&nbsp;</span>from the location tables</a></span></li><li><span><a href=\"#save-lookup-tables\" data-toc-modified-id=\"save-lookup-tables-8.2\"><span class=\"toc-item-num\">8.2&nbsp;&nbsp;</span>save lookup tables</a></span></li></ul></li><li><span><a href=\"#Denormalized-results-tables\" data-toc-modified-id=\"Denormalized-results-tables-9\"><span class=\"toc-item-num\">9&nbsp;&nbsp;</span>Denormalized results tables</a></span></li></ul></div>"
   ]
  },
  {
   "cell_type": "markdown",
   "metadata": {},
   "source": [
    "# Instructions\n",
    "\n",
    "Datasets:\n",
    "* `ref_table_precinct_locations_PSGC.csv` – lookup table for precincts\n",
    "* `results_president.csv` – precinct-level election results for the 2016 presidential race\n",
    "* `results_vice-president.csv` – precinct-level election results for the 2016 vice presidential race\n",
    "\n",
    "Tasks:\n",
    "1. Create a denormalized table replacing precinct_code in the results_*.csv files with the columns: region, province, municipality, and barangay. \n",
    "\n",
    "2. Create an interesting data visualization using this dataset."
   ]
  },
  {
   "cell_type": "markdown",
   "metadata": {},
   "source": [
    "# Workflow Summary\n",
    "\n",
    "1. Initial data inspection and data dictionary building\n",
    "2. Data cleaning\n",
    "3. EDA\n",
    "\n",
    "Since these datasets are rich with geodata, we'll use GADM shape files for plotting later on. This entails cleaning the location tags to match with the GADM labels. The general workflow for cleaning is divided in to three parts:\n",
    "1. Exact matching by merging the shape files and the location dataframe\n",
    "2. Manual cleaning for some items, especially those tagged as overseas votes since they are easily identifiable and we're sure that they're not in our shape files.\n",
    "3. Fuzzy matching for the rest of the entries.\n",
    "\n",
    "The result after these steps is a lookup table of precinct codes with the correct GADM location tags so we can easily merge them in Tableau for visualization, and a denormalized table for the `results` file so we can do preliminary EDA on the dataset."
   ]
  },
  {
   "cell_type": "markdown",
   "metadata": {},
   "source": [
    "# Preliminaries: library imports"
   ]
  },
  {
   "cell_type": "code",
   "execution_count": 1,
   "metadata": {
    "ExecuteTime": {
     "end_time": "2020-05-23T05:29:13.490715Z",
     "start_time": "2020-05-23T05:29:02.473857Z"
    }
   },
   "outputs": [],
   "source": [
    "import pandas as pd\n",
    "import numpy as np\n",
    "import matplotlib.pyplot as plt\n",
    "%matplotlib inline\n",
    "\n",
    "#geodata\n",
    "import geopandas as gpd\n",
    "\n",
    "#utilities\n",
    "import os\n",
    "import shutil\n",
    "from glob import glob\n",
    "from operator import itemgetter\n",
    "from collections import defaultdict\n",
    "import json\n",
    "from tqdm import tqdm\n",
    "\n",
    "#for fuzzy maching\n",
    "from fuzzywuzzy import process\n",
    "\n",
    "# spark imports\n",
    "from pyspark.sql import SparkSession\n",
    "from pyspark import SparkContext\n",
    "from pyspark.sql.functions import udf\n",
    "import pyspark.sql.functions as F\n",
    "from pyspark.sql import Row\n",
    "\n",
    "sc = SparkContext()\n",
    "spark = SparkSession(sc)"
   ]
  },
  {
   "cell_type": "code",
   "execution_count": 2,
   "metadata": {
    "ExecuteTime": {
     "end_time": "2020-05-23T02:12:08.791861Z",
     "start_time": "2020-05-23T02:12:08.782539Z"
    }
   },
   "outputs": [
    {
     "name": "stdout",
     "output_type": "stream",
     "text": [
      "folder already exists!\n"
     ]
    }
   ],
   "source": [
    "try:\n",
    "    os.mkdir(os.path.join('..', 'output'))\n",
    "except:\n",
    "    print('folder already exists!')"
   ]
  },
  {
   "cell_type": "code",
   "execution_count": null,
   "metadata": {
    "ExecuteTime": {
     "end_time": "2020-05-22T17:44:05.358130Z",
     "start_time": "2020-05-22T17:43:51.520082Z"
    }
   },
   "outputs": [],
   "source": [
    "def save_query_to_csv(query, filename):\n",
    "    path = os.path.join('..', 'output', filename)\n",
    "    try:\n",
    "        spark.sql(query\n",
    "                 ).coalesce(1).write.option(\n",
    "            \"header\", \"true\").csv(path)\n",
    "        print('file saved!')\n",
    "    except:\n",
    "        inp = input('file already exists! retry save? Y/N')\n",
    "        if inp =='Y':\n",
    "            shutil.rmtree(path)\n",
    "            save_query_to_csv(query, filename)\n",
    "        else:\n",
    "            pass"
   ]
  },
  {
   "cell_type": "markdown",
   "metadata": {},
   "source": [
    "# Data loading"
   ]
  },
  {
   "cell_type": "code",
   "execution_count": 2,
   "metadata": {
    "ExecuteTime": {
     "end_time": "2020-05-23T05:29:13.509021Z",
     "start_time": "2020-05-23T05:29:13.498793Z"
    }
   },
   "outputs": [],
   "source": [
    "shape_files = sorted(glob(os.path.join('..', 'gadm', \"gadm*.shp\")))[1:]\n",
    "data_files = sorted(glob(os.path.join('..', 'datasets', '*.csv')))"
   ]
  },
  {
   "cell_type": "code",
   "execution_count": 3,
   "metadata": {
    "ExecuteTime": {
     "end_time": "2020-05-23T05:29:13.531823Z",
     "start_time": "2020-05-23T05:29:13.513982Z"
    }
   },
   "outputs": [
    {
     "data": {
      "text/plain": [
       "{'location': '../datasets/ref_table_precinct_locations.csv',\n",
       " 'psgc': '../datasets/ref_table_precinct_locations_PSGC.csv',\n",
       " 'president': '../datasets/results_president.csv',\n",
       " 'vice_president': '../datasets/results_vice-president.csv'}"
      ]
     },
     "execution_count": 3,
     "metadata": {},
     "output_type": "execute_result"
    }
   ],
   "source": [
    "datasets = dict(map(lambda x: (x.strip(r'.csv').split('_')[-1].lower().replace('-', '_'), x), data_files))\n",
    "datasets"
   ]
  },
  {
   "cell_type": "code",
   "execution_count": 4,
   "metadata": {
    "ExecuteTime": {
     "end_time": "2020-05-23T05:29:13.542791Z",
     "start_time": "2020-05-23T05:29:13.535048Z"
    }
   },
   "outputs": [
    {
     "data": {
      "text/plain": [
       "{'provincial': '../gadm/gadm36_PHL_1.shp',\n",
       " 'municipal': '../gadm/gadm36_PHL_2.shp',\n",
       " 'brgy': '../gadm/gadm36_PHL_3.shp'}"
      ]
     },
     "execution_count": 4,
     "metadata": {},
     "output_type": "execute_result"
    }
   ],
   "source": [
    "shapes = dict(zip(['provincial', 'municipal', 'brgy'], shape_files))\n",
    "shapes"
   ]
  },
  {
   "cell_type": "code",
   "execution_count": 5,
   "metadata": {
    "ExecuteTime": {
     "end_time": "2020-05-23T05:29:20.120244Z",
     "start_time": "2020-05-23T05:29:13.550085Z"
    }
   },
   "outputs": [
    {
     "name": "stderr",
     "output_type": "stream",
     "text": [
      "100%|██████████| 4/4 [00:06<00:00,  1.64s/it]\n"
     ]
    }
   ],
   "source": [
    "for label, filepath in tqdm(datasets.items()):\n",
    "    datasets[label] = spark.read.csv(filepath, sep=',', header=True)\n",
    "#     print(label)\n",
    "#     display(datasets[label].limit(2).toPandas())\n",
    "    datasets[label].createOrReplaceTempView(label)"
   ]
  },
  {
   "cell_type": "code",
   "execution_count": 6,
   "metadata": {
    "ExecuteTime": {
     "end_time": "2020-05-23T05:29:26.566225Z",
     "start_time": "2020-05-23T05:29:20.124928Z"
    }
   },
   "outputs": [
    {
     "name": "stderr",
     "output_type": "stream",
     "text": [
      "100%|██████████| 3/3 [00:06<00:00,  2.14s/it]\n"
     ]
    }
   ],
   "source": [
    "for label, filepath in tqdm(shapes.items()):\n",
    "#     print(label)\n",
    "    gdf = gpd.GeoDataFrame.from_file(filepath)\n",
    "    col_include = list(filter(lambda x: x.startswith('NAME') or x.startswith('VAR'), gdf.columns))\n",
    "    df = pd.DataFrame(gdf[col_include])\n",
    "    for col in df.columns:\n",
    "        df[col] = df[col].astype(str) \n",
    "    shapes[label] = spark.createDataFrame(df)\n",
    "    shapes[label].createOrReplaceTempView(label)\n",
    "#     display(shapes[label].limit(2).toPandas())"
   ]
  },
  {
   "cell_type": "code",
   "execution_count": 8,
   "metadata": {
    "ExecuteTime": {
     "end_time": "2020-05-23T02:12:27.213840Z",
     "start_time": "2020-05-23T02:12:27.014688Z"
    }
   },
   "outputs": [
    {
     "name": "stdout",
     "output_type": "stream",
     "text": [
      "+--------+--------------+-----------+\n",
      "|database|     tableName|isTemporary|\n",
      "+--------+--------------+-----------+\n",
      "|        |          brgy|       true|\n",
      "|        |      location|       true|\n",
      "|        |     municipal|       true|\n",
      "|        |     president|       true|\n",
      "|        |    provincial|       true|\n",
      "|        |          psgc|       true|\n",
      "|        |vice_president|       true|\n",
      "+--------+--------------+-----------+\n",
      "\n"
     ]
    }
   ],
   "source": [
    "spark.sql(\"SHOW TABLES\").show()"
   ]
  },
  {
   "cell_type": "markdown",
   "metadata": {},
   "source": [
    "# Data dictionary\n",
    "\n",
    "First, we check the available data fields and the granularity of the information available. By building a data dictionary, we also establish the relationship of the fields from different datasets so we can decide which information is relevant in building our denormalized OLAP table. If there are unlabled columns, we also try to resolve those in this section. Lastly, we map out the hierarchy of data available to us in order to easily visualize the overview of our datasets."
   ]
  },
  {
   "cell_type": "code",
   "execution_count": 9,
   "metadata": {
    "ExecuteTime": {
     "end_time": "2020-05-23T02:12:29.741822Z",
     "start_time": "2020-05-23T02:12:29.733375Z"
    }
   },
   "outputs": [
    {
     "data": {
      "text/plain": [
       "dict_keys(['location', 'psgc', 'president', 'vice_president'])"
      ]
     },
     "execution_count": 9,
     "metadata": {},
     "output_type": "execute_result"
    }
   ],
   "source": [
    "datasets.keys()"
   ]
  },
  {
   "cell_type": "markdown",
   "metadata": {},
   "source": [
    "## `location`\n",
    "* filename : `ref_table_precinct_locations.csv`\n",
    "* `registered_voters` and `ballots_cast` are both per precinct\n",
    "* multiple precinct codes per barangay"
   ]
  },
  {
   "cell_type": "code",
   "execution_count": 10,
   "metadata": {
    "ExecuteTime": {
     "end_time": "2020-05-23T02:12:32.455423Z",
     "start_time": "2020-05-23T02:12:32.433810Z"
    }
   },
   "outputs": [
    {
     "name": "stdout",
     "output_type": "stream",
     "text": [
      "root\n",
      " |-- precinct_code: string (nullable = true)\n",
      " |-- region: string (nullable = true)\n",
      " |-- province: string (nullable = true)\n",
      " |-- municipality: string (nullable = true)\n",
      " |-- barangay: string (nullable = true)\n",
      " |-- registered_voters: string (nullable = true)\n",
      " |-- ballots_cast: string (nullable = true)\n",
      "\n"
     ]
    }
   ],
   "source": [
    "datasets['location'].printSchema()"
   ]
  },
  {
   "cell_type": "code",
   "execution_count": 11,
   "metadata": {
    "ExecuteTime": {
     "end_time": "2020-05-23T02:12:33.134615Z",
     "start_time": "2020-05-23T02:12:32.912593Z"
    }
   },
   "outputs": [
    {
     "name": "stdout",
     "output_type": "stream",
     "text": [
      "+-------------+--------+----------+------------+--------+-----------------+------------+\n",
      "|precinct_code|  region|  province|municipality|barangay|registered_voters|ballots_cast|\n",
      "+-------------+--------+----------+------------+--------+-----------------+------------+\n",
      "|     55170026|REGION I|PANGASINAN|    CALASIAO| BUENLAG|              592|         503|\n",
      "|     55170027|REGION I|PANGASINAN|    CALASIAO| BUENLAG|              526|         458|\n",
      "+-------------+--------+----------+------------+--------+-----------------+------------+\n",
      "only showing top 2 rows\n",
      "\n"
     ]
    }
   ],
   "source": [
    "datasets['location'].show(2)"
   ]
  },
  {
   "cell_type": "markdown",
   "metadata": {
    "ExecuteTime": {
     "end_time": "2020-05-23T01:47:03.232104Z",
     "start_time": "2020-05-23T01:47:03.227708Z"
    }
   },
   "source": [
    "## `psgc`\n",
    "\n",
    "* filename: `ref_table_precinct_locations_PSGC.csv`\n",
    "\n",
    "**NOTES**\n",
    "* PSGC = [Philippine Standard Geographic Code](https://psa.gov.ph/classification/psgc/)\n",
    "* same fields as `location`:\n",
    "```python\n",
    " |-- precinct_code: string (nullable = true)\n",
    " |-- region: string (nullable = true)\n",
    " |-- province: string (nullable = true)\n",
    " |-- municipality: string (nullable = true)\n",
    " |-- barangay: string (nullable = true)\n",
    " |-- registered_voters: string (nullable = true)\n",
    " |-- ballots_cast: string (nullable = true)\n",
    "```\n",
    "\n",
    "* additional fields:\n",
    "    * `PSGC_CM`, `province_CM`, `municipality_CM` - PSGC-specific code, goes down to barangay level\n",
    "    * `is_city` - flag for city, 1 if city, 0 if not\n",
    "    * `income_class` - municipal level\n",
    "    * `population` - population, municipal level\n",
    "    * `land_area` - municipal level; unit: $m^2$\n"
   ]
  },
  {
   "cell_type": "code",
   "execution_count": 12,
   "metadata": {
    "ExecuteTime": {
     "end_time": "2020-05-23T02:12:37.491905Z",
     "start_time": "2020-05-23T02:12:37.483080Z"
    }
   },
   "outputs": [
    {
     "name": "stdout",
     "output_type": "stream",
     "text": [
      "root\n",
      " |-- _c0: string (nullable = true)\n",
      " |-- precinct_code: string (nullable = true)\n",
      " |-- region: string (nullable = true)\n",
      " |-- province: string (nullable = true)\n",
      " |-- municipality: string (nullable = true)\n",
      " |-- barangay: string (nullable = true)\n",
      " |-- registered_voters: string (nullable = true)\n",
      " |-- ballots_cast: string (nullable = true)\n",
      " |-- PSGC_CM: string (nullable = true)\n",
      " |-- is_city: string (nullable = true)\n",
      " |-- income_class: string (nullable = true)\n",
      " |-- population: string (nullable = true)\n",
      " |-- land_area: string (nullable = true)\n",
      " |-- province_CM: string (nullable = true)\n",
      " |-- municipality_CM: string (nullable = true)\n",
      "\n"
     ]
    }
   ],
   "source": [
    "datasets['psgc'].printSchema()"
   ]
  },
  {
   "cell_type": "code",
   "execution_count": 92,
   "metadata": {
    "ExecuteTime": {
     "end_time": "2020-05-23T03:18:03.225534Z",
     "start_time": "2020-05-23T03:18:02.876489Z"
    }
   },
   "outputs": [
    {
     "data": {
      "text/html": [
       "<div>\n",
       "<style scoped>\n",
       "    .dataframe tbody tr th:only-of-type {\n",
       "        vertical-align: middle;\n",
       "    }\n",
       "\n",
       "    .dataframe tbody tr th {\n",
       "        vertical-align: top;\n",
       "    }\n",
       "\n",
       "    .dataframe thead th {\n",
       "        text-align: right;\n",
       "    }\n",
       "</style>\n",
       "<table border=\"1\" class=\"dataframe\">\n",
       "  <thead>\n",
       "    <tr style=\"text-align: right;\">\n",
       "      <th></th>\n",
       "      <th>_c0</th>\n",
       "      <th>precinct_code</th>\n",
       "      <th>region</th>\n",
       "      <th>province</th>\n",
       "      <th>municipality</th>\n",
       "      <th>barangay</th>\n",
       "      <th>registered_voters</th>\n",
       "      <th>ballots_cast</th>\n",
       "      <th>PSGC_CM</th>\n",
       "      <th>is_city</th>\n",
       "      <th>income_class</th>\n",
       "      <th>population</th>\n",
       "      <th>land_area</th>\n",
       "      <th>province_CM</th>\n",
       "      <th>municipality_CM</th>\n",
       "    </tr>\n",
       "  </thead>\n",
       "  <tbody>\n",
       "    <tr>\n",
       "      <th>0</th>\n",
       "      <td>0</td>\n",
       "      <td>55170026</td>\n",
       "      <td>REGION I</td>\n",
       "      <td>PANGASINAN</td>\n",
       "      <td>CALASIAO</td>\n",
       "      <td>BUENLAG</td>\n",
       "      <td>592</td>\n",
       "      <td>503</td>\n",
       "      <td>15517000</td>\n",
       "      <td>0.0</td>\n",
       "      <td>1st</td>\n",
       "      <td>91109.0</td>\n",
       "      <td>4836.0</td>\n",
       "      <td>PANGASINAN</td>\n",
       "      <td>CALASIAO</td>\n",
       "    </tr>\n",
       "  </tbody>\n",
       "</table>\n",
       "</div>"
      ],
      "text/plain": [
       "  _c0 precinct_code    region    province municipality barangay  \\\n",
       "0   0      55170026  REGION I  PANGASINAN     CALASIAO  BUENLAG   \n",
       "\n",
       "  registered_voters ballots_cast   PSGC_CM is_city income_class population  \\\n",
       "0               592          503  15517000     0.0          1st    91109.0   \n",
       "\n",
       "  land_area province_CM municipality_CM  \n",
       "0    4836.0  PANGASINAN        CALASIAO  "
      ]
     },
     "execution_count": 92,
     "metadata": {},
     "output_type": "execute_result"
    }
   ],
   "source": [
    "datasets['psgc'].where('precinct_code = 55170026').toPandas()"
   ]
  },
  {
   "cell_type": "markdown",
   "metadata": {
    "ExecuteTime": {
     "end_time": "2020-05-23T02:00:50.789785Z",
     "start_time": "2020-05-23T02:00:50.578776Z"
    }
   },
   "source": [
    "## results tables: `president` and `vice_president`\n",
    "filename: `results_*.csv`\n",
    "* `precinct_code`\n",
    "* `contest_code` - position-specific code, same for all candidates running in the same position\n",
    "* `candidate_name` - candidate name; code inside the parentheses indicate party affiliation\n",
    "* `party_code` - numerical code for party affiliation\n",
    "* `votes` - number of votes garnered in precinct\n",
    "* `col5` - candidate code; numerical identifier, distinct per candidate\n",
    "* `ballots_cast` - number of total ballots casted in precinct\n",
    "* `col7` - \n",
    "* `col8` - \n",
    "* `timestamp` - time of upload of electoral results per precinct (should be one value per precinct)\n",
    "* `pct_votes` - `votes`/`ballots_cast`"
   ]
  },
  {
   "cell_type": "code",
   "execution_count": 27,
   "metadata": {
    "ExecuteTime": {
     "end_time": "2020-05-23T02:27:33.697133Z",
     "start_time": "2020-05-23T02:27:33.688201Z"
    }
   },
   "outputs": [
    {
     "name": "stdout",
     "output_type": "stream",
     "text": [
      "root\n",
      " |-- precinct_code: string (nullable = true)\n",
      " |-- contest_code: string (nullable = true)\n",
      " |-- candidate_name: string (nullable = true)\n",
      " |-- party_code: string (nullable = true)\n",
      " |-- votes: string (nullable = true)\n",
      " |-- col5: string (nullable = true)\n",
      " |-- ballots_cast: string (nullable = true)\n",
      " |-- col7: string (nullable = true)\n",
      " |-- col8: string (nullable = true)\n",
      " |-- timestamp: string (nullable = true)\n",
      " |-- pct_votes: string (nullable = true)\n",
      "\n"
     ]
    }
   ],
   "source": [
    "datasets['president'].printSchema()"
   ]
  },
  {
   "cell_type": "markdown",
   "metadata": {},
   "source": [
    "### unlabeled columns"
   ]
  },
  {
   "cell_type": "markdown",
   "metadata": {},
   "source": [
    "#### `col5`\n",
    "* candidate code - unique per candidate"
   ]
  },
  {
   "cell_type": "code",
   "execution_count": 125,
   "metadata": {
    "ExecuteTime": {
     "end_time": "2020-05-23T04:30:10.874908Z",
     "start_time": "2020-05-23T04:30:10.028095Z"
    }
   },
   "outputs": [
    {
     "name": "stdout",
     "output_type": "stream",
     "text": [
      "+----+--------------------+\n",
      "|col5|      candidate_name|\n",
      "+----+--------------------+\n",
      "|   4|    POE, GRACE (IND)|\n",
      "|   1|   BINAY, JOJO (UNA)|\n",
      "|   5|ROXAS, MAR DAANG ...|\n",
      "|   6|SEÑERES, ROY (WPP...|\n",
      "|   2|DEFENSOR SANTIAGO...|\n",
      "|   3|DUTERTE, RODY (PD...|\n",
      "+----+--------------------+\n",
      "\n"
     ]
    }
   ],
   "source": [
    "spark.sql(\"\"\"SELECT DISTINCT col5, candidate_name FROM president\"\"\").show()b"
   ]
  },
  {
   "cell_type": "markdown",
   "metadata": {},
   "source": [
    "#### `col7`, `col8`\n",
    "* unique per precinct."
   ]
  },
  {
   "cell_type": "code",
   "execution_count": 138,
   "metadata": {
    "ExecuteTime": {
     "end_time": "2020-05-23T04:41:16.414486Z",
     "start_time": "2020-05-23T04:41:11.674578Z"
    }
   },
   "outputs": [
    {
     "name": "stdout",
     "output_type": "stream",
     "text": [
      "+-------------+-----------+-----------+\n",
      "|precinct_code|count(col7)|count(col8)|\n",
      "+-------------+-----------+-----------+\n",
      "|     24020457|          1|          1|\n",
      "|     22170586|          1|          1|\n",
      "|     72110015|          1|          1|\n",
      "|      4050001|          1|          1|\n",
      "|     34050056|          1|          1|\n",
      "+-------------+-----------+-----------+\n",
      "\n"
     ]
    }
   ],
   "source": [
    "spark.sql('''\n",
    "            SELECT \n",
    "                precinct_code,\n",
    "                count(col7),\n",
    "                count(col8)\n",
    "            FROM (SELECT DISTINCT precinct_code, col7, col8 FROM president)\n",
    "            GROUP BY precinct_code\n",
    "            ORDER BY count(col7) DESC, count(col8) DESC\n",
    "            LIMIT 5\n",
    "            ''').show()"
   ]
  },
  {
   "cell_type": "markdown",
   "metadata": {},
   "source": [
    "* could be number of abstain and invalid votes"
   ]
  },
  {
   "cell_type": "code",
   "execution_count": 137,
   "metadata": {
    "ExecuteTime": {
     "end_time": "2020-05-23T04:40:56.514524Z",
     "start_time": "2020-05-23T04:40:55.208443Z"
    }
   },
   "outputs": [
    {
     "name": "stdout",
     "output_type": "stream",
     "text": [
      "+-------------+-----------+------------+----+----+-------+----+\n",
      "|precinct_code|total_votes|ballots_cast|col7|col8|sum_all|diff|\n",
      "+-------------+-----------+------------+----+----+-------+----+\n",
      "|     30210009|      279.0|         300|   7|  14|  300.0| 0.0|\n",
      "|     70020039|      286.0|         289|   2|   1|  289.0| 0.0|\n",
      "|     38120006|      537.0|         574|  15|  22|  574.0| 0.0|\n",
      "|     10320013|      507.0|         526|  12|   7|  526.0| 0.0|\n",
      "|     71080017|      394.0|         425|  28|   3|  425.0| 0.0|\n",
      "|     39101260|      509.0|         515|   3|   3|  515.0| 0.0|\n",
      "|     58130129|      529.0|         534|   4|   1|  534.0| 0.0|\n",
      "|     21190064|      410.0|         417|   6|   1|  417.0| 0.0|\n",
      "|      8060009|      375.0|         383|   5|   3|  383.0| 0.0|\n",
      "|     36030018|      133.0|         137|   2|   2|  137.0| 0.0|\n",
      "|     56190045|      359.0|         364|   5|   0|  364.0| 0.0|\n",
      "|     14230094|      520.0|         533|   6|   7|  533.0| 0.0|\n",
      "|     14190015|      548.0|         571|  18|   5|  571.0| 0.0|\n",
      "|     21180190|      550.0|         558|   4|   4|  558.0| 0.0|\n",
      "|     11130019|      438.0|         446|   4|   4|  446.0| 0.0|\n",
      "|     76010083|      440.0|         446|   5|   1|  446.0| 0.0|\n",
      "|     76070316|      494.0|         495|   0|   1|  495.0| 0.0|\n",
      "|     10290055|      587.0|         611|  14|  10|  611.0| 0.0|\n",
      "|     10160031|      569.0|         583|  11|   3|  583.0| 0.0|\n",
      "|     74030302|      596.0|         601|   3|   2|  601.0| 0.0|\n",
      "+-------------+-----------+------------+----+----+-------+----+\n",
      "\n"
     ]
    }
   ],
   "source": [
    "spark.sql('''\n",
    "        SELECT \n",
    "            precinct_code,\n",
    "            SUM(votes) total_votes,\n",
    "            ballots_cast,\n",
    "            col7,\n",
    "            col8,\n",
    "            SUM(votes) + col7 + col8 sum_all,\n",
    "            ballots_cast - (SUM(votes) + col7 + col8) diff\n",
    "        FROM\n",
    "            president\n",
    "        GROUP BY\n",
    "            precinct_code, \n",
    "            ballots_cast, \n",
    "            col7, col8 \n",
    "        ORDER BY diff\n",
    "        LIMIT 20\n",
    "            ''').show()"
   ]
  },
  {
   "cell_type": "code",
   "execution_count": 114,
   "metadata": {
    "ExecuteTime": {
     "end_time": "2020-05-23T03:39:04.253624Z",
     "start_time": "2020-05-23T03:39:01.429068Z"
    }
   },
   "outputs": [
    {
     "data": {
      "text/html": [
       "<div>\n",
       "<style scoped>\n",
       "    .dataframe tbody tr th:only-of-type {\n",
       "        vertical-align: middle;\n",
       "    }\n",
       "\n",
       "    .dataframe tbody tr th {\n",
       "        vertical-align: top;\n",
       "    }\n",
       "\n",
       "    .dataframe thead th {\n",
       "        text-align: right;\n",
       "    }\n",
       "</style>\n",
       "<table border=\"1\" class=\"dataframe\">\n",
       "  <thead>\n",
       "    <tr style=\"text-align: right;\">\n",
       "      <th></th>\n",
       "      <th>precinct_code</th>\n",
       "      <th>total_votes</th>\n",
       "      <th>ballots_cast</th>\n",
       "      <th>col7</th>\n",
       "      <th>col8</th>\n",
       "      <th>sum_all</th>\n",
       "      <th>diff</th>\n",
       "    </tr>\n",
       "  </thead>\n",
       "  <tbody>\n",
       "    <tr>\n",
       "      <th>0</th>\n",
       "      <td>8090013</td>\n",
       "      <td>509.0</td>\n",
       "      <td>542</td>\n",
       "      <td>27</td>\n",
       "      <td>6</td>\n",
       "      <td>542.0</td>\n",
       "      <td>0.0</td>\n",
       "    </tr>\n",
       "    <tr>\n",
       "      <th>1</th>\n",
       "      <td>10280058</td>\n",
       "      <td>442.0</td>\n",
       "      <td>465</td>\n",
       "      <td>19</td>\n",
       "      <td>4</td>\n",
       "      <td>465.0</td>\n",
       "      <td>0.0</td>\n",
       "    </tr>\n",
       "    <tr>\n",
       "      <th>2</th>\n",
       "      <td>71100022</td>\n",
       "      <td>585.0</td>\n",
       "      <td>606</td>\n",
       "      <td>16</td>\n",
       "      <td>5</td>\n",
       "      <td>606.0</td>\n",
       "      <td>0.0</td>\n",
       "    </tr>\n",
       "    <tr>\n",
       "      <th>3</th>\n",
       "      <td>76030232</td>\n",
       "      <td>572.0</td>\n",
       "      <td>591</td>\n",
       "      <td>10</td>\n",
       "      <td>9</td>\n",
       "      <td>591.0</td>\n",
       "      <td>0.0</td>\n",
       "    </tr>\n",
       "    <tr>\n",
       "      <th>4</th>\n",
       "      <td>49110077</td>\n",
       "      <td>352.0</td>\n",
       "      <td>369</td>\n",
       "      <td>14</td>\n",
       "      <td>3</td>\n",
       "      <td>369.0</td>\n",
       "      <td>0.0</td>\n",
       "    </tr>\n",
       "    <tr>\n",
       "      <th>...</th>\n",
       "      <td>...</td>\n",
       "      <td>...</td>\n",
       "      <td>...</td>\n",
       "      <td>...</td>\n",
       "      <td>...</td>\n",
       "      <td>...</td>\n",
       "      <td>...</td>\n",
       "    </tr>\n",
       "    <tr>\n",
       "      <th>90355</th>\n",
       "      <td>46240030</td>\n",
       "      <td>336.0</td>\n",
       "      <td>664</td>\n",
       "      <td>280</td>\n",
       "      <td>8</td>\n",
       "      <td>624.0</td>\n",
       "      <td>40.0</td>\n",
       "    </tr>\n",
       "    <tr>\n",
       "      <th>90356</th>\n",
       "      <td>46160026</td>\n",
       "      <td>263.0</td>\n",
       "      <td>512</td>\n",
       "      <td>184</td>\n",
       "      <td>19</td>\n",
       "      <td>466.0</td>\n",
       "      <td>46.0</td>\n",
       "    </tr>\n",
       "    <tr>\n",
       "      <th>90357</th>\n",
       "      <td>86010016</td>\n",
       "      <td>295.0</td>\n",
       "      <td>513</td>\n",
       "      <td>156</td>\n",
       "      <td>16</td>\n",
       "      <td>467.0</td>\n",
       "      <td>46.0</td>\n",
       "    </tr>\n",
       "    <tr>\n",
       "      <th>90358</th>\n",
       "      <td>22420025</td>\n",
       "      <td>434.0</td>\n",
       "      <td>604</td>\n",
       "      <td>105</td>\n",
       "      <td>18</td>\n",
       "      <td>557.0</td>\n",
       "      <td>47.0</td>\n",
       "    </tr>\n",
       "    <tr>\n",
       "      <th>90359</th>\n",
       "      <td>22240058</td>\n",
       "      <td>371.0</td>\n",
       "      <td>535</td>\n",
       "      <td>95</td>\n",
       "      <td>19</td>\n",
       "      <td>485.0</td>\n",
       "      <td>50.0</td>\n",
       "    </tr>\n",
       "  </tbody>\n",
       "</table>\n",
       "<p>90360 rows × 7 columns</p>\n",
       "</div>"
      ],
      "text/plain": [
       "      precinct_code  total_votes ballots_cast col7 col8  sum_all  diff\n",
       "0           8090013        509.0          542   27    6    542.0   0.0\n",
       "1          10280058        442.0          465   19    4    465.0   0.0\n",
       "2          71100022        585.0          606   16    5    606.0   0.0\n",
       "3          76030232        572.0          591   10    9    591.0   0.0\n",
       "4          49110077        352.0          369   14    3    369.0   0.0\n",
       "...             ...          ...          ...  ...  ...      ...   ...\n",
       "90355      46240030        336.0          664  280    8    624.0  40.0\n",
       "90356      46160026        263.0          512  184   19    466.0  46.0\n",
       "90357      86010016        295.0          513  156   16    467.0  46.0\n",
       "90358      22420025        434.0          604  105   18    557.0  47.0\n",
       "90359      22240058        371.0          535   95   19    485.0  50.0\n",
       "\n",
       "[90360 rows x 7 columns]"
      ]
     },
     "execution_count": 114,
     "metadata": {},
     "output_type": "execute_result"
    }
   ],
   "source": [
    "test = spark.sql('''select \n",
    "              precinct_code, \n",
    "              sum(votes) total_votes, \n",
    "              ballots_cast, \n",
    "              col7, \n",
    "              col8,\n",
    "              sum(votes) + col7 + col8 sum_all,\n",
    "              ballots_cast - (sum(votes) + col7 + col8) diff\n",
    "              from  \n",
    "                  vice_president \n",
    "            group by \n",
    "                precinct_code, \n",
    "                ballots_cast, \n",
    "                col7, col8 \n",
    "            order by diff\n",
    "            ''').toPandas()\n",
    "test"
   ]
  },
  {
   "cell_type": "markdown",
   "metadata": {
    "ExecuteTime": {
     "end_time": "2020-05-23T04:04:42.915052Z",
     "start_time": "2020-05-23T04:04:42.912272Z"
    }
   },
   "source": [
    "## granularity of information"
   ]
  },
  {
   "cell_type": "markdown",
   "metadata": {},
   "source": [
    "```python\n",
    "|-- region\n",
    "|---- province\n",
    "|------ municipality\n",
    "|      |--income_class\n",
    "|      |--population\n",
    "|      |--land_area\n",
    "|      |--is_city\n",
    "|-------- barangay\n",
    "|---------- precinct\n",
    "|           |--precinct_code\n",
    "|           |--registered_voters\n",
    "|           |--ballots_cast\n",
    "|           |--timestamp\n",
    "|           |--invalid_votes\n",
    "|           |--abstain\n",
    "|...............candidates (party_code)\n",
    "               |-- votes\n",
    "               |-- pct_votes\n",
    "\n",
    "```\n",
    "\n",
    "\n",
    "from `location` table:\n",
    "* `precinct_code`\n",
    "* `region`\n",
    "* `province`\n",
    "* `municipality`\n",
    "* `barangay`\n",
    "* `registered_voters`\n",
    "* `ballots_cast`\n",
    "\n",
    "from `psgc` table:\n",
    "* `is_city`\n",
    "* `income_class`\n",
    "* `population`\n",
    "* `land_area`\n",
    "\n",
    "from results tables (`president` and `vice_president`)\n",
    "* `candidate_name`\n",
    "* `party_code`\n",
    "* `votes`\n",
    "* `col7`\n",
    "* `col8`\n",
    "* `timestamp`\n",
    "* `pct_votes`"
   ]
  },
  {
   "cell_type": "markdown",
   "metadata": {},
   "source": [
    "### municipal level information"
   ]
  },
  {
   "cell_type": "code",
   "execution_count": 39,
   "metadata": {
    "ExecuteTime": {
     "end_time": "2020-05-23T05:41:03.853336Z",
     "start_time": "2020-05-23T05:41:03.329483Z"
    },
    "scrolled": true
   },
   "outputs": [
    {
     "name": "stdout",
     "output_type": "stream",
     "text": [
      "+-----------+------------------+-------------------+-------+-----------------+----------+---------+\n",
      "|     region|          province|       municipality|is_city|     income_class|population|land_area|\n",
      "+-----------+------------------+-------------------+-------+-----------------+----------+---------+\n",
      "|REGION IV-A|            LAGUNA|            CAVINTI|    0.0|              3rd|   20809.0|  20358.0|\n",
      "|  REGION VI|            ILOILO|        ILOILO CITY|    1.0|1st Class-Special|      null|   7834.0|\n",
      "|       ARMM|       MAGUINDANAO|DATU SAUDI AMPATUAN|    0.0|              4th|   20330.0|   6016.0|\n",
      "|   REGION X|          BUKIDNON|            DAMULOG|    0.0|              4th|   25538.0|  24419.0|\n",
      "|   REGION X|MISAMIS OCCIDENTAL|             CLARIN|    0.0|              4th|   35573.0|   8450.0|\n",
      "+-----------+------------------+-------------------+-------+-----------------+----------+---------+\n",
      "\n"
     ]
    }
   ],
   "source": [
    "spark.sql('''\n",
    "            SELECT DISTINCT\n",
    "                region, \n",
    "                province,\n",
    "                municipality, \n",
    "                is_city, \n",
    "                income_class, \n",
    "                population, \n",
    "                land_area \n",
    "            FROM psgc\n",
    "            LIMIT 5''').show()"
   ]
  },
  {
   "cell_type": "code",
   "execution_count": 53,
   "metadata": {
    "ExecuteTime": {
     "end_time": "2020-05-23T06:20:54.258335Z",
     "start_time": "2020-05-23T06:20:53.929268Z"
    }
   },
   "outputs": [
    {
     "name": "stdout",
     "output_type": "stream",
     "text": [
      "+-----------+----------------+----------------+------------+-----------------+-----------+-----------+\n",
      "|     region|        province|   gadm_province|municipality|gadm_municipality|   barangay|  gadm_brgy|\n",
      "+-----------+----------------+----------------+------------+-----------------+-----------+-----------+\n",
      "|        CAR|            ABRA|            Abra|   MALIBCONG|        Malibcong|      UMNAP|      Umnap|\n",
      "|REGION XIII|AGUSAN DEL NORTE|Agusan del Norte|  BUENAVISTA|       Buenavista|POBLACION 6|Poblacion 6|\n",
      "+-----------+----------------+----------------+------------+-----------------+-----------+-----------+\n",
      "\n"
     ]
    }
   ],
   "source": [
    "spark.sql('select * from lookup limit 2').show()"
   ]
  },
  {
   "cell_type": "code",
   "execution_count": 57,
   "metadata": {
    "ExecuteTime": {
     "end_time": "2020-05-23T06:23:55.973740Z",
     "start_time": "2020-05-23T06:23:39.587689Z"
    }
   },
   "outputs": [
    {
     "name": "stdout",
     "output_type": "stream",
     "text": [
      "file saved!\n"
     ]
    }
   ],
   "source": [
    "query = \"\"\"\n",
    "            SELECT DISTINCT\n",
    "                k.region, \n",
    "                k.gadm_province,\n",
    "                k.gadm_municipality, \n",
    "                g.is_city, \n",
    "                g.income_class, \n",
    "                g.population, \n",
    "                g.land_area\n",
    "            FROM psgc g\n",
    "            LEFT JOIN lookup k\n",
    "            ON k.province = g.province\n",
    "            AND k.municipality = g.municipality\n",
    "\"\"\"\n",
    "save_query_to_csv(query, 'municipality_stats')"
   ]
  },
  {
   "cell_type": "code",
   "execution_count": 49,
   "metadata": {
    "ExecuteTime": {
     "end_time": "2020-05-23T05:48:11.749838Z",
     "start_time": "2020-05-23T05:48:09.784451Z"
    }
   },
   "outputs": [
    {
     "name": "stdout",
     "output_type": "stream",
     "text": [
      "+--------------------+--------------------+--------------+\n",
      "|            province|        municipality|count(PSGC_CM)|\n",
      "+--------------------+--------------------+--------------+\n",
      "|             ROMBLON|         SAN AGUSTIN|             1|\n",
      "|               BOHOL|               DUERO|             1|\n",
      "|     LANAO DEL NORTE|          KOLAMBUGAN|             1|\n",
      "|             ISABELA|           NAGUILIAN|             1|\n",
      "|             CAGAYAN|  SANTO NIÑO (FAIRE)|             1|\n",
      "|             CAGAYAN|              ENRILE|             1|\n",
      "|               LEYTE|           MACARTHUR|             1|\n",
      "|         CATANDUANES|             GIGMOTO|             1|\n",
      "|   SURIGAO DEL NORTE|             ALEGRIA|             1|\n",
      "|DAVAO (DAVAO DEL ...|ISLAND GARDEN CIT...|             1|\n",
      "+--------------------+--------------------+--------------+\n",
      "only showing top 10 rows\n",
      "\n"
     ]
    }
   ],
   "source": [
    "spark.sql('select province, municipality, count(PSGC_CM) from (select distinct province, municipality, PSGC_CM from psgc) group by province, municipality order by count(PSGC_CM) desc').show(10)"
   ]
  },
  {
   "cell_type": "markdown",
   "metadata": {},
   "source": [
    "### precinct level information\n",
    "\n",
    "**precinct geomapping**"
   ]
  },
  {
   "cell_type": "code",
   "execution_count": 158,
   "metadata": {
    "ExecuteTime": {
     "end_time": "2020-05-23T05:14:48.708794Z",
     "start_time": "2020-05-23T05:14:48.576512Z"
    },
    "scrolled": false
   },
   "outputs": [
    {
     "name": "stdout",
     "output_type": "stream",
     "text": [
      "+-------------+--------+----------+------------+--------+\n",
      "|precinct_code|  region|  province|municipality|barangay|\n",
      "+-------------+--------+----------+------------+--------+\n",
      "|     55170026|REGION I|PANGASINAN|    CALASIAO| BUENLAG|\n",
      "|     55170027|REGION I|PANGASINAN|    CALASIAO| BUENLAG|\n",
      "+-------------+--------+----------+------------+--------+\n",
      "\n"
     ]
    }
   ],
   "source": [
    "spark.sql('SELECT precinct_code, region, province, municipality, barangay FROM location LIMIT 2').show()"
   ]
  },
  {
   "cell_type": "markdown",
   "metadata": {},
   "source": [
    "**voting statistics per precinct**"
   ]
  },
  {
   "cell_type": "code",
   "execution_count": 153,
   "metadata": {
    "ExecuteTime": {
     "end_time": "2020-05-23T05:09:15.330479Z",
     "start_time": "2020-05-23T05:09:13.584911Z"
    }
   },
   "outputs": [
    {
     "name": "stdout",
     "output_type": "stream",
     "text": [
      "+-------------+-----------------+------------+-------------+-------------+-------------------+\n",
      "|precinct_code|registered_voters|ballots_cast|abstain_votes|invalid_votes|          timestamp|\n",
      "+-------------+-----------------+------------+-------------+-------------+-------------------+\n",
      "|     58080245|              744|         507|            5|            5|05/09/2016 17:10:49|\n",
      "|      6110003|              312|         259|            5|            2|05/09/2016 17:11:10|\n",
      "|     31150045|              274|         231|            5|            6|05/09/2016 17:12:13|\n",
      "|     19030021|              483|         384|            4|           23|05/09/2016 17:20:45|\n",
      "|     56450073|              630|         554|            7|            3|05/09/2016 17:32:40|\n",
      "|     15290029|              747|         634|           10|            5|05/09/2016 17:32:35|\n",
      "|     37010029|              511|         416|           30|           21|05/09/2016 17:32:34|\n",
      "|     24021077|              644|         529|            9|            9|05/09/2016 17:34:33|\n",
      "|     46240002|              774|         676|           49|           19|05/09/2016 17:33:35|\n",
      "|     22510001|              724|         552|           17|           18|05/09/2016 17:36:28|\n",
      "+-------------+-----------------+------------+-------------+-------------+-------------------+\n",
      "\n"
     ]
    }
   ],
   "source": [
    "spark.sql(\"\"\"\n",
    "    SELECT DISTINCT\n",
    "        l.precinct_code, \n",
    "        l.registered_voters, \n",
    "        l.ballots_cast,\n",
    "        p.col7 abstain_votes,\n",
    "        p.col8 invalid_votes,\n",
    "        p.timestamp\n",
    "    FROM location l\n",
    "    JOIN president p\n",
    "    ON p.precinct_code = l.precinct_code\n",
    "    LIMIT 10\n",
    "\"\"\").show()"
   ]
  },
  {
   "cell_type": "code",
   "execution_count": 51,
   "metadata": {
    "ExecuteTime": {
     "end_time": "2020-05-23T06:17:51.450399Z",
     "start_time": "2020-05-23T06:17:48.407032Z"
    }
   },
   "outputs": [
    {
     "name": "stdout",
     "output_type": "stream",
     "text": [
      "file saved!\n"
     ]
    }
   ],
   "source": [
    "query = \"\"\"SELECT DISTINCT\n",
    "        l.precinct_code, \n",
    "        l.registered_voters, \n",
    "        l.ballots_cast,\n",
    "        p.col7 abstain_votes,\n",
    "        p.col8 invalid_votes,\n",
    "        p.timestamp\n",
    "    FROM location l\n",
    "    JOIN president p\n",
    "    ON p.precinct_code = l.precinct_code\n",
    "\"\"\"\n",
    "save_query_to_csv(query, 'voting_stats')"
   ]
  },
  {
   "cell_type": "markdown",
   "metadata": {},
   "source": [
    "### candidate information - precinct votes breakdown"
   ]
  },
  {
   "cell_type": "code",
   "execution_count": 157,
   "metadata": {
    "ExecuteTime": {
     "end_time": "2020-05-23T05:14:15.168040Z",
     "start_time": "2020-05-23T05:14:13.084428Z"
    }
   },
   "outputs": [
    {
     "name": "stdout",
     "output_type": "stream",
     "text": [
      "+-------------+--------------------+----------+-----+---------------+\n",
      "|precinct_code|      candidate_name|party_code|votes|      pct_votes|\n",
      "+-------------+--------------------+----------+-----+---------------+\n",
      "|     10010001|SEÑERES, ROY (WPP...|       165|    0|            0.0|\n",
      "|     10010001|    POE, GRACE (IND)|        58|   59| 0.135011441648|\n",
      "|     10010001|   BINAY, JOJO (UNA)|       163|  117| 0.267734553776|\n",
      "|     10010001|ROXAS, MAR DAANG ...|        85|   92| 0.210526315789|\n",
      "|     10010001|DUTERTE, RODY (PD...|       114|  136| 0.311212814645|\n",
      "|     10010001|DEFENSOR SANTIAGO...|       135|   24|0.0549199084668|\n",
      "|     10010002|   BINAY, JOJO (UNA)|       163|  115| 0.213358070501|\n",
      "|     10010002|DUTERTE, RODY (PD...|       114|  156| 0.289424860853|\n",
      "|     10010002|    POE, GRACE (IND)|        58|  104| 0.192949907236|\n",
      "|     10010002|SEÑERES, ROY (WPP...|       165|    0|            0.0|\n",
      "+-------------+--------------------+----------+-----+---------------+\n",
      "\n"
     ]
    }
   ],
   "source": [
    "spark.sql(\"\"\"\n",
    "    SELECT DISTINCT\n",
    "        p.precinct_code, \n",
    "        p.candidate_name,\n",
    "        p.party_code,\n",
    "        p.votes,\n",
    "        p.pct_votes\n",
    "    FROM president p\n",
    "    ORDER BY precinct_code\n",
    "    LIMIT 10\n",
    "\"\"\").show()"
   ]
  },
  {
   "cell_type": "code",
   "execution_count": 52,
   "metadata": {
    "ExecuteTime": {
     "end_time": "2020-05-23T06:19:12.526119Z",
     "start_time": "2020-05-23T06:19:01.663242Z"
    }
   },
   "outputs": [
    {
     "name": "stdout",
     "output_type": "stream",
     "text": [
      "file saved!\n"
     ]
    }
   ],
   "source": [
    "query = \"\"\"\n",
    "    SELECT DISTINCT\n",
    "        p.precinct_code, \n",
    "        p.candidate_name,\n",
    "        p.party_code,\n",
    "        p.votes,\n",
    "        p.pct_votes\n",
    "    FROM president p\n",
    "    ORDER BY precinct_code\n",
    "\"\"\"\n",
    "save_query_to_csv(query, 'candidate_votes')"
   ]
  },
  {
   "cell_type": "markdown",
   "metadata": {},
   "source": [
    "# Cleaning: location files\n",
    "\n",
    "* Goal: create a mapping for provincial, municipal, barangay to their corresponding GADM labels.\n",
    "* Output:\n",
    "    1. province, municipality, barangay --> gadm_province, gadm_municipality, gadm_barangay\n",
    "    2. precinct_codes --> gadm_province, gadm_municipality, gadm_barangay"
   ]
  },
  {
   "cell_type": "markdown",
   "metadata": {},
   "source": [
    "## first pass cleaning : provincial level"
   ]
  },
  {
   "cell_type": "code",
   "execution_count": null,
   "metadata": {
    "ExecuteTime": {
     "end_time": "2020-05-22T17:41:19.286605Z",
     "start_time": "2020-05-22T17:41:16.403153Z"
    }
   },
   "outputs": [],
   "source": [
    "spark.sql('select distinct region, province from location').count()"
   ]
  },
  {
   "cell_type": "code",
   "execution_count": 7,
   "metadata": {
    "ExecuteTime": {
     "end_time": "2020-05-23T05:29:32.012651Z",
     "start_time": "2020-05-23T05:29:31.711018Z"
    }
   },
   "outputs": [],
   "source": [
    "lookup = spark.sql(\"\"\"\n",
    "            SELECT DISTINCT\n",
    "                --l.precinct_code, \n",
    "                l.region, \n",
    "                l.province, \n",
    "                --l.municipality,\n",
    "                --l.barangay,\n",
    "                p.NAME_1 gadm_province \n",
    "                --b.NAME_2 gadm_municipality, \n",
    "                --b.NAME_3 gadm_brgy\n",
    "            FROM location l\n",
    "            LEFT JOIN provincial p\n",
    "                ON (UPPER(p.NAME_1) = l.province OR (UPPER(p.VARNAME_1) = l.province))\n",
    "--                AND UPPER(b.NAME_2) = l.municipality\n",
    "--                AND UPPER(b.NAME_3) = l.barangay\n",
    "\"\"\")\n",
    "lookup.createOrReplaceTempView('lookup')"
   ]
  },
  {
   "cell_type": "code",
   "execution_count": null,
   "metadata": {
    "ExecuteTime": {
     "end_time": "2020-05-22T17:41:24.886532Z",
     "start_time": "2020-05-22T17:41:19.432999Z"
    }
   },
   "outputs": [],
   "source": [
    "spark.sql('SELECT * FROM lookup WHERE gadm_province IS NULL').toPandas()"
   ]
  },
  {
   "cell_type": "code",
   "execution_count": 8,
   "metadata": {
    "ExecuteTime": {
     "end_time": "2020-05-23T05:29:42.806792Z",
     "start_time": "2020-05-23T05:29:35.655246Z"
    }
   },
   "outputs": [
    {
     "data": {
      "text/html": [
       "<div>\n",
       "<style scoped>\n",
       "    .dataframe tbody tr th:only-of-type {\n",
       "        vertical-align: middle;\n",
       "    }\n",
       "\n",
       "    .dataframe tbody tr th {\n",
       "        vertical-align: top;\n",
       "    }\n",
       "\n",
       "    .dataframe thead th {\n",
       "        text-align: right;\n",
       "    }\n",
       "</style>\n",
       "<table border=\"1\" class=\"dataframe\">\n",
       "  <thead>\n",
       "    <tr style=\"text-align: right;\">\n",
       "      <th></th>\n",
       "      <th>region</th>\n",
       "      <th>province</th>\n",
       "      <th>gadm_province</th>\n",
       "    </tr>\n",
       "  </thead>\n",
       "  <tbody>\n",
       "  </tbody>\n",
       "</table>\n",
       "</div>"
      ],
      "text/plain": [
       "Empty DataFrame\n",
       "Columns: [region, province, gadm_province]\n",
       "Index: []"
      ]
     },
     "execution_count": 8,
     "metadata": {},
     "output_type": "execute_result"
    }
   ],
   "source": [
    "lookup = spark.sql(\"\"\"\n",
    "            SELECT \n",
    "                --precinct_code,\n",
    "                region, \n",
    "                province,\n",
    "                CASE \n",
    "                    WHEN region = \"NCR\"\n",
    "                        THEN \"Metropolitan Manila\"\n",
    "                    WHEN region = \"OAV\"\n",
    "                        THEN province\n",
    "                    WHEN province = \"DAVAO OCCIDENTAL\"\n",
    "                        THEN \"Davao del Sur\"\n",
    "                    WHEN province LIKE \"%WESTERN%\"\n",
    "                        THEN \"Samar\"\n",
    "                    WHEN province LIKE \"%DAVAO DEL NORTE%\"\n",
    "                        THEN \"Davao del Norte\"\n",
    "                    WHEN province LIKE \"COTABATO%NORTH%\"\n",
    "                        THEN \"North Cotabato\"\n",
    "                        ELSE gadm_province\n",
    "                END as gadm_province\n",
    "            FROM lookup\n",
    "\"\"\")\n",
    "lookup.createOrReplaceTempView('lookup')\n",
    "spark.sql('SELECT * FROM lookup WHERE gadm_province IS NULL').toPandas()"
   ]
  },
  {
   "cell_type": "code",
   "execution_count": 9,
   "metadata": {
    "ExecuteTime": {
     "end_time": "2020-05-23T05:29:57.210271Z",
     "start_time": "2020-05-23T05:29:52.919242Z"
    }
   },
   "outputs": [
    {
     "name": "stdout",
     "output_type": "stream",
     "text": [
      "+--------+\n",
      "|count(1)|\n",
      "+--------+\n",
      "|      90|\n",
      "+--------+\n",
      "\n"
     ]
    }
   ],
   "source": [
    "spark.sql('select count(*) from lookup').show()"
   ]
  },
  {
   "cell_type": "markdown",
   "metadata": {},
   "source": [
    "## second pass cleaning: municipal level"
   ]
  },
  {
   "cell_type": "code",
   "execution_count": 10,
   "metadata": {
    "ExecuteTime": {
     "end_time": "2020-05-23T05:30:02.184159Z",
     "start_time": "2020-05-23T05:30:00.525049Z"
    }
   },
   "outputs": [
    {
     "data": {
      "text/plain": [
       "1663"
      ]
     },
     "execution_count": 10,
     "metadata": {},
     "output_type": "execute_result"
    }
   ],
   "source": [
    "spark.sql('select distinct region, province, municipality from location').count()"
   ]
  },
  {
   "cell_type": "code",
   "execution_count": 11,
   "metadata": {
    "ExecuteTime": {
     "end_time": "2020-05-23T05:30:02.323127Z",
     "start_time": "2020-05-23T05:30:02.186192Z"
    }
   },
   "outputs": [],
   "source": [
    "lookup = spark.sql(\"\"\"\n",
    "            SELECT DISTINCT\n",
    "                k.region, \n",
    "                k.province, \n",
    "                k.gadm_province, \n",
    "                l.municipality, \n",
    "                m.NAME_2 gadm_municipality\n",
    "            FROM lookup k\n",
    "            LEFT JOIN (SELECT DISTINCT province, municipality FROM location) as l\n",
    "                ON l.province = k.province\n",
    "            LEFT JOIN municipal m\n",
    "                ON m.NAME_1 = k.gadm_province \n",
    "                    AND (\n",
    "                        UPPER(m.NAME_2) = l.municipality \n",
    "                            OR UPPER(m.VARNAME_2) = l.municipality\n",
    "                        )\n",
    "\"\"\")\n",
    "lookup.createOrReplaceTempView('lookup')"
   ]
  },
  {
   "cell_type": "code",
   "execution_count": 12,
   "metadata": {
    "ExecuteTime": {
     "end_time": "2020-05-23T05:30:11.270330Z",
     "start_time": "2020-05-23T05:30:04.049604Z"
    }
   },
   "outputs": [
    {
     "name": "stdout",
     "output_type": "stream",
     "text": [
      "+--------+\n",
      "|count(1)|\n",
      "+--------+\n",
      "|    1663|\n",
      "+--------+\n",
      "\n"
     ]
    }
   ],
   "source": [
    "spark.sql('select count(*) from lookup').show()"
   ]
  },
  {
   "cell_type": "code",
   "execution_count": null,
   "metadata": {
    "ExecuteTime": {
     "end_time": "2020-05-22T17:41:44.996767Z",
     "start_time": "2020-05-22T17:41:39.748796Z"
    }
   },
   "outputs": [],
   "source": [
    "spark.sql('SELECT * FROM lookup WHERE gadm_municipality IS NULL').toPandas()"
   ]
  },
  {
   "cell_type": "code",
   "execution_count": 13,
   "metadata": {
    "ExecuteTime": {
     "end_time": "2020-05-23T05:30:20.313226Z",
     "start_time": "2020-05-23T05:30:20.265112Z"
    }
   },
   "outputs": [],
   "source": [
    "lookup = spark.sql(\"\"\"\n",
    "            SELECT \n",
    "                --precinct_code,\n",
    "                region, \n",
    "                province,\n",
    "                gadm_province,\n",
    "                municipality,\n",
    "                CASE \n",
    "                    WHEN province LIKE \"%MANILA\"\n",
    "                        THEN \"Manila\"\n",
    "                    WHEN region = \"OAV\"\n",
    "                        THEN municipality\n",
    "                        ELSE gadm_municipality\n",
    "                END as gadm_municipality\n",
    "            FROM lookup\n",
    "\"\"\")\n",
    "lookup.createOrReplaceTempView('lookup')"
   ]
  },
  {
   "cell_type": "code",
   "execution_count": null,
   "metadata": {
    "ExecuteTime": {
     "end_time": "2020-05-22T17:41:50.471090Z",
     "start_time": "2020-05-22T17:41:45.075890Z"
    }
   },
   "outputs": [],
   "source": [
    "spark.sql('SELECT * FROM lookup WHERE gadm_municipality IS NULL').toPandas()"
   ]
  },
  {
   "cell_type": "code",
   "execution_count": null,
   "metadata": {
    "ExecuteTime": {
     "end_time": "2020-05-22T17:41:55.388925Z",
     "start_time": "2020-05-22T17:41:50.473793Z"
    }
   },
   "outputs": [],
   "source": [
    "spark.sql('select count(*) from lookup').show()"
   ]
  },
  {
   "cell_type": "code",
   "execution_count": 14,
   "metadata": {
    "ExecuteTime": {
     "end_time": "2020-05-23T05:30:24.645673Z",
     "start_time": "2020-05-23T05:30:24.630707Z"
    }
   },
   "outputs": [],
   "source": [
    "def create_reference_dict(query):\n",
    "    reference = spark.sql(query).toJSON().collect()\n",
    "    ref = defaultdict(list)\n",
    "    for entry in reference:\n",
    "        items = json.loads(entry)\n",
    "        if len(items) < 3:\n",
    "            ref[items['NAME_1']] += [items['NAME_2']]\n",
    "        else:\n",
    "            ref[(items['NAME_1'], items['NAME_2'])] += [items['NAME_3']]\n",
    "    return ref"
   ]
  },
  {
   "cell_type": "code",
   "execution_count": 15,
   "metadata": {
    "ExecuteTime": {
     "end_time": "2020-05-23T05:30:32.461487Z",
     "start_time": "2020-05-23T05:30:25.525170Z"
    }
   },
   "outputs": [],
   "source": [
    "query = \"\"\"\n",
    "                SELECT NAME_1, NAME_2\n",
    "                FROM municipal\n",
    "                WHERE NAME_1 IN (SELECT gadm_province FROM lookup WHERE gadm_municipality IS NULL)\n",
    "                --AND NAME_2 NOT IN (SELECT gadm_municipality FROM lookup WHERE gadm_municipality IS NOT NULL)\n",
    "    \"\"\"\n",
    "reference = create_reference_dict(query)"
   ]
  },
  {
   "cell_type": "code",
   "execution_count": 16,
   "metadata": {
    "ExecuteTime": {
     "end_time": "2020-05-23T05:30:32.475801Z",
     "start_time": "2020-05-23T05:30:32.465815Z"
    }
   },
   "outputs": [],
   "source": [
    "def map_municipalities(r):\n",
    "    if r.gadm_municipality:\n",
    "        return r\n",
    "#     elif r.region == \"OAV\":\n",
    "#         return Row(r.region, r.province, r.gadm_province, r.municipality, r.municipality)\n",
    "    else:\n",
    "        m = r.municipality\n",
    "        p = r.gadm_province\n",
    "        try:\n",
    "            municipalities = reference[p]\n",
    "            g = process.extractOne(m, municipalities)[0]\n",
    "        except:\n",
    "            return r\n",
    "        if g is None:\n",
    "            return r\n",
    "        else:\n",
    "            return Row(r.region, r.province, r.gadm_province, r.municipality, g)"
   ]
  },
  {
   "cell_type": "code",
   "execution_count": 17,
   "metadata": {
    "ExecuteTime": {
     "end_time": "2020-05-23T05:30:37.515671Z",
     "start_time": "2020-05-23T05:30:32.477910Z"
    }
   },
   "outputs": [],
   "source": [
    "rdd = lookup.rdd.map(map_municipalities)\n",
    "lookup = rdd.toDF()\n",
    "lookup.createOrReplaceTempView('lookup')"
   ]
  },
  {
   "cell_type": "code",
   "execution_count": 18,
   "metadata": {
    "ExecuteTime": {
     "end_time": "2020-05-23T05:30:41.487938Z",
     "start_time": "2020-05-23T05:30:37.518613Z"
    }
   },
   "outputs": [
    {
     "data": {
      "text/html": [
       "<div>\n",
       "<style scoped>\n",
       "    .dataframe tbody tr th:only-of-type {\n",
       "        vertical-align: middle;\n",
       "    }\n",
       "\n",
       "    .dataframe tbody tr th {\n",
       "        vertical-align: top;\n",
       "    }\n",
       "\n",
       "    .dataframe thead th {\n",
       "        text-align: right;\n",
       "    }\n",
       "</style>\n",
       "<table border=\"1\" class=\"dataframe\">\n",
       "  <thead>\n",
       "    <tr style=\"text-align: right;\">\n",
       "      <th></th>\n",
       "      <th>region</th>\n",
       "      <th>province</th>\n",
       "      <th>gadm_province</th>\n",
       "      <th>municipality</th>\n",
       "      <th>gadm_municipality</th>\n",
       "    </tr>\n",
       "  </thead>\n",
       "  <tbody>\n",
       "  </tbody>\n",
       "</table>\n",
       "</div>"
      ],
      "text/plain": [
       "Empty DataFrame\n",
       "Columns: [region, province, gadm_province, municipality, gadm_municipality]\n",
       "Index: []"
      ]
     },
     "execution_count": 18,
     "metadata": {},
     "output_type": "execute_result"
    }
   ],
   "source": [
    "spark.sql('select * from lookup where gadm_municipality is null').toPandas()"
   ]
  },
  {
   "cell_type": "code",
   "execution_count": 19,
   "metadata": {
    "ExecuteTime": {
     "end_time": "2020-05-23T05:30:45.303469Z",
     "start_time": "2020-05-23T05:30:41.491155Z"
    }
   },
   "outputs": [
    {
     "name": "stdout",
     "output_type": "stream",
     "text": [
      "+--------+\n",
      "|count(1)|\n",
      "+--------+\n",
      "|    1663|\n",
      "+--------+\n",
      "\n"
     ]
    }
   ],
   "source": [
    "spark.sql('select count(*) from lookup').show()"
   ]
  },
  {
   "cell_type": "markdown",
   "metadata": {},
   "source": [
    "## third pass: barangay level"
   ]
  },
  {
   "cell_type": "code",
   "execution_count": 20,
   "metadata": {
    "ExecuteTime": {
     "end_time": "2020-05-23T05:30:54.424117Z",
     "start_time": "2020-05-23T05:30:53.150315Z"
    }
   },
   "outputs": [
    {
     "data": {
      "text/plain": [
       "40805"
      ]
     },
     "execution_count": 20,
     "metadata": {},
     "output_type": "execute_result"
    }
   ],
   "source": [
    "spark.sql('select distinct region, province, municipality, barangay from location').count()"
   ]
  },
  {
   "cell_type": "code",
   "execution_count": 21,
   "metadata": {
    "ExecuteTime": {
     "end_time": "2020-05-23T05:30:57.635271Z",
     "start_time": "2020-05-23T05:30:57.559875Z"
    }
   },
   "outputs": [],
   "source": [
    "lookup = spark.sql(\"\"\"\n",
    "            SELECT DISTINCT\n",
    "                k.region, \n",
    "                k.province, \n",
    "                k.gadm_province, \n",
    "                k.municipality, \n",
    "                k.gadm_municipality,\n",
    "                l.barangay\n",
    "                --, b.NAME_3 gadm_brgy\n",
    "            FROM lookup k\n",
    "            LEFT JOIN location l\n",
    "                ON l.province = k.province\n",
    "                AND l.municipality = k.municipality\n",
    "\n",
    "\"\"\")\n",
    "lookup.createOrReplaceTempView('lookup')"
   ]
  },
  {
   "cell_type": "code",
   "execution_count": 22,
   "metadata": {
    "ExecuteTime": {
     "end_time": "2020-05-23T05:31:03.577087Z",
     "start_time": "2020-05-23T05:30:57.895950Z"
    }
   },
   "outputs": [
    {
     "name": "stdout",
     "output_type": "stream",
     "text": [
      "+-----------+-------------+-------------+------------+-----------------+--------------------+\n",
      "|     region|     province|gadm_province|municipality|gadm_municipality|            barangay|\n",
      "+-----------+-------------+-------------+------------+-----------------+--------------------+\n",
      "|REGION VIII|EASTERN SAMAR|Eastern Samar|    LLORENTE|         Llorente|  BARANGAY  2 (POB.)|\n",
      "|REGION VIII|EASTERN SAMAR|Eastern Samar|        ORAS|             Oras|             MABUHAY|\n",
      "|REGION VIII|EASTERN SAMAR|Eastern Samar|     SALCEDO|          Salcedo|              BUABUA|\n",
      "|REGION VIII|EASTERN SAMAR|Eastern Samar|  SAN JULIAN|       San Julian|               LIBAS|\n",
      "|REGION VIII|EASTERN SAMAR|Eastern Samar|      LAWAAN|           Lawaan|BARANGAY POBLACIO...|\n",
      "+-----------+-------------+-------------+------------+-----------------+--------------------+\n",
      "\n"
     ]
    }
   ],
   "source": [
    "spark.sql('select * from lookup limit 5').show()"
   ]
  },
  {
   "cell_type": "code",
   "execution_count": 23,
   "metadata": {
    "ExecuteTime": {
     "end_time": "2020-05-23T05:31:10.582803Z",
     "start_time": "2020-05-23T05:31:10.530300Z"
    }
   },
   "outputs": [],
   "source": [
    "lookup = spark.sql(\"\"\"\n",
    "            SELECT DISTINCT \n",
    "                k.region, \n",
    "                k.province, \n",
    "                k.gadm_province, \n",
    "                k.municipality, \n",
    "                k.gadm_municipality, \n",
    "                k.barangay, \n",
    "                b.NAME_3 gadm_brgy\n",
    "            FROM lookup k\n",
    "            LEFT JOIN brgy b\n",
    "            ON b.NAME_1 = k.gadm_province\n",
    "            AND b.NAME_2 = k.gadm_municipality\n",
    "            AND (UPPER(b.NAME_3) = k.barangay)\n",
    "\"\"\")\n",
    "lookup.createOrReplaceTempView('lookup')"
   ]
  },
  {
   "cell_type": "code",
   "execution_count": 24,
   "metadata": {
    "ExecuteTime": {
     "end_time": "2020-05-23T05:31:20.707902Z",
     "start_time": "2020-05-23T05:31:11.890414Z"
    }
   },
   "outputs": [
    {
     "name": "stdout",
     "output_type": "stream",
     "text": [
      "+-----------+----------------+----------------+------------+-----------------+-----------+-----------+\n",
      "|     region|        province|   gadm_province|municipality|gadm_municipality|   barangay|  gadm_brgy|\n",
      "+-----------+----------------+----------------+------------+-----------------+-----------+-----------+\n",
      "|        CAR|            ABRA|            Abra|   MALIBCONG|        Malibcong|      UMNAP|      Umnap|\n",
      "|REGION XIII|AGUSAN DEL NORTE|Agusan del Norte|  BUENAVISTA|       Buenavista|POBLACION 6|Poblacion 6|\n",
      "|REGION XIII|AGUSAN DEL NORTE|Agusan del Norte|  BUENAVISTA|       Buenavista|      RIZAL|      Rizal|\n",
      "|REGION XIII|AGUSAN DEL NORTE|Agusan del Norte|  LAS NIEVES|       Las Nieves|MARCOS CALO|Marcos Calo|\n",
      "|REGION XIII|AGUSAN DEL NORTE|Agusan del Norte|    SANTIAGO|         Santiago| SAN ISIDRO| San Isidro|\n",
      "+-----------+----------------+----------------+------------+-----------------+-----------+-----------+\n",
      "only showing top 5 rows\n",
      "\n"
     ]
    }
   ],
   "source": [
    "lookup.show(5)"
   ]
  },
  {
   "cell_type": "code",
   "execution_count": 25,
   "metadata": {
    "ExecuteTime": {
     "end_time": "2020-05-23T05:31:31.484170Z",
     "start_time": "2020-05-23T05:31:20.712386Z"
    }
   },
   "outputs": [
    {
     "data": {
      "text/plain": [
       "40805"
      ]
     },
     "execution_count": 25,
     "metadata": {},
     "output_type": "execute_result"
    }
   ],
   "source": [
    "lookup.count()"
   ]
  },
  {
   "cell_type": "code",
   "execution_count": null,
   "metadata": {
    "ExecuteTime": {
     "end_time": "2020-05-22T17:42:47.132406Z",
     "start_time": "2020-05-22T17:42:37.867793Z"
    }
   },
   "outputs": [],
   "source": [
    "spark.sql('SELECT count(*) FROM lookup WHERE gadm_brgy IS NULL').show()"
   ]
  },
  {
   "cell_type": "code",
   "execution_count": 26,
   "metadata": {
    "ExecuteTime": {
     "end_time": "2020-05-23T05:31:39.355072Z",
     "start_time": "2020-05-23T05:31:39.294982Z"
    }
   },
   "outputs": [],
   "source": [
    "lookup = spark.sql(\"\"\"\n",
    "            SELECT \n",
    "                --precinct_code,\n",
    "                region, \n",
    "                province,\n",
    "                gadm_province,\n",
    "                municipality,\n",
    "                gadm_municipality,\n",
    "                barangay,\n",
    "                CASE \n",
    "                    WHEN region = \"OAV\"\n",
    "                        THEN barangay\n",
    "                        ELSE gadm_brgy\n",
    "                END as gadm_brgy\n",
    "            FROM lookup\n",
    "\"\"\")\n",
    "lookup.createOrReplaceTempView('lookup')"
   ]
  },
  {
   "cell_type": "code",
   "execution_count": null,
   "metadata": {
    "ExecuteTime": {
     "end_time": "2020-05-22T17:42:55.911580Z",
     "start_time": "2020-05-22T17:42:47.191671Z"
    }
   },
   "outputs": [],
   "source": [
    "spark.sql('SELECT count(*) FROM lookup WHERE gadm_brgy IS NULL').show()"
   ]
  },
  {
   "cell_type": "code",
   "execution_count": 27,
   "metadata": {
    "ExecuteTime": {
     "end_time": "2020-05-23T05:31:57.536140Z",
     "start_time": "2020-05-23T05:31:41.815188Z"
    }
   },
   "outputs": [],
   "source": [
    "query = \"\"\"\n",
    "            SELECT NAME_1, NAME_2, NAME_3\n",
    "            FROM brgy\n",
    "            WHERE NAME_1 in (SELECT gadm_province FROM lookup WHERE gadm_brgy IS NULL)\n",
    "            AND NAME_2 in (SELECT gadm_municipality FROM lookup WHERE gadm_brgy IS NULL)\n",
    "            --AND NAME_2 NOT IN (SELECT gadm_municipality FROM lookup WHERE gadm_municipality IS NOT NULL)\n",
    "\"\"\"\n",
    "reference = create_reference_dict(query)"
   ]
  },
  {
   "cell_type": "code",
   "execution_count": 28,
   "metadata": {
    "ExecuteTime": {
     "end_time": "2020-05-23T05:31:57.546353Z",
     "start_time": "2020-05-23T05:31:57.539854Z"
    }
   },
   "outputs": [
    {
     "data": {
      "text/plain": [
       "1188"
      ]
     },
     "execution_count": 28,
     "metadata": {},
     "output_type": "execute_result"
    }
   ],
   "source": [
    "len(reference)"
   ]
  },
  {
   "cell_type": "code",
   "execution_count": 29,
   "metadata": {
    "ExecuteTime": {
     "end_time": "2020-05-23T05:31:57.557797Z",
     "start_time": "2020-05-23T05:31:57.549357Z"
    }
   },
   "outputs": [],
   "source": [
    "def map_brgys(r):\n",
    "    if r.gadm_brgy:\n",
    "        return r\n",
    "    else:\n",
    "        m = r.gadm_municipality\n",
    "        p = r.gadm_province\n",
    "        b = r.barangay\n",
    "        \n",
    "        brgys = reference[(p, m)]\n",
    "        g = process.extractOne(b, brgys)[0]\n",
    "        if g is None:\n",
    "            return r\n",
    "        else:\n",
    "            return Row(r.region, r.province, r.gadm_province, r.municipality, r.gadm_municipality, r.barangay, g)"
   ]
  },
  {
   "cell_type": "code",
   "execution_count": 30,
   "metadata": {
    "ExecuteTime": {
     "end_time": "2020-05-23T05:32:06.254218Z",
     "start_time": "2020-05-23T05:31:57.560865Z"
    }
   },
   "outputs": [],
   "source": [
    "rdd = lookup.rdd.map(map_brgys)\n",
    "lookup = rdd.toDF()\n",
    "lookup.createOrReplaceTempView('lookup')"
   ]
  },
  {
   "cell_type": "code",
   "execution_count": 31,
   "metadata": {
    "ExecuteTime": {
     "end_time": "2020-05-23T05:32:17.302664Z",
     "start_time": "2020-05-23T05:32:06.262783Z"
    }
   },
   "outputs": [
    {
     "name": "stdout",
     "output_type": "stream",
     "text": [
      "+--------+\n",
      "|count(1)|\n",
      "+--------+\n",
      "|       0|\n",
      "+--------+\n",
      "\n"
     ]
    }
   ],
   "source": [
    "spark.sql('select count(*) from lookup where gadm_brgy is null').show()"
   ]
  },
  {
   "cell_type": "markdown",
   "metadata": {},
   "source": [
    "# mapping tables\n",
    "## location to GADM lookup"
   ]
  },
  {
   "cell_type": "code",
   "execution_count": 32,
   "metadata": {
    "ExecuteTime": {
     "end_time": "2020-05-23T05:32:17.551703Z",
     "start_time": "2020-05-23T05:32:17.306901Z"
    }
   },
   "outputs": [
    {
     "name": "stdout",
     "output_type": "stream",
     "text": [
      "+-----------+----------------+----------------+------------+-----------------+-----------+-----------+\n",
      "|     region|        province|   gadm_province|municipality|gadm_municipality|   barangay|  gadm_brgy|\n",
      "+-----------+----------------+----------------+------------+-----------------+-----------+-----------+\n",
      "|        CAR|            ABRA|            Abra|   MALIBCONG|        Malibcong|      UMNAP|      Umnap|\n",
      "|REGION XIII|AGUSAN DEL NORTE|Agusan del Norte|  BUENAVISTA|       Buenavista|POBLACION 6|Poblacion 6|\n",
      "|REGION XIII|AGUSAN DEL NORTE|Agusan del Norte|  BUENAVISTA|       Buenavista|      RIZAL|      Rizal|\n",
      "|REGION XIII|AGUSAN DEL NORTE|Agusan del Norte|  LAS NIEVES|       Las Nieves|MARCOS CALO|Marcos Calo|\n",
      "|REGION XIII|AGUSAN DEL NORTE|Agusan del Norte|    SANTIAGO|         Santiago| SAN ISIDRO| San Isidro|\n",
      "+-----------+----------------+----------------+------------+-----------------+-----------+-----------+\n",
      "\n"
     ]
    }
   ],
   "source": [
    "spark.sql('select * from lookup limit 5').show()"
   ]
  },
  {
   "cell_type": "code",
   "execution_count": 33,
   "metadata": {
    "ExecuteTime": {
     "end_time": "2020-05-23T05:32:28.352703Z",
     "start_time": "2020-05-23T05:32:17.556897Z"
    }
   },
   "outputs": [
    {
     "data": {
      "text/plain": [
       "40805"
      ]
     },
     "execution_count": 33,
     "metadata": {},
     "output_type": "execute_result"
    }
   ],
   "source": [
    "lookup.count()"
   ]
  },
  {
   "cell_type": "markdown",
   "metadata": {},
   "source": [
    "## precinct code lookup"
   ]
  },
  {
   "cell_type": "code",
   "execution_count": 34,
   "metadata": {
    "ExecuteTime": {
     "end_time": "2020-05-23T05:35:02.359400Z",
     "start_time": "2020-05-23T05:35:01.358198Z"
    }
   },
   "outputs": [
    {
     "name": "stdout",
     "output_type": "stream",
     "text": [
      "+-----------------------------+\n",
      "|count(DISTINCT precinct_code)|\n",
      "+-----------------------------+\n",
      "|                        90642|\n",
      "+-----------------------------+\n",
      "\n"
     ]
    }
   ],
   "source": [
    "spark.sql('select count(distinct precinct_code) from location').show()"
   ]
  },
  {
   "cell_type": "code",
   "execution_count": 35,
   "metadata": {
    "ExecuteTime": {
     "end_time": "2020-05-23T05:35:02.616993Z",
     "start_time": "2020-05-23T05:35:02.365458Z"
    }
   },
   "outputs": [
    {
     "name": "stdout",
     "output_type": "stream",
     "text": [
      "+-----------+----------------+----------------+------------+-----------------+-----------+-----------+\n",
      "|     region|        province|   gadm_province|municipality|gadm_municipality|   barangay|  gadm_brgy|\n",
      "+-----------+----------------+----------------+------------+-----------------+-----------+-----------+\n",
      "|        CAR|            ABRA|            Abra|   MALIBCONG|        Malibcong|      UMNAP|      Umnap|\n",
      "|REGION XIII|AGUSAN DEL NORTE|Agusan del Norte|  BUENAVISTA|       Buenavista|POBLACION 6|Poblacion 6|\n",
      "+-----------+----------------+----------------+------------+-----------------+-----------+-----------+\n",
      "only showing top 2 rows\n",
      "\n"
     ]
    }
   ],
   "source": [
    "lookup.show(2)"
   ]
  },
  {
   "cell_type": "code",
   "execution_count": 36,
   "metadata": {
    "ExecuteTime": {
     "end_time": "2020-05-23T05:35:43.596181Z",
     "start_time": "2020-05-23T05:35:43.547680Z"
    }
   },
   "outputs": [],
   "source": [
    "precinct_lookup = spark.sql(\"\"\"\n",
    "            SELECT DISTINCT\n",
    "                l.precinct_code, \n",
    "                k.region,\n",
    "                k.gadm_province, \n",
    "                k.gadm_municipality, \n",
    "                k.gadm_brgy\n",
    "            FROM location l\n",
    "            LEFT JOIN lookup k\n",
    "                ON k.province = l.province\n",
    "                AND k.municipality = l.municipality\n",
    "                AND k.barangay = l.barangay\n",
    "\"\"\")\n",
    "precinct_lookup.createOrReplaceTempView('precinct_gadm_lookup')"
   ]
  },
  {
   "cell_type": "code",
   "execution_count": 37,
   "metadata": {
    "ExecuteTime": {
     "end_time": "2020-05-23T05:36:24.914876Z",
     "start_time": "2020-05-23T05:36:06.892469Z"
    }
   },
   "outputs": [
    {
     "name": "stdout",
     "output_type": "stream",
     "text": [
      "+-------------+-----------+-------------------+-----------------+--------------+\n",
      "|precinct_code|     region|      gadm_province|gadm_municipality|     gadm_brgy|\n",
      "+-------------+-----------+-------------------+-----------------+--------------+\n",
      "|     74040764|        NCR|Metropolitan Manila|      Quezon City|     Milagrosa|\n",
      "|     14030047| REGION III|            Bulacan|          Baliuag|        Pagala|\n",
      "|     24040005|  REGION XI|      Davao del Sur|          Hagonoy|Guihing Aplaya|\n",
      "|     56070075|REGION IV-A|             Quezon|          Calauag|   Santa Maria|\n",
      "|     64170026|REGION VIII|     Southern Leyte|            Sogod|      Kahupian|\n",
      "+-------------+-----------+-------------------+-----------------+--------------+\n",
      "\n"
     ]
    }
   ],
   "source": [
    "spark.sql('select * from precinct_gadm_lookup limit 5').show()"
   ]
  },
  {
   "cell_type": "code",
   "execution_count": null,
   "metadata": {
    "ExecuteTime": {
     "start_time": "2020-05-23T05:50:24.283Z"
    }
   },
   "outputs": [],
   "source": [
    "spark.sql('''\n",
    "            SELECT DISTINCT\n",
    "                region, \n",
    "                province,\n",
    "                municipality, \n",
    "                is_city, \n",
    "                income_class, \n",
    "                population, \n",
    "                land_area \n",
    "            FROM psgc\n",
    "            LIMIT 5''').show()"
   ]
  },
  {
   "cell_type": "markdown",
   "metadata": {},
   "source": [
    "# consolidate lookup information"
   ]
  },
  {
   "cell_type": "code",
   "execution_count": null,
   "metadata": {
    "ExecuteTime": {
     "end_time": "2020-05-23T01:21:12.652257Z",
     "start_time": "2020-05-23T01:21:12.574743Z"
    }
   },
   "outputs": [],
   "source": [
    "spark.sql('show tables').show()"
   ]
  },
  {
   "cell_type": "markdown",
   "metadata": {},
   "source": [
    "## from the location tables\n",
    "* `final_lookup` has the clean GADM tags for region, province, municipality and brgy\n",
    "* `lookup` has the mapping for unclean --> clean geotags\n",
    "* `psgc` has additional location information such as land area, population, etc. "
   ]
  },
  {
   "cell_type": "code",
   "execution_count": null,
   "metadata": {
    "ExecuteTime": {
     "end_time": "2020-05-23T01:18:37.427107Z",
     "start_time": "2020-05-23T01:18:20.228054Z"
    },
    "scrolled": true
   },
   "outputs": [],
   "source": [
    "spark.sql('select * from final_lookup limit 5').show()"
   ]
  },
  {
   "cell_type": "code",
   "execution_count": null,
   "metadata": {
    "ExecuteTime": {
     "end_time": "2020-05-23T01:19:23.881528Z",
     "start_time": "2020-05-23T01:19:23.751437Z"
    },
    "scrolled": true
   },
   "outputs": [],
   "source": [
    "spark.sql('select * from location limit 5').show()"
   ]
  },
  {
   "cell_type": "code",
   "execution_count": null,
   "metadata": {
    "ExecuteTime": {
     "end_time": "2020-05-23T01:19:58.264698Z",
     "start_time": "2020-05-23T01:19:58.076147Z"
    }
   },
   "outputs": [],
   "source": [
    "spark.sql('select  from psgc limit 5').toPandas()"
   ]
  },
  {
   "cell_type": "code",
   "execution_count": null,
   "metadata": {
    "ExecuteTime": {
     "end_time": "2020-05-23T01:23:14.982175Z",
     "start_time": "2020-05-23T01:23:14.849857Z"
    }
   },
   "outputs": [],
   "source": [
    "spark.sql('select * from president limit 5').toPandas()"
   ]
  },
  {
   "cell_type": "code",
   "execution_count": null,
   "metadata": {
    "ExecuteTime": {
     "end_time": "2020-05-22T17:44:39.923760Z",
     "start_time": "2020-05-22T17:44:22.539949Z"
    }
   },
   "outputs": [],
   "source": [
    "final_lookup.count()"
   ]
  },
  {
   "cell_type": "code",
   "execution_count": null,
   "metadata": {
    "ExecuteTime": {
     "end_time": "2020-05-22T17:44:50.573884Z",
     "start_time": "2020-05-22T17:44:39.928692Z"
    }
   },
   "outputs": [],
   "source": [
    "spark.sql('''select * from lookup \n",
    "          where province = \"SORSOGON\" \n",
    "          and municipality=\"SORSOGON CITY\" and barangay=\"POBLACION\"''').show()"
   ]
  },
  {
   "cell_type": "code",
   "execution_count": null,
   "metadata": {
    "ExecuteTime": {
     "end_time": "2020-05-22T17:44:51.136979Z",
     "start_time": "2020-05-22T17:44:50.578669Z"
    }
   },
   "outputs": [],
   "source": [
    "spark.sql('select * from location where precinct_code = 62160095').show()"
   ]
  },
  {
   "cell_type": "markdown",
   "metadata": {},
   "source": [
    "## save lookup tables"
   ]
  },
  {
   "cell_type": "code",
   "execution_count": 50,
   "metadata": {
    "ExecuteTime": {
     "end_time": "2020-05-23T06:16:33.849520Z",
     "start_time": "2020-05-23T06:16:33.825567Z"
    }
   },
   "outputs": [],
   "source": [
    "def save_query_to_csv(query, filename):\n",
    "    path = os.path.join('..', 'output', filename)\n",
    "    try:\n",
    "        spark.sql(query\n",
    "                 ).coalesce(1).write.option(\n",
    "            \"header\", \"true\").csv(path)\n",
    "        print('file saved!')\n",
    "    except:\n",
    "        inp = input('file already exists! retry save? Y/N')\n",
    "        if inp =='Y':\n",
    "            shutil.rmtree(path)\n",
    "            save_query_to_csv(query, filename)\n",
    "        else:\n",
    "            pass"
   ]
  },
  {
   "cell_type": "code",
   "execution_count": null,
   "metadata": {
    "ExecuteTime": {
     "end_time": "2020-05-22T16:15:56.755281Z",
     "start_time": "2020-05-22T16:15:52.604054Z"
    }
   },
   "outputs": [],
   "source": [
    "save_query_to_csv('select * from final_lookup', 'lookup')"
   ]
  },
  {
   "cell_type": "code",
   "execution_count": null,
   "metadata": {
    "ExecuteTime": {
     "end_time": "2020-05-22T16:16:04.692803Z",
     "start_time": "2020-05-22T16:15:58.715244Z"
    }
   },
   "outputs": [],
   "source": [
    "save_query_to_csv('''select \n",
    "                precinct_code, \n",
    "                registered_voters, \n",
    "                ballots_cast \n",
    "            from location''', 'location')"
   ]
  },
  {
   "cell_type": "code",
   "execution_count": null,
   "metadata": {
    "ExecuteTime": {
     "end_time": "2020-05-22T17:57:07.379961Z",
     "start_time": "2020-05-22T17:57:06.397890Z"
    }
   },
   "outputs": [],
   "source": [
    "save_query_to_csv('''select precinct_code,\n",
    "              registered_voters, \n",
    "              ballots_cast, \n",
    "              is_city, \n",
    "              CASE WHEN SUBSTRING(income_class, 0,3) = \"-\"\n",
    "                  THEN NULL\n",
    "                  ELSE SUBSTRING(income_class, 0,3)\n",
    "                END as income_class,\n",
    "              population, \n",
    "              land_area \n",
    "          from psgc''', 'psgc')"
   ]
  },
  {
   "cell_type": "markdown",
   "metadata": {},
   "source": [
    "# Denormalized results tables"
   ]
  },
  {
   "cell_type": "code",
   "execution_count": null,
   "metadata": {
    "ExecuteTime": {
     "end_time": "2020-05-22T16:16:14.833511Z",
     "start_time": "2020-05-22T16:16:14.745350Z"
    }
   },
   "outputs": [],
   "source": [
    "for table in ['president', 'vice_president']:\n",
    "    spark.sql(f\"\"\"\n",
    "                SELECT \n",
    "                    f.region, \n",
    "                    f.gadm_province, \n",
    "                    f.gadm_municipality, \n",
    "                    f.gadm_brgy,\n",
    "                    p.precinct_code, \n",
    "                    p.contest_code, \n",
    "                    p.candidate_name, \n",
    "                    p.party_code,\n",
    "                    p.votes, \n",
    "                    p.col5, \n",
    "                    p.ballots_cast, \n",
    "                    p.col7, \n",
    "                    p.col8, \n",
    "                    p.pct_votes\n",
    "                FROM {table} p\n",
    "                JOIN final_lookup f \n",
    "                ON p.precinct_code = f.precinct_code\n",
    "\n",
    "    \"\"\").createOrReplaceTempView(f'denorm_{table[:4]}')"
   ]
  },
  {
   "cell_type": "code",
   "execution_count": null,
   "metadata": {
    "ExecuteTime": {
     "end_time": "2020-05-22T16:16:46.762437Z",
     "start_time": "2020-05-22T16:16:26.809298Z"
    }
   },
   "outputs": [],
   "source": [
    "spark.sql('select * from denorm_vice limit 5').toPandas()"
   ]
  },
  {
   "cell_type": "code",
   "execution_count": null,
   "metadata": {
    "ExecuteTime": {
     "end_time": "2020-05-22T16:17:04.930407Z",
     "start_time": "2020-05-22T16:16:46.767638Z"
    }
   },
   "outputs": [],
   "source": [
    "spark.sql('select * from denorm_pres limit 5').toPandas()"
   ]
  },
  {
   "cell_type": "code",
   "execution_count": null,
   "metadata": {
    "ExecuteTime": {
     "end_time": "2020-05-22T16:17:57.181599Z",
     "start_time": "2020-05-22T16:17:09.530483Z"
    }
   },
   "outputs": [],
   "source": [
    "for table in tqdm(['pres', 'vice']):\n",
    "    save_query_to_csv(f'select * from denorm_{table}', f'denorm_{table}')"
   ]
  },
  {
   "cell_type": "code",
   "execution_count": 58,
   "metadata": {
    "ExecuteTime": {
     "end_time": "2020-05-23T06:24:44.520093Z",
     "start_time": "2020-05-23T06:24:44.507353Z"
    }
   },
   "outputs": [
    {
     "data": {
      "text/plain": [
       "['../output/voting_stats/part-00000-4c9f4b64-6b67-4649-94ca-d2e4c5371b1c-c000.csv',\n",
       " '../output/candidate_votes/part-00000-776665ea-06e8-468a-989c-c1480ab1689b-c000.csv',\n",
       " '../output/municipality_stats/part-00000-48ac1321-8295-41a2-8911-d1e516f14691-c000.csv']"
      ]
     },
     "execution_count": 58,
     "metadata": {},
     "output_type": "execute_result"
    }
   ],
   "source": [
    "files = glob(os.path.join('..', 'output','*','*csv'))\n",
    "files"
   ]
  },
  {
   "cell_type": "code",
   "execution_count": 59,
   "metadata": {
    "ExecuteTime": {
     "end_time": "2020-05-23T06:24:48.901262Z",
     "start_time": "2020-05-23T06:24:48.890238Z"
    }
   },
   "outputs": [
    {
     "data": {
      "text/plain": [
       "['part-00000-4c9f4b64-6b67-4649-94ca-d2e4c5371b1c-c000.csv',\n",
       " 'part-00000-776665ea-06e8-468a-989c-c1480ab1689b-c000.csv',\n",
       " 'part-00000-48ac1321-8295-41a2-8911-d1e516f14691-c000.csv']"
      ]
     },
     "execution_count": 59,
     "metadata": {},
     "output_type": "execute_result"
    }
   ],
   "source": [
    "ogfiles = list(map(lambda x: os.path.split(x)[-1], files))\n",
    "ogfiles"
   ]
  },
  {
   "cell_type": "code",
   "execution_count": 60,
   "metadata": {
    "ExecuteTime": {
     "end_time": "2020-05-23T06:24:51.501891Z",
     "start_time": "2020-05-23T06:24:51.490744Z"
    }
   },
   "outputs": [
    {
     "data": {
      "text/plain": [
       "['voting_stats.csv', 'candidate_votes.csv', 'municipality_stats.csv']"
      ]
     },
     "execution_count": 60,
     "metadata": {},
     "output_type": "execute_result"
    }
   ],
   "source": [
    "filenames = list(map(lambda x: x.split(os.sep)[2]+r'.csv', files))\n",
    "filenames"
   ]
  },
  {
   "cell_type": "code",
   "execution_count": 61,
   "metadata": {
    "ExecuteTime": {
     "end_time": "2020-05-23T06:24:56.949778Z",
     "start_time": "2020-05-23T06:24:56.914632Z"
    }
   },
   "outputs": [
    {
     "name": "stderr",
     "output_type": "stream",
     "text": [
      "3it [00:00, 225.15it/s]\n"
     ]
    }
   ],
   "source": [
    "for path, filename in tqdm(zip(files, filenames)):\n",
    "    try:\n",
    "        ogfilename = os.path.split(path)[-1]\n",
    "        shutil.move(path, os.path.join('..', 'output'))\n",
    "        os.rename(os.path.join('..', 'output', ogfilename), os.path.join('..', 'output', filename))\n",
    "        shutil.rmtree(os.path.join('..', 'output', filename.split('.')[0]))\n",
    "    except FileNotFoundError:\n",
    "        pass"
   ]
  },
  {
   "cell_type": "code",
   "execution_count": null,
   "metadata": {},
   "outputs": [],
   "source": []
  }
 ],
 "metadata": {
  "kernelspec": {
   "display_name": "Python 3",
   "language": "python",
   "name": "python3"
  },
  "language_info": {
   "codemirror_mode": {
    "name": "ipython",
    "version": 3
   },
   "file_extension": ".py",
   "mimetype": "text/x-python",
   "name": "python",
   "nbconvert_exporter": "python",
   "pygments_lexer": "ipython3",
   "version": "3.7.6"
  },
  "toc": {
   "base_numbering": 1,
   "nav_menu": {},
   "number_sections": true,
   "sideBar": true,
   "skip_h1_title": false,
   "title_cell": "Table of Contents",
   "title_sidebar": "Contents",
   "toc_cell": true,
   "toc_position": {},
   "toc_section_display": true,
   "toc_window_display": true
  }
 },
 "nbformat": 4,
 "nbformat_minor": 4
}
