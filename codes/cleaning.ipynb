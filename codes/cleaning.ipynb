{
 "cells": [
  {
   "cell_type": "markdown",
   "metadata": {
    "toc": true
   },
   "source": [
    "<h1>Table of Contents<span class=\"tocSkip\"></span></h1>\n",
    "<div class=\"toc\"><ul class=\"toc-item\"><li><span><a href=\"#Instructions\" data-toc-modified-id=\"Instructions-1\"><span class=\"toc-item-num\">1&nbsp;&nbsp;</span>Instructions</a></span></li><li><span><a href=\"#Workflow-Summary\" data-toc-modified-id=\"Workflow-Summary-2\"><span class=\"toc-item-num\">2&nbsp;&nbsp;</span>Workflow Summary</a></span></li><li><span><a href=\"#Preliminaries:-library-imports\" data-toc-modified-id=\"Preliminaries:-library-imports-3\"><span class=\"toc-item-num\">3&nbsp;&nbsp;</span>Preliminaries: library imports</a></span></li><li><span><a href=\"#Data-loading\" data-toc-modified-id=\"Data-loading-4\"><span class=\"toc-item-num\">4&nbsp;&nbsp;</span>Data loading</a></span></li><li><span><a href=\"#Data-dictionary\" data-toc-modified-id=\"Data-dictionary-5\"><span class=\"toc-item-num\">5&nbsp;&nbsp;</span>Data dictionary</a></span><ul class=\"toc-item\"><li><span><a href=\"#location\" data-toc-modified-id=\"location-5.1\"><span class=\"toc-item-num\">5.1&nbsp;&nbsp;</span><code>location</code></a></span></li><li><span><a href=\"#psgc\" data-toc-modified-id=\"psgc-5.2\"><span class=\"toc-item-num\">5.2&nbsp;&nbsp;</span><code>psgc</code></a></span></li></ul></li><li><span><a href=\"#Cleaning:-location-files\" data-toc-modified-id=\"Cleaning:-location-files-6\"><span class=\"toc-item-num\">6&nbsp;&nbsp;</span>Cleaning: location files</a></span><ul class=\"toc-item\"><li><span><a href=\"#first-pass-cleaning-:-provincial-level\" data-toc-modified-id=\"first-pass-cleaning-:-provincial-level-6.1\"><span class=\"toc-item-num\">6.1&nbsp;&nbsp;</span>first pass cleaning : provincial level</a></span></li><li><span><a href=\"#second-pass-cleaning:-municipal-level\" data-toc-modified-id=\"second-pass-cleaning:-municipal-level-6.2\"><span class=\"toc-item-num\">6.2&nbsp;&nbsp;</span>second pass cleaning: municipal level</a></span></li><li><span><a href=\"#third-pass:-barangay-level\" data-toc-modified-id=\"third-pass:-barangay-level-6.3\"><span class=\"toc-item-num\">6.3&nbsp;&nbsp;</span>third pass: barangay level</a></span></li><li><span><a href=\"#final-precinct-code-lookup\" data-toc-modified-id=\"final-precinct-code-lookup-6.4\"><span class=\"toc-item-num\">6.4&nbsp;&nbsp;</span>final precinct code lookup</a></span></li></ul></li><li><span><a href=\"#consolidate-lookup-information\" data-toc-modified-id=\"consolidate-lookup-information-7\"><span class=\"toc-item-num\">7&nbsp;&nbsp;</span>consolidate lookup information</a></span><ul class=\"toc-item\"><li><span><a href=\"#from-the-location-tables\" data-toc-modified-id=\"from-the-location-tables-7.1\"><span class=\"toc-item-num\">7.1&nbsp;&nbsp;</span>from the location tables</a></span></li><li><span><a href=\"#save-lookup-tables\" data-toc-modified-id=\"save-lookup-tables-7.2\"><span class=\"toc-item-num\">7.2&nbsp;&nbsp;</span>save lookup tables</a></span></li></ul></li><li><span><a href=\"#Denormalized-results-tables\" data-toc-modified-id=\"Denormalized-results-tables-8\"><span class=\"toc-item-num\">8&nbsp;&nbsp;</span>Denormalized results tables</a></span></li></ul></div>"
   ]
  },
  {
   "cell_type": "markdown",
   "metadata": {},
   "source": [
    "# Instructions\n",
    "\n",
    "Datasets:\n",
    "* `ref_table_precinct_locations_PSGC.csv` – lookup table for precincts\n",
    "* `results_president.csv` – precinct-level election results for the 2016 presidential race\n",
    "* `results_vice-president.csv` – precinct-level election results for the 2016 vice presidential race\n",
    "\n",
    "Tasks:\n",
    "1. Create a denormalized table replacing precinct_code in the results_*.csv files with the columns: region, province, municipality, and barangay. \n",
    "\n",
    "2. Create an interesting data visualization using this dataset."
   ]
  },
  {
   "cell_type": "markdown",
   "metadata": {},
   "source": [
    "# Workflow Summary\n",
    "\n",
    "1. Initial data inspection and data dictionary building\n",
    "2. Data cleaning\n",
    "3. EDA\n",
    "\n",
    "Since these datasets are rich with geodata, we'll use GADM shape files for plotting later on. This entails cleaning the location tags to match with the GADM labels. The general workflow for cleaning is divided in to three parts:\n",
    "1. Exact matching by merging the shape files and the location dataframe\n",
    "2. Manual cleaning for some items, especially those tagged as overseas votes since they are easily identifiable and we're sure that they're not in our shape files.\n",
    "3. Fuzzy matching for the rest of the entries.\n",
    "\n",
    "The result after these steps is a lookup table of precinct codes with the correct GADM location tags so we can easily merge them in Tableau for visualization, and a denormalized table for the `results` file so we can do preliminary EDA on the dataset."
   ]
  },
  {
   "cell_type": "markdown",
   "metadata": {},
   "source": [
    "# Preliminaries: library imports"
   ]
  },
  {
   "cell_type": "code",
   "execution_count": null,
   "metadata": {
    "ExecuteTime": {
     "end_time": "2020-05-23T01:42:02.192045Z",
     "start_time": "2020-05-23T01:41:55.513590Z"
    }
   },
   "outputs": [],
   "source": [
    "import pandas as pd\n",
    "import numpy as np\n",
    "import matplotlib.pyplot as plt\n",
    "%matplotlib inline\n",
    "\n",
    "#geodata\n",
    "import geopandas as gpd\n",
    "\n",
    "#utilities\n",
    "import os\n",
    "import shutil\n",
    "from glob import glob\n",
    "from operator import itemgetter\n",
    "from collections import defaultdict\n",
    "import json\n",
    "from tqdm import tqdm\n",
    "\n",
    "#for fuzzy maching\n",
    "from fuzzywuzzy import process\n",
    "\n",
    "# spark imports\n",
    "from pyspark.sql import SparkSession\n",
    "from pyspark import SparkContext\n",
    "from pyspark.sql.functions import udf\n",
    "import pyspark.sql.functions as F\n",
    "from pyspark.sql import Row\n",
    "\n",
    "sc = SparkContext()\n",
    "spark = SparkSession(sc)"
   ]
  },
  {
   "cell_type": "code",
   "execution_count": 2,
   "metadata": {
    "ExecuteTime": {
     "end_time": "2020-05-23T01:42:06.094251Z",
     "start_time": "2020-05-23T01:42:06.084064Z"
    }
   },
   "outputs": [
    {
     "name": "stdout",
     "output_type": "stream",
     "text": [
      "folder already exists!\n"
     ]
    }
   ],
   "source": [
    "try:\n",
    "    os.mkdir(os.path.join('..', 'output'))\n",
    "except:\n",
    "    print('folder already exists!')"
   ]
  },
  {
   "cell_type": "markdown",
   "metadata": {},
   "source": [
    "# Data loading"
   ]
  },
  {
   "cell_type": "code",
   "execution_count": 3,
   "metadata": {
    "ExecuteTime": {
     "end_time": "2020-05-23T01:42:09.729868Z",
     "start_time": "2020-05-23T01:42:09.717895Z"
    }
   },
   "outputs": [],
   "source": [
    "shape_files = sorted(glob(os.path.join('..', 'gadm', \"gadm*.shp\")))[1:]\n",
    "data_files = sorted(glob(os.path.join('..', 'datasets', '*.csv')))"
   ]
  },
  {
   "cell_type": "code",
   "execution_count": 4,
   "metadata": {
    "ExecuteTime": {
     "end_time": "2020-05-23T01:42:11.597488Z",
     "start_time": "2020-05-23T01:42:11.577902Z"
    }
   },
   "outputs": [
    {
     "data": {
      "text/plain": [
       "{'location': '../datasets/ref_table_precinct_locations.csv',\n",
       " 'psgc': '../datasets/ref_table_precinct_locations_PSGC.csv',\n",
       " 'president': '../datasets/results_president.csv',\n",
       " 'vice_president': '../datasets/results_vice-president.csv'}"
      ]
     },
     "execution_count": 4,
     "metadata": {},
     "output_type": "execute_result"
    }
   ],
   "source": [
    "datasets = dict(map(lambda x: (x.strip(r'.csv').split('_')[-1].lower().replace('-', '_'), x), data_files))\n",
    "datasets"
   ]
  },
  {
   "cell_type": "code",
   "execution_count": 5,
   "metadata": {
    "ExecuteTime": {
     "end_time": "2020-05-23T01:42:11.678953Z",
     "start_time": "2020-05-23T01:42:11.668806Z"
    }
   },
   "outputs": [
    {
     "data": {
      "text/plain": [
       "{'provincial': '../gadm/gadm36_PHL_1.shp',\n",
       " 'municipal': '../gadm/gadm36_PHL_2.shp',\n",
       " 'brgy': '../gadm/gadm36_PHL_3.shp'}"
      ]
     },
     "execution_count": 5,
     "metadata": {},
     "output_type": "execute_result"
    }
   ],
   "source": [
    "shapes = dict(zip(['provincial', 'municipal', 'brgy'], shape_files))\n",
    "shapes"
   ]
  },
  {
   "cell_type": "code",
   "execution_count": 6,
   "metadata": {
    "ExecuteTime": {
     "end_time": "2020-05-23T01:42:23.742356Z",
     "start_time": "2020-05-23T01:42:16.842976Z"
    }
   },
   "outputs": [
    {
     "name": "stderr",
     "output_type": "stream",
     "text": [
      "100%|██████████| 4/4 [00:06<00:00,  1.72s/it]\n"
     ]
    }
   ],
   "source": [
    "for label, filepath in tqdm(datasets.items()):\n",
    "    datasets[label] = spark.read.csv(filepath, sep=',', header=True)\n",
    "#     print(label)\n",
    "#     display(datasets[label].limit(2).toPandas())\n",
    "    datasets[label].createOrReplaceTempView(label)"
   ]
  },
  {
   "cell_type": "code",
   "execution_count": 7,
   "metadata": {
    "ExecuteTime": {
     "end_time": "2020-05-23T01:42:30.254269Z",
     "start_time": "2020-05-23T01:42:23.746401Z"
    }
   },
   "outputs": [
    {
     "name": "stderr",
     "output_type": "stream",
     "text": [
      "100%|██████████| 3/3 [00:06<00:00,  2.16s/it]\n"
     ]
    }
   ],
   "source": [
    "for label, filepath in tqdm(shapes.items()):\n",
    "#     print(label)\n",
    "    gdf = gpd.GeoDataFrame.from_file(filepath)\n",
    "    col_include = list(filter(lambda x: x.startswith('NAME') or x.startswith('VAR'), gdf.columns))\n",
    "    df = pd.DataFrame(gdf[col_include])\n",
    "    for col in df.columns:\n",
    "        df[col] = df[col].astype(str) \n",
    "    shapes[label] = spark.createDataFrame(df)\n",
    "    shapes[label].createOrReplaceTempView(label)\n",
    "#     display(shapes[label].limit(2).toPandas())"
   ]
  },
  {
   "cell_type": "code",
   "execution_count": 8,
   "metadata": {
    "ExecuteTime": {
     "end_time": "2020-05-23T01:42:30.487727Z",
     "start_time": "2020-05-23T01:42:30.258785Z"
    }
   },
   "outputs": [
    {
     "name": "stdout",
     "output_type": "stream",
     "text": [
      "+--------+--------------+-----------+\n",
      "|database|     tableName|isTemporary|\n",
      "+--------+--------------+-----------+\n",
      "|        |          brgy|       true|\n",
      "|        |      location|       true|\n",
      "|        |     municipal|       true|\n",
      "|        |     president|       true|\n",
      "|        |    provincial|       true|\n",
      "|        |          psgc|       true|\n",
      "|        |vice_president|       true|\n",
      "+--------+--------------+-----------+\n",
      "\n"
     ]
    }
   ],
   "source": [
    "spark.sql(\"SHOW TABLES\").show()"
   ]
  },
  {
   "cell_type": "markdown",
   "metadata": {},
   "source": [
    "# Data dictionary\n",
    "\n",
    "```{'location': '../datasets/ref_table_precinct_locations.csv',\n",
    " 'psgc': '../datasets/ref_table_precinct_locations_PSGC.csv',\n",
    " 'president': '../datasets/results_president.csv',\n",
    " 'vice_president': '../datasets/results_vice-president.csv'}```"
   ]
  },
  {
   "cell_type": "code",
   "execution_count": 9,
   "metadata": {
    "ExecuteTime": {
     "end_time": "2020-05-23T01:42:45.479696Z",
     "start_time": "2020-05-23T01:42:45.472880Z"
    }
   },
   "outputs": [
    {
     "data": {
      "text/plain": [
       "dict_keys(['location', 'psgc', 'president', 'vice_president'])"
      ]
     },
     "execution_count": 9,
     "metadata": {},
     "output_type": "execute_result"
    }
   ],
   "source": [
    "datasets.keys()"
   ]
  },
  {
   "cell_type": "markdown",
   "metadata": {},
   "source": [
    "## `location`\n",
    "* filename : `ref_table_precinct_locations.csv`"
   ]
  },
  {
   "cell_type": "code",
   "execution_count": 10,
   "metadata": {
    "ExecuteTime": {
     "end_time": "2020-05-23T01:42:47.118947Z",
     "start_time": "2020-05-23T01:42:47.093725Z"
    }
   },
   "outputs": [
    {
     "name": "stdout",
     "output_type": "stream",
     "text": [
      "root\n",
      " |-- precinct_code: string (nullable = true)\n",
      " |-- region: string (nullable = true)\n",
      " |-- province: string (nullable = true)\n",
      " |-- municipality: string (nullable = true)\n",
      " |-- barangay: string (nullable = true)\n",
      " |-- registered_voters: string (nullable = true)\n",
      " |-- ballots_cast: string (nullable = true)\n",
      "\n"
     ]
    }
   ],
   "source": [
    "datasets['location'].printSchema()"
   ]
  },
  {
   "cell_type": "code",
   "execution_count": 11,
   "metadata": {
    "ExecuteTime": {
     "end_time": "2020-05-23T01:42:49.599914Z",
     "start_time": "2020-05-23T01:42:49.303187Z"
    }
   },
   "outputs": [
    {
     "name": "stdout",
     "output_type": "stream",
     "text": [
      "+-------------+--------+----------+------------+--------+-----------------+------------+\n",
      "|precinct_code|  region|  province|municipality|barangay|registered_voters|ballots_cast|\n",
      "+-------------+--------+----------+------------+--------+-----------------+------------+\n",
      "|     55170026|REGION I|PANGASINAN|    CALASIAO| BUENLAG|              592|         503|\n",
      "|     55170027|REGION I|PANGASINAN|    CALASIAO| BUENLAG|              526|         458|\n",
      "+-------------+--------+----------+------------+--------+-----------------+------------+\n",
      "only showing top 2 rows\n",
      "\n"
     ]
    }
   ],
   "source": [
    "datasets['location'].show(2)"
   ]
  },
  {
   "cell_type": "markdown",
   "metadata": {
    "ExecuteTime": {
     "end_time": "2020-05-23T01:47:03.232104Z",
     "start_time": "2020-05-23T01:47:03.227708Z"
    }
   },
   "source": [
    "## `psgc`\n",
    "\n",
    "* filename: `ref_table_precinct_locations_PSGC.csv`\n",
    "\n",
    "**NOTES**\n",
    "* PSGC = [Philippine Standard Geographic Code](https://psa.gov.ph/classification/psgc/)\n",
    "* same fields as `location`:\n",
    "```python\n",
    " |-- precinct_code: string (nullable = true)\n",
    " |-- region: string (nullable = true)\n",
    " |-- province: string (nullable = true)\n",
    " |-- municipality: string (nullable = true)\n",
    " |-- barangay: string (nullable = true)\n",
    " |-- registered_voters: string (nullable = true)\n",
    " |-- ballots_cast: string (nullable = true)\n",
    "```\n",
    "\n",
    "* additional fields:\n",
    "    * `PSGC_CM`, `province_CM`, `municipality_CM` - PSGC-specific code, goes down to barangay level\n",
    "    * `is_city` - flag for city, 1 if city, 0 if not\n",
    "    * `income_class` - municipal level\n",
    "    * `population` - population, municipal level\n",
    "    * `land_area` - barangay level\n"
   ]
  },
  {
   "cell_type": "code",
   "execution_count": 16,
   "metadata": {
    "ExecuteTime": {
     "end_time": "2020-05-23T01:53:58.231233Z",
     "start_time": "2020-05-23T01:53:58.222423Z"
    }
   },
   "outputs": [
    {
     "name": "stdout",
     "output_type": "stream",
     "text": [
      "root\n",
      " |-- _c0: string (nullable = true)\n",
      " |-- precinct_code: string (nullable = true)\n",
      " |-- region: string (nullable = true)\n",
      " |-- province: string (nullable = true)\n",
      " |-- municipality: string (nullable = true)\n",
      " |-- barangay: string (nullable = true)\n",
      " |-- registered_voters: string (nullable = true)\n",
      " |-- ballots_cast: string (nullable = true)\n",
      " |-- PSGC_CM: string (nullable = true)\n",
      " |-- is_city: string (nullable = true)\n",
      " |-- income_class: string (nullable = true)\n",
      " |-- population: string (nullable = true)\n",
      " |-- land_area: string (nullable = true)\n",
      " |-- province_CM: string (nullable = true)\n",
      " |-- municipality_CM: string (nullable = true)\n",
      "\n"
     ]
    }
   ],
   "source": [
    "datasets['psgc'].printSchema()"
   ]
  },
  {
   "cell_type": "code",
   "execution_count": 19,
   "metadata": {
    "ExecuteTime": {
     "end_time": "2020-05-23T02:02:31.314700Z",
     "start_time": "2020-05-23T02:02:29.971927Z"
    }
   },
   "outputs": [
    {
     "data": {
      "text/html": [
       "<div>\n",
       "<style scoped>\n",
       "    .dataframe tbody tr th:only-of-type {\n",
       "        vertical-align: middle;\n",
       "    }\n",
       "\n",
       "    .dataframe tbody tr th {\n",
       "        vertical-align: top;\n",
       "    }\n",
       "\n",
       "    .dataframe thead th {\n",
       "        text-align: right;\n",
       "    }\n",
       "</style>\n",
       "<table border=\"1\" class=\"dataframe\">\n",
       "  <thead>\n",
       "    <tr style=\"text-align: right;\">\n",
       "      <th></th>\n",
       "      <th>_c0</th>\n",
       "      <th>precinct_code</th>\n",
       "      <th>region</th>\n",
       "      <th>province</th>\n",
       "      <th>municipality</th>\n",
       "      <th>barangay</th>\n",
       "      <th>registered_voters</th>\n",
       "      <th>ballots_cast</th>\n",
       "      <th>PSGC_CM</th>\n",
       "      <th>is_city</th>\n",
       "      <th>income_class</th>\n",
       "      <th>population</th>\n",
       "      <th>land_area</th>\n",
       "      <th>province_CM</th>\n",
       "      <th>municipality_CM</th>\n",
       "    </tr>\n",
       "  </thead>\n",
       "  <tbody>\n",
       "    <tr>\n",
       "      <th>0</th>\n",
       "      <td>816</td>\n",
       "      <td>55180077</td>\n",
       "      <td>REGION I</td>\n",
       "      <td>PANGASINAN</td>\n",
       "      <td>DAGUPAN CITY</td>\n",
       "      <td>CARANGLAAN</td>\n",
       "      <td>650</td>\n",
       "      <td>555</td>\n",
       "      <td>015518000</td>\n",
       "      <td>1.0</td>\n",
       "      <td>2nd Class</td>\n",
       "      <td>None</td>\n",
       "      <td>3723.0</td>\n",
       "      <td>PANGASINAN</td>\n",
       "      <td>DAGUPAN CITY</td>\n",
       "    </tr>\n",
       "    <tr>\n",
       "      <th>1</th>\n",
       "      <td>817</td>\n",
       "      <td>55180075</td>\n",
       "      <td>REGION I</td>\n",
       "      <td>PANGASINAN</td>\n",
       "      <td>DAGUPAN CITY</td>\n",
       "      <td>CARANGLAAN</td>\n",
       "      <td>784</td>\n",
       "      <td>655</td>\n",
       "      <td>015518000</td>\n",
       "      <td>1.0</td>\n",
       "      <td>2nd Class</td>\n",
       "      <td>None</td>\n",
       "      <td>3723.0</td>\n",
       "      <td>PANGASINAN</td>\n",
       "      <td>DAGUPAN CITY</td>\n",
       "    </tr>\n",
       "    <tr>\n",
       "      <th>2</th>\n",
       "      <td>818</td>\n",
       "      <td>55180073</td>\n",
       "      <td>REGION I</td>\n",
       "      <td>PANGASINAN</td>\n",
       "      <td>DAGUPAN CITY</td>\n",
       "      <td>CARANGLAAN</td>\n",
       "      <td>772</td>\n",
       "      <td>640</td>\n",
       "      <td>015518000</td>\n",
       "      <td>1.0</td>\n",
       "      <td>2nd Class</td>\n",
       "      <td>None</td>\n",
       "      <td>3723.0</td>\n",
       "      <td>PANGASINAN</td>\n",
       "      <td>DAGUPAN CITY</td>\n",
       "    </tr>\n",
       "    <tr>\n",
       "      <th>3</th>\n",
       "      <td>819</td>\n",
       "      <td>55180071</td>\n",
       "      <td>REGION I</td>\n",
       "      <td>PANGASINAN</td>\n",
       "      <td>DAGUPAN CITY</td>\n",
       "      <td>CARANGLAAN</td>\n",
       "      <td>655</td>\n",
       "      <td>561</td>\n",
       "      <td>015518000</td>\n",
       "      <td>1.0</td>\n",
       "      <td>2nd Class</td>\n",
       "      <td>None</td>\n",
       "      <td>3723.0</td>\n",
       "      <td>PANGASINAN</td>\n",
       "      <td>DAGUPAN CITY</td>\n",
       "    </tr>\n",
       "    <tr>\n",
       "      <th>4</th>\n",
       "      <td>820</td>\n",
       "      <td>55180076</td>\n",
       "      <td>REGION I</td>\n",
       "      <td>PANGASINAN</td>\n",
       "      <td>DAGUPAN CITY</td>\n",
       "      <td>CARANGLAAN</td>\n",
       "      <td>688</td>\n",
       "      <td>577</td>\n",
       "      <td>015518000</td>\n",
       "      <td>1.0</td>\n",
       "      <td>2nd Class</td>\n",
       "      <td>None</td>\n",
       "      <td>3723.0</td>\n",
       "      <td>PANGASINAN</td>\n",
       "      <td>DAGUPAN CITY</td>\n",
       "    </tr>\n",
       "    <tr>\n",
       "      <th>...</th>\n",
       "      <td>...</td>\n",
       "      <td>...</td>\n",
       "      <td>...</td>\n",
       "      <td>...</td>\n",
       "      <td>...</td>\n",
       "      <td>...</td>\n",
       "      <td>...</td>\n",
       "      <td>...</td>\n",
       "      <td>...</td>\n",
       "      <td>...</td>\n",
       "      <td>...</td>\n",
       "      <td>...</td>\n",
       "      <td>...</td>\n",
       "      <td>...</td>\n",
       "      <td>...</td>\n",
       "    </tr>\n",
       "    <tr>\n",
       "      <th>31993</th>\n",
       "      <td>90618</td>\n",
       "      <td>72010069</td>\n",
       "      <td>REGION IX</td>\n",
       "      <td>ZAMBOANGA DEL NORTE</td>\n",
       "      <td>DAPITAN CITY</td>\n",
       "      <td>SAN PEDRO</td>\n",
       "      <td>462</td>\n",
       "      <td>418</td>\n",
       "      <td>097201000</td>\n",
       "      <td>1.0</td>\n",
       "      <td>3rd Class</td>\n",
       "      <td>None</td>\n",
       "      <td>39053.0</td>\n",
       "      <td>ZAMBOANGA DEL NORTE</td>\n",
       "      <td>DAPITAN CITY</td>\n",
       "    </tr>\n",
       "    <tr>\n",
       "      <th>31994</th>\n",
       "      <td>90619</td>\n",
       "      <td>72010013</td>\n",
       "      <td>REGION IX</td>\n",
       "      <td>ZAMBOANGA DEL NORTE</td>\n",
       "      <td>DAPITAN CITY</td>\n",
       "      <td>POTOL (POB.)</td>\n",
       "      <td>476</td>\n",
       "      <td>435</td>\n",
       "      <td>097201000</td>\n",
       "      <td>1.0</td>\n",
       "      <td>3rd Class</td>\n",
       "      <td>None</td>\n",
       "      <td>39053.0</td>\n",
       "      <td>ZAMBOANGA DEL NORTE</td>\n",
       "      <td>DAPITAN CITY</td>\n",
       "    </tr>\n",
       "    <tr>\n",
       "      <th>31995</th>\n",
       "      <td>90620</td>\n",
       "      <td>72010014</td>\n",
       "      <td>REGION IX</td>\n",
       "      <td>ZAMBOANGA DEL NORTE</td>\n",
       "      <td>DAPITAN CITY</td>\n",
       "      <td>POTOL (POB.)</td>\n",
       "      <td>569</td>\n",
       "      <td>506</td>\n",
       "      <td>097201000</td>\n",
       "      <td>1.0</td>\n",
       "      <td>3rd Class</td>\n",
       "      <td>None</td>\n",
       "      <td>39053.0</td>\n",
       "      <td>ZAMBOANGA DEL NORTE</td>\n",
       "      <td>DAPITAN CITY</td>\n",
       "    </tr>\n",
       "    <tr>\n",
       "      <th>31996</th>\n",
       "      <td>90621</td>\n",
       "      <td>72010083</td>\n",
       "      <td>REGION IX</td>\n",
       "      <td>ZAMBOANGA DEL NORTE</td>\n",
       "      <td>DAPITAN CITY</td>\n",
       "      <td>TAG-OLO</td>\n",
       "      <td>479</td>\n",
       "      <td>434</td>\n",
       "      <td>097201000</td>\n",
       "      <td>1.0</td>\n",
       "      <td>3rd Class</td>\n",
       "      <td>None</td>\n",
       "      <td>39053.0</td>\n",
       "      <td>ZAMBOANGA DEL NORTE</td>\n",
       "      <td>DAPITAN CITY</td>\n",
       "    </tr>\n",
       "    <tr>\n",
       "      <th>31997</th>\n",
       "      <td>90622</td>\n",
       "      <td>72010075</td>\n",
       "      <td>REGION IX</td>\n",
       "      <td>ZAMBOANGA DEL NORTE</td>\n",
       "      <td>DAPITAN CITY</td>\n",
       "      <td>SILINOG</td>\n",
       "      <td>507</td>\n",
       "      <td>430</td>\n",
       "      <td>097201000</td>\n",
       "      <td>1.0</td>\n",
       "      <td>3rd Class</td>\n",
       "      <td>None</td>\n",
       "      <td>39053.0</td>\n",
       "      <td>ZAMBOANGA DEL NORTE</td>\n",
       "      <td>DAPITAN CITY</td>\n",
       "    </tr>\n",
       "  </tbody>\n",
       "</table>\n",
       "<p>31998 rows × 15 columns</p>\n",
       "</div>"
      ],
      "text/plain": [
       "         _c0 precinct_code     region             province  municipality  \\\n",
       "0        816      55180077   REGION I           PANGASINAN  DAGUPAN CITY   \n",
       "1        817      55180075   REGION I           PANGASINAN  DAGUPAN CITY   \n",
       "2        818      55180073   REGION I           PANGASINAN  DAGUPAN CITY   \n",
       "3        819      55180071   REGION I           PANGASINAN  DAGUPAN CITY   \n",
       "4        820      55180076   REGION I           PANGASINAN  DAGUPAN CITY   \n",
       "...      ...           ...        ...                  ...           ...   \n",
       "31993  90618      72010069  REGION IX  ZAMBOANGA DEL NORTE  DAPITAN CITY   \n",
       "31994  90619      72010013  REGION IX  ZAMBOANGA DEL NORTE  DAPITAN CITY   \n",
       "31995  90620      72010014  REGION IX  ZAMBOANGA DEL NORTE  DAPITAN CITY   \n",
       "31996  90621      72010083  REGION IX  ZAMBOANGA DEL NORTE  DAPITAN CITY   \n",
       "31997  90622      72010075  REGION IX  ZAMBOANGA DEL NORTE  DAPITAN CITY   \n",
       "\n",
       "           barangay registered_voters ballots_cast     PSGC_CM is_city  \\\n",
       "0        CARANGLAAN               650          555  015518000      1.0   \n",
       "1        CARANGLAAN               784          655  015518000      1.0   \n",
       "2        CARANGLAAN               772          640  015518000      1.0   \n",
       "3        CARANGLAAN               655          561  015518000      1.0   \n",
       "4        CARANGLAAN               688          577  015518000      1.0   \n",
       "...             ...               ...          ...         ...     ...   \n",
       "31993     SAN PEDRO               462          418  097201000      1.0   \n",
       "31994  POTOL (POB.)               476          435  097201000      1.0   \n",
       "31995  POTOL (POB.)               569          506  097201000      1.0   \n",
       "31996       TAG-OLO               479          434  097201000      1.0   \n",
       "31997       SILINOG               507          430  097201000      1.0   \n",
       "\n",
       "      income_class population land_area          province_CM municipality_CM  \n",
       "0       2nd Class        None    3723.0           PANGASINAN    DAGUPAN CITY  \n",
       "1       2nd Class        None    3723.0           PANGASINAN    DAGUPAN CITY  \n",
       "2       2nd Class        None    3723.0           PANGASINAN    DAGUPAN CITY  \n",
       "3       2nd Class        None    3723.0           PANGASINAN    DAGUPAN CITY  \n",
       "4       2nd Class        None    3723.0           PANGASINAN    DAGUPAN CITY  \n",
       "...            ...        ...       ...                  ...             ...  \n",
       "31993   3rd Class        None   39053.0  ZAMBOANGA DEL NORTE    DAPITAN CITY  \n",
       "31994   3rd Class        None   39053.0  ZAMBOANGA DEL NORTE    DAPITAN CITY  \n",
       "31995   3rd Class        None   39053.0  ZAMBOANGA DEL NORTE    DAPITAN CITY  \n",
       "31996   3rd Class        None   39053.0  ZAMBOANGA DEL NORTE    DAPITAN CITY  \n",
       "31997   3rd Class        None   39053.0  ZAMBOANGA DEL NORTE    DAPITAN CITY  \n",
       "\n",
       "[31998 rows x 15 columns]"
      ]
     },
     "execution_count": 19,
     "metadata": {},
     "output_type": "execute_result"
    },
    {
     "data": {
      "text/html": [
       "<div>\n",
       "<style scoped>\n",
       "    .dataframe tbody tr th:only-of-type {\n",
       "        vertical-align: middle;\n",
       "    }\n",
       "\n",
       "    .dataframe tbody tr th {\n",
       "        vertical-align: top;\n",
       "    }\n",
       "\n",
       "    .dataframe thead th {\n",
       "        text-align: right;\n",
       "    }\n",
       "</style>\n",
       "<table border=\"1\" class=\"dataframe\">\n",
       "  <thead>\n",
       "    <tr style=\"text-align: right;\">\n",
       "      <th></th>\n",
       "      <th>_c0</th>\n",
       "      <th>precinct_code</th>\n",
       "      <th>region</th>\n",
       "      <th>province</th>\n",
       "      <th>municipality</th>\n",
       "      <th>barangay</th>\n",
       "      <th>registered_voters</th>\n",
       "      <th>ballots_cast</th>\n",
       "      <th>PSGC_CM</th>\n",
       "      <th>is_city</th>\n",
       "      <th>income_class</th>\n",
       "      <th>population</th>\n",
       "      <th>land_area</th>\n",
       "      <th>province_CM</th>\n",
       "      <th>municipality_CM</th>\n",
       "    </tr>\n",
       "  </thead>\n",
       "  <tbody>\n",
       "    <tr>\n",
       "      <th>0</th>\n",
       "      <td>816</td>\n",
       "      <td>55180077</td>\n",
       "      <td>REGION I</td>\n",
       "      <td>PANGASINAN</td>\n",
       "      <td>DAGUPAN CITY</td>\n",
       "      <td>CARANGLAAN</td>\n",
       "      <td>650</td>\n",
       "      <td>555</td>\n",
       "      <td>015518000</td>\n",
       "      <td>1.0</td>\n",
       "      <td>2nd Class</td>\n",
       "      <td>None</td>\n",
       "      <td>3723.0</td>\n",
       "      <td>PANGASINAN</td>\n",
       "      <td>DAGUPAN CITY</td>\n",
       "    </tr>\n",
       "    <tr>\n",
       "      <th>1</th>\n",
       "      <td>817</td>\n",
       "      <td>55180075</td>\n",
       "      <td>REGION I</td>\n",
       "      <td>PANGASINAN</td>\n",
       "      <td>DAGUPAN CITY</td>\n",
       "      <td>CARANGLAAN</td>\n",
       "      <td>784</td>\n",
       "      <td>655</td>\n",
       "      <td>015518000</td>\n",
       "      <td>1.0</td>\n",
       "      <td>2nd Class</td>\n",
       "      <td>None</td>\n",
       "      <td>3723.0</td>\n",
       "      <td>PANGASINAN</td>\n",
       "      <td>DAGUPAN CITY</td>\n",
       "    </tr>\n",
       "    <tr>\n",
       "      <th>2</th>\n",
       "      <td>818</td>\n",
       "      <td>55180073</td>\n",
       "      <td>REGION I</td>\n",
       "      <td>PANGASINAN</td>\n",
       "      <td>DAGUPAN CITY</td>\n",
       "      <td>CARANGLAAN</td>\n",
       "      <td>772</td>\n",
       "      <td>640</td>\n",
       "      <td>015518000</td>\n",
       "      <td>1.0</td>\n",
       "      <td>2nd Class</td>\n",
       "      <td>None</td>\n",
       "      <td>3723.0</td>\n",
       "      <td>PANGASINAN</td>\n",
       "      <td>DAGUPAN CITY</td>\n",
       "    </tr>\n",
       "    <tr>\n",
       "      <th>3</th>\n",
       "      <td>819</td>\n",
       "      <td>55180071</td>\n",
       "      <td>REGION I</td>\n",
       "      <td>PANGASINAN</td>\n",
       "      <td>DAGUPAN CITY</td>\n",
       "      <td>CARANGLAAN</td>\n",
       "      <td>655</td>\n",
       "      <td>561</td>\n",
       "      <td>015518000</td>\n",
       "      <td>1.0</td>\n",
       "      <td>2nd Class</td>\n",
       "      <td>None</td>\n",
       "      <td>3723.0</td>\n",
       "      <td>PANGASINAN</td>\n",
       "      <td>DAGUPAN CITY</td>\n",
       "    </tr>\n",
       "    <tr>\n",
       "      <th>4</th>\n",
       "      <td>820</td>\n",
       "      <td>55180076</td>\n",
       "      <td>REGION I</td>\n",
       "      <td>PANGASINAN</td>\n",
       "      <td>DAGUPAN CITY</td>\n",
       "      <td>CARANGLAAN</td>\n",
       "      <td>688</td>\n",
       "      <td>577</td>\n",
       "      <td>015518000</td>\n",
       "      <td>1.0</td>\n",
       "      <td>2nd Class</td>\n",
       "      <td>None</td>\n",
       "      <td>3723.0</td>\n",
       "      <td>PANGASINAN</td>\n",
       "      <td>DAGUPAN CITY</td>\n",
       "    </tr>\n",
       "    <tr>\n",
       "      <th>...</th>\n",
       "      <td>...</td>\n",
       "      <td>...</td>\n",
       "      <td>...</td>\n",
       "      <td>...</td>\n",
       "      <td>...</td>\n",
       "      <td>...</td>\n",
       "      <td>...</td>\n",
       "      <td>...</td>\n",
       "      <td>...</td>\n",
       "      <td>...</td>\n",
       "      <td>...</td>\n",
       "      <td>...</td>\n",
       "      <td>...</td>\n",
       "      <td>...</td>\n",
       "      <td>...</td>\n",
       "    </tr>\n",
       "    <tr>\n",
       "      <th>31993</th>\n",
       "      <td>90618</td>\n",
       "      <td>72010069</td>\n",
       "      <td>REGION IX</td>\n",
       "      <td>ZAMBOANGA DEL NORTE</td>\n",
       "      <td>DAPITAN CITY</td>\n",
       "      <td>SAN PEDRO</td>\n",
       "      <td>462</td>\n",
       "      <td>418</td>\n",
       "      <td>097201000</td>\n",
       "      <td>1.0</td>\n",
       "      <td>3rd Class</td>\n",
       "      <td>None</td>\n",
       "      <td>39053.0</td>\n",
       "      <td>ZAMBOANGA DEL NORTE</td>\n",
       "      <td>DAPITAN CITY</td>\n",
       "    </tr>\n",
       "    <tr>\n",
       "      <th>31994</th>\n",
       "      <td>90619</td>\n",
       "      <td>72010013</td>\n",
       "      <td>REGION IX</td>\n",
       "      <td>ZAMBOANGA DEL NORTE</td>\n",
       "      <td>DAPITAN CITY</td>\n",
       "      <td>POTOL (POB.)</td>\n",
       "      <td>476</td>\n",
       "      <td>435</td>\n",
       "      <td>097201000</td>\n",
       "      <td>1.0</td>\n",
       "      <td>3rd Class</td>\n",
       "      <td>None</td>\n",
       "      <td>39053.0</td>\n",
       "      <td>ZAMBOANGA DEL NORTE</td>\n",
       "      <td>DAPITAN CITY</td>\n",
       "    </tr>\n",
       "    <tr>\n",
       "      <th>31995</th>\n",
       "      <td>90620</td>\n",
       "      <td>72010014</td>\n",
       "      <td>REGION IX</td>\n",
       "      <td>ZAMBOANGA DEL NORTE</td>\n",
       "      <td>DAPITAN CITY</td>\n",
       "      <td>POTOL (POB.)</td>\n",
       "      <td>569</td>\n",
       "      <td>506</td>\n",
       "      <td>097201000</td>\n",
       "      <td>1.0</td>\n",
       "      <td>3rd Class</td>\n",
       "      <td>None</td>\n",
       "      <td>39053.0</td>\n",
       "      <td>ZAMBOANGA DEL NORTE</td>\n",
       "      <td>DAPITAN CITY</td>\n",
       "    </tr>\n",
       "    <tr>\n",
       "      <th>31996</th>\n",
       "      <td>90621</td>\n",
       "      <td>72010083</td>\n",
       "      <td>REGION IX</td>\n",
       "      <td>ZAMBOANGA DEL NORTE</td>\n",
       "      <td>DAPITAN CITY</td>\n",
       "      <td>TAG-OLO</td>\n",
       "      <td>479</td>\n",
       "      <td>434</td>\n",
       "      <td>097201000</td>\n",
       "      <td>1.0</td>\n",
       "      <td>3rd Class</td>\n",
       "      <td>None</td>\n",
       "      <td>39053.0</td>\n",
       "      <td>ZAMBOANGA DEL NORTE</td>\n",
       "      <td>DAPITAN CITY</td>\n",
       "    </tr>\n",
       "    <tr>\n",
       "      <th>31997</th>\n",
       "      <td>90622</td>\n",
       "      <td>72010075</td>\n",
       "      <td>REGION IX</td>\n",
       "      <td>ZAMBOANGA DEL NORTE</td>\n",
       "      <td>DAPITAN CITY</td>\n",
       "      <td>SILINOG</td>\n",
       "      <td>507</td>\n",
       "      <td>430</td>\n",
       "      <td>097201000</td>\n",
       "      <td>1.0</td>\n",
       "      <td>3rd Class</td>\n",
       "      <td>None</td>\n",
       "      <td>39053.0</td>\n",
       "      <td>ZAMBOANGA DEL NORTE</td>\n",
       "      <td>DAPITAN CITY</td>\n",
       "    </tr>\n",
       "  </tbody>\n",
       "</table>\n",
       "<p>31998 rows × 15 columns</p>\n",
       "</div>"
      ],
      "text/plain": [
       "         _c0 precinct_code     region             province  municipality  \\\n",
       "0        816      55180077   REGION I           PANGASINAN  DAGUPAN CITY   \n",
       "1        817      55180075   REGION I           PANGASINAN  DAGUPAN CITY   \n",
       "2        818      55180073   REGION I           PANGASINAN  DAGUPAN CITY   \n",
       "3        819      55180071   REGION I           PANGASINAN  DAGUPAN CITY   \n",
       "4        820      55180076   REGION I           PANGASINAN  DAGUPAN CITY   \n",
       "...      ...           ...        ...                  ...           ...   \n",
       "31993  90618      72010069  REGION IX  ZAMBOANGA DEL NORTE  DAPITAN CITY   \n",
       "31994  90619      72010013  REGION IX  ZAMBOANGA DEL NORTE  DAPITAN CITY   \n",
       "31995  90620      72010014  REGION IX  ZAMBOANGA DEL NORTE  DAPITAN CITY   \n",
       "31996  90621      72010083  REGION IX  ZAMBOANGA DEL NORTE  DAPITAN CITY   \n",
       "31997  90622      72010075  REGION IX  ZAMBOANGA DEL NORTE  DAPITAN CITY   \n",
       "\n",
       "           barangay registered_voters ballots_cast     PSGC_CM is_city  \\\n",
       "0        CARANGLAAN               650          555  015518000      1.0   \n",
       "1        CARANGLAAN               784          655  015518000      1.0   \n",
       "2        CARANGLAAN               772          640  015518000      1.0   \n",
       "3        CARANGLAAN               655          561  015518000      1.0   \n",
       "4        CARANGLAAN               688          577  015518000      1.0   \n",
       "...             ...               ...          ...         ...     ...   \n",
       "31993     SAN PEDRO               462          418  097201000      1.0   \n",
       "31994  POTOL (POB.)               476          435  097201000      1.0   \n",
       "31995  POTOL (POB.)               569          506  097201000      1.0   \n",
       "31996       TAG-OLO               479          434  097201000      1.0   \n",
       "31997       SILINOG               507          430  097201000      1.0   \n",
       "\n",
       "      income_class population land_area          province_CM municipality_CM  \n",
       "0       2nd Class        None    3723.0           PANGASINAN    DAGUPAN CITY  \n",
       "1       2nd Class        None    3723.0           PANGASINAN    DAGUPAN CITY  \n",
       "2       2nd Class        None    3723.0           PANGASINAN    DAGUPAN CITY  \n",
       "3       2nd Class        None    3723.0           PANGASINAN    DAGUPAN CITY  \n",
       "4       2nd Class        None    3723.0           PANGASINAN    DAGUPAN CITY  \n",
       "...            ...        ...       ...                  ...             ...  \n",
       "31993   3rd Class        None   39053.0  ZAMBOANGA DEL NORTE    DAPITAN CITY  \n",
       "31994   3rd Class        None   39053.0  ZAMBOANGA DEL NORTE    DAPITAN CITY  \n",
       "31995   3rd Class        None   39053.0  ZAMBOANGA DEL NORTE    DAPITAN CITY  \n",
       "31996   3rd Class        None   39053.0  ZAMBOANGA DEL NORTE    DAPITAN CITY  \n",
       "31997   3rd Class        None   39053.0  ZAMBOANGA DEL NORTE    DAPITAN CITY  \n",
       "\n",
       "[31998 rows x 15 columns]"
      ]
     },
     "execution_count": 19,
     "metadata": {},
     "output_type": "execute_result"
    }
   ],
   "source": [
    "datasets['psgc'].where('is_city <> 0').toPandas()"
   ]
  },
  {
   "cell_type": "code",
   "execution_count": 17,
   "metadata": {
    "ExecuteTime": {
     "end_time": "2020-05-23T02:00:50.789785Z",
     "start_time": "2020-05-23T02:00:50.578776Z"
    }
   },
   "outputs": [
    {
     "ename": "KeyError",
     "evalue": "'ira'",
     "output_type": "error",
     "traceback": [
      "\u001b[0;31m---------------------------------------------------------------------------\u001b[0m",
      "\u001b[0;31mKeyError\u001b[0m                                  Traceback (most recent call last)",
      "\u001b[0;32m<ipython-input-17-cb763b53afa1>\u001b[0m in \u001b[0;36m<module>\u001b[0;34m\u001b[0m\n\u001b[0;32m----> 1\u001b[0;31m \u001b[0mdatasets\u001b[0m\u001b[0;34m[\u001b[0m\u001b[0;34m'ira'\u001b[0m\u001b[0;34m]\u001b[0m\u001b[0;34m\u001b[0m\u001b[0;34m\u001b[0m\u001b[0m\n\u001b[0m",
      "\u001b[0;31mKeyError\u001b[0m: 'ira'"
     ]
    }
   ],
   "source": []
  },
  {
   "cell_type": "markdown",
   "metadata": {},
   "source": [
    "# Cleaning: location files"
   ]
  },
  {
   "cell_type": "markdown",
   "metadata": {},
   "source": [
    "## first pass cleaning : provincial level"
   ]
  },
  {
   "cell_type": "code",
   "execution_count": null,
   "metadata": {
    "ExecuteTime": {
     "end_time": "2020-05-22T17:41:19.286605Z",
     "start_time": "2020-05-22T17:41:16.403153Z"
    }
   },
   "outputs": [],
   "source": [
    "spark.sql('select distinct region, province from location').count()"
   ]
  },
  {
   "cell_type": "code",
   "execution_count": null,
   "metadata": {
    "ExecuteTime": {
     "end_time": "2020-05-23T01:16:20.213774Z",
     "start_time": "2020-05-23T01:16:20.076438Z"
    }
   },
   "outputs": [],
   "source": [
    "lookup = spark.sql(\"\"\"\n",
    "            SELECT DISTINCT\n",
    "                --l.precinct_code, \n",
    "                l.region, \n",
    "                l.province, \n",
    "                --l.municipality,\n",
    "                --l.barangay,\n",
    "                p.NAME_1 gadm_province \n",
    "                --b.NAME_2 gadm_municipality, \n",
    "                --b.NAME_3 gadm_brgy\n",
    "            FROM location l\n",
    "            LEFT JOIN provincial p\n",
    "                ON (UPPER(p.NAME_1) = l.province OR (UPPER(p.VARNAME_1) = l.province))\n",
    "--                AND UPPER(b.NAME_2) = l.municipality\n",
    "--                AND UPPER(b.NAME_3) = l.barangay\n",
    "\"\"\")\n",
    "lookup.createOrReplaceTempView('lookup')"
   ]
  },
  {
   "cell_type": "code",
   "execution_count": null,
   "metadata": {
    "ExecuteTime": {
     "end_time": "2020-05-22T17:41:24.886532Z",
     "start_time": "2020-05-22T17:41:19.432999Z"
    }
   },
   "outputs": [],
   "source": [
    "spark.sql('SELECT * FROM lookup WHERE gadm_province IS NULL').toPandas()"
   ]
  },
  {
   "cell_type": "code",
   "execution_count": null,
   "metadata": {
    "ExecuteTime": {
     "end_time": "2020-05-23T01:16:28.522106Z",
     "start_time": "2020-05-23T01:16:22.510205Z"
    }
   },
   "outputs": [],
   "source": [
    "lookup = spark.sql(\"\"\"\n",
    "            SELECT \n",
    "                --precinct_code,\n",
    "                region, \n",
    "                province,\n",
    "                CASE \n",
    "                    WHEN region = \"NCR\"\n",
    "                        THEN \"Metropolitan Manila\"\n",
    "                    WHEN region = \"OAV\"\n",
    "                        THEN province\n",
    "                    WHEN province = \"DAVAO OCCIDENTAL\"\n",
    "                        THEN \"Davao del Sur\"\n",
    "                    WHEN province LIKE \"%WESTERN%\"\n",
    "                        THEN \"Samar\"\n",
    "                    WHEN province LIKE \"%DAVAO DEL NORTE%\"\n",
    "                        THEN \"Davao del Norte\"\n",
    "                    WHEN province LIKE \"COTABATO%NORTH%\"\n",
    "                        THEN \"North Cotabato\"\n",
    "                        ELSE gadm_province\n",
    "                END as gadm_province\n",
    "            FROM lookup\n",
    "\"\"\")\n",
    "lookup.createOrReplaceTempView('lookup')\n",
    "spark.sql('SELECT * FROM lookup WHERE gadm_province IS NULL').toPandas()"
   ]
  },
  {
   "cell_type": "code",
   "execution_count": null,
   "metadata": {
    "ExecuteTime": {
     "end_time": "2020-05-22T17:41:31.905266Z",
     "start_time": "2020-05-22T17:41:28.472239Z"
    }
   },
   "outputs": [],
   "source": [
    "spark.sql('select count(*) from lookup').show()"
   ]
  },
  {
   "cell_type": "markdown",
   "metadata": {},
   "source": [
    "## second pass cleaning: municipal level"
   ]
  },
  {
   "cell_type": "code",
   "execution_count": null,
   "metadata": {
    "ExecuteTime": {
     "end_time": "2020-05-22T17:41:33.193939Z",
     "start_time": "2020-05-22T17:41:31.910094Z"
    }
   },
   "outputs": [],
   "source": [
    "spark.sql('select distinct region, province, municipality from location').count()"
   ]
  },
  {
   "cell_type": "code",
   "execution_count": null,
   "metadata": {
    "ExecuteTime": {
     "end_time": "2020-05-23T01:16:32.422972Z",
     "start_time": "2020-05-23T01:16:32.279699Z"
    }
   },
   "outputs": [],
   "source": [
    "lookup = spark.sql(\"\"\"\n",
    "            SELECT DISTINCT\n",
    "                k.region, \n",
    "                k.province, \n",
    "                k.gadm_province, \n",
    "                l.municipality, \n",
    "                m.NAME_2 gadm_municipality\n",
    "            FROM lookup k\n",
    "            LEFT JOIN (SELECT DISTINCT province, municipality FROM location) as l\n",
    "                ON l.province = k.province\n",
    "            LEFT JOIN municipal m\n",
    "                ON m.NAME_1 = k.gadm_province \n",
    "                    AND (\n",
    "                        UPPER(m.NAME_2) = l.municipality \n",
    "                            OR UPPER(m.VARNAME_2) = l.municipality\n",
    "                        )\n",
    "\"\"\")\n",
    "lookup.createOrReplaceTempView('lookup')"
   ]
  },
  {
   "cell_type": "code",
   "execution_count": null,
   "metadata": {
    "ExecuteTime": {
     "end_time": "2020-05-22T17:41:39.745959Z",
     "start_time": "2020-05-22T17:41:33.328426Z"
    }
   },
   "outputs": [],
   "source": [
    "spark.sql('select count(*) from lookup').show()"
   ]
  },
  {
   "cell_type": "code",
   "execution_count": null,
   "metadata": {
    "ExecuteTime": {
     "end_time": "2020-05-22T17:41:44.996767Z",
     "start_time": "2020-05-22T17:41:39.748796Z"
    }
   },
   "outputs": [],
   "source": [
    "spark.sql('SELECT * FROM lookup WHERE gadm_municipality IS NULL').toPandas()"
   ]
  },
  {
   "cell_type": "code",
   "execution_count": null,
   "metadata": {
    "ExecuteTime": {
     "end_time": "2020-05-23T01:16:35.368930Z",
     "start_time": "2020-05-23T01:16:35.291738Z"
    }
   },
   "outputs": [],
   "source": [
    "lookup = spark.sql(\"\"\"\n",
    "            SELECT \n",
    "                --precinct_code,\n",
    "                region, \n",
    "                province,\n",
    "                gadm_province,\n",
    "                municipality,\n",
    "                CASE \n",
    "                    WHEN province LIKE \"%MANILA\"\n",
    "                        THEN \"Manila\"\n",
    "                    WHEN region = \"OAV\"\n",
    "                        THEN municipality\n",
    "                        ELSE gadm_municipality\n",
    "                END as gadm_municipality\n",
    "            FROM lookup\n",
    "\"\"\")\n",
    "lookup.createOrReplaceTempView('lookup')"
   ]
  },
  {
   "cell_type": "code",
   "execution_count": null,
   "metadata": {
    "ExecuteTime": {
     "end_time": "2020-05-22T17:41:50.471090Z",
     "start_time": "2020-05-22T17:41:45.075890Z"
    }
   },
   "outputs": [],
   "source": [
    "spark.sql('SELECT * FROM lookup WHERE gadm_municipality IS NULL').toPandas()"
   ]
  },
  {
   "cell_type": "code",
   "execution_count": null,
   "metadata": {
    "ExecuteTime": {
     "end_time": "2020-05-22T17:41:55.388925Z",
     "start_time": "2020-05-22T17:41:50.473793Z"
    }
   },
   "outputs": [],
   "source": [
    "spark.sql('select count(*) from lookup').show()"
   ]
  },
  {
   "cell_type": "code",
   "execution_count": null,
   "metadata": {
    "ExecuteTime": {
     "end_time": "2020-05-23T01:16:38.611777Z",
     "start_time": "2020-05-23T01:16:38.599632Z"
    }
   },
   "outputs": [],
   "source": [
    "def create_reference_dict(query):\n",
    "    reference = spark.sql(query).toJSON().collect()\n",
    "    ref = defaultdict(list)\n",
    "    for entry in reference:\n",
    "        items = json.loads(entry)\n",
    "        if len(items) < 3:\n",
    "            ref[items['NAME_1']] += [items['NAME_2']]\n",
    "        else:\n",
    "            ref[(items['NAME_1'], items['NAME_2'])] += [items['NAME_3']]\n",
    "    return ref"
   ]
  },
  {
   "cell_type": "code",
   "execution_count": null,
   "metadata": {
    "ExecuteTime": {
     "end_time": "2020-05-23T01:16:53.274838Z",
     "start_time": "2020-05-23T01:16:45.159850Z"
    }
   },
   "outputs": [],
   "source": [
    "query = \"\"\"\n",
    "                SELECT NAME_1, NAME_2\n",
    "                FROM municipal\n",
    "                WHERE NAME_1 IN (SELECT gadm_province FROM lookup WHERE gadm_municipality IS NULL)\n",
    "                --AND NAME_2 NOT IN (SELECT gadm_municipality FROM lookup WHERE gadm_municipality IS NOT NULL)\n",
    "    \"\"\"\n",
    "reference = create_reference_dict(query)"
   ]
  },
  {
   "cell_type": "code",
   "execution_count": null,
   "metadata": {
    "ExecuteTime": {
     "end_time": "2020-05-23T01:16:59.527105Z",
     "start_time": "2020-05-23T01:16:59.514661Z"
    }
   },
   "outputs": [],
   "source": [
    "def map_municipalities(r):\n",
    "    if r.gadm_municipality:\n",
    "        return r\n",
    "#     elif r.region == \"OAV\":\n",
    "#         return Row(r.region, r.province, r.gadm_province, r.municipality, r.municipality)\n",
    "    else:\n",
    "        m = r.municipality\n",
    "        p = r.gadm_province\n",
    "        try:\n",
    "            municipalities = reference[p]\n",
    "            g = process.extractOne(m, municipalities)[0]\n",
    "        except:\n",
    "            return r\n",
    "        if g is None:\n",
    "            return r\n",
    "        else:\n",
    "            return Row(r.region, r.province, r.gadm_province, r.municipality, g)"
   ]
  },
  {
   "cell_type": "code",
   "execution_count": null,
   "metadata": {
    "ExecuteTime": {
     "end_time": "2020-05-23T01:17:02.584870Z",
     "start_time": "2020-05-23T01:17:00.089696Z"
    }
   },
   "outputs": [],
   "source": [
    "rdd = lookup.rdd.map(map_municipalities)\n",
    "lookup = rdd.toDF()\n",
    "lookup.createOrReplaceTempView('lookup')"
   ]
  },
  {
   "cell_type": "code",
   "execution_count": null,
   "metadata": {
    "ExecuteTime": {
     "end_time": "2020-05-22T17:42:09.068802Z",
     "start_time": "2020-05-22T17:42:05.433892Z"
    }
   },
   "outputs": [],
   "source": [
    "spark.sql('select * from lookup where gadm_municipality is null').toPandas()"
   ]
  },
  {
   "cell_type": "code",
   "execution_count": null,
   "metadata": {
    "ExecuteTime": {
     "end_time": "2020-05-22T17:42:12.491733Z",
     "start_time": "2020-05-22T17:42:09.071767Z"
    }
   },
   "outputs": [],
   "source": [
    "spark.sql('select count(*) from lookup').show()"
   ]
  },
  {
   "cell_type": "markdown",
   "metadata": {},
   "source": [
    "## third pass: barangay level"
   ]
  },
  {
   "cell_type": "code",
   "execution_count": null,
   "metadata": {
    "ExecuteTime": {
     "end_time": "2020-05-22T17:42:13.691388Z",
     "start_time": "2020-05-22T17:42:12.497147Z"
    }
   },
   "outputs": [],
   "source": [
    "spark.sql('select distinct region, province, municipality, barangay from location').count()"
   ]
  },
  {
   "cell_type": "code",
   "execution_count": null,
   "metadata": {
    "ExecuteTime": {
     "end_time": "2020-05-23T01:17:08.379803Z",
     "start_time": "2020-05-23T01:17:08.314793Z"
    }
   },
   "outputs": [],
   "source": [
    "lookup = spark.sql(\"\"\"\n",
    "            SELECT DISTINCT\n",
    "                k.region, \n",
    "                k.province, \n",
    "                k.gadm_province, \n",
    "                k.municipality, \n",
    "                k.gadm_municipality,\n",
    "                l.barangay\n",
    "                --, b.NAME_3 gadm_brgy\n",
    "            FROM lookup k\n",
    "            LEFT JOIN location l\n",
    "                ON l.province = k.province\n",
    "                AND l.municipality = k.municipality\n",
    "\n",
    "\"\"\")\n",
    "lookup.createOrReplaceTempView('lookup')"
   ]
  },
  {
   "cell_type": "code",
   "execution_count": null,
   "metadata": {
    "ExecuteTime": {
     "end_time": "2020-05-22T17:42:19.278327Z",
     "start_time": "2020-05-22T17:42:13.781068Z"
    }
   },
   "outputs": [],
   "source": [
    "spark.sql('select * from lookup limit 5').show()"
   ]
  },
  {
   "cell_type": "code",
   "execution_count": null,
   "metadata": {
    "ExecuteTime": {
     "end_time": "2020-05-23T01:17:12.009039Z",
     "start_time": "2020-05-23T01:17:11.949244Z"
    }
   },
   "outputs": [],
   "source": [
    "lookup = spark.sql(\"\"\"\n",
    "            SELECT DISTINCT \n",
    "                k.region, \n",
    "                k.province, \n",
    "                k.gadm_province, \n",
    "                k.municipality, \n",
    "                k.gadm_municipality, \n",
    "                k.barangay, \n",
    "                b.NAME_3 gadm_brgy\n",
    "            FROM lookup k\n",
    "            LEFT JOIN brgy b\n",
    "            ON b.NAME_1 = k.gadm_province\n",
    "            AND b.NAME_2 = k.gadm_municipality\n",
    "            AND (UPPER(b.NAME_3) = k.barangay)\n",
    "\"\"\")\n",
    "lookup.createOrReplaceTempView('lookup')"
   ]
  },
  {
   "cell_type": "code",
   "execution_count": null,
   "metadata": {
    "ExecuteTime": {
     "end_time": "2020-05-22T17:42:27.755428Z",
     "start_time": "2020-05-22T17:42:19.339300Z"
    }
   },
   "outputs": [],
   "source": [
    "lookup.show(5)"
   ]
  },
  {
   "cell_type": "code",
   "execution_count": null,
   "metadata": {
    "ExecuteTime": {
     "end_time": "2020-05-22T17:42:37.864428Z",
     "start_time": "2020-05-22T17:42:27.759772Z"
    }
   },
   "outputs": [],
   "source": [
    "lookup.count()"
   ]
  },
  {
   "cell_type": "code",
   "execution_count": null,
   "metadata": {
    "ExecuteTime": {
     "end_time": "2020-05-22T17:42:47.132406Z",
     "start_time": "2020-05-22T17:42:37.867793Z"
    }
   },
   "outputs": [],
   "source": [
    "spark.sql('SELECT count(*) FROM lookup WHERE gadm_brgy IS NULL').show()"
   ]
  },
  {
   "cell_type": "code",
   "execution_count": null,
   "metadata": {
    "ExecuteTime": {
     "end_time": "2020-05-23T01:17:14.625467Z",
     "start_time": "2020-05-23T01:17:14.579243Z"
    }
   },
   "outputs": [],
   "source": [
    "lookup = spark.sql(\"\"\"\n",
    "            SELECT \n",
    "                --precinct_code,\n",
    "                region, \n",
    "                province,\n",
    "                gadm_province,\n",
    "                municipality,\n",
    "                gadm_municipality,\n",
    "                barangay,\n",
    "                CASE \n",
    "                    WHEN region = \"OAV\"\n",
    "                        THEN barangay\n",
    "                        ELSE gadm_brgy\n",
    "                END as gadm_brgy\n",
    "            FROM lookup\n",
    "\"\"\")\n",
    "lookup.createOrReplaceTempView('lookup')"
   ]
  },
  {
   "cell_type": "code",
   "execution_count": null,
   "metadata": {
    "ExecuteTime": {
     "end_time": "2020-05-22T17:42:55.911580Z",
     "start_time": "2020-05-22T17:42:47.191671Z"
    }
   },
   "outputs": [],
   "source": [
    "spark.sql('SELECT count(*) FROM lookup WHERE gadm_brgy IS NULL').show()"
   ]
  },
  {
   "cell_type": "code",
   "execution_count": null,
   "metadata": {
    "ExecuteTime": {
     "end_time": "2020-05-23T01:17:38.047207Z",
     "start_time": "2020-05-23T01:17:17.468415Z"
    }
   },
   "outputs": [],
   "source": [
    "query = \"\"\"\n",
    "            SELECT NAME_1, NAME_2, NAME_3\n",
    "            FROM brgy\n",
    "            WHERE NAME_1 in (SELECT gadm_province FROM lookup WHERE gadm_brgy IS NULL)\n",
    "            AND NAME_2 in (SELECT gadm_municipality FROM lookup WHERE gadm_brgy IS NULL)\n",
    "            --AND NAME_2 NOT IN (SELECT gadm_municipality FROM lookup WHERE gadm_municipality IS NOT NULL)\n",
    "\"\"\"\n",
    "reference = create_reference_dict(query)"
   ]
  },
  {
   "cell_type": "code",
   "execution_count": null,
   "metadata": {
    "ExecuteTime": {
     "end_time": "2020-05-23T01:17:38.055741Z",
     "start_time": "2020-05-23T01:17:38.049834Z"
    }
   },
   "outputs": [],
   "source": [
    "len(reference)"
   ]
  },
  {
   "cell_type": "code",
   "execution_count": null,
   "metadata": {
    "ExecuteTime": {
     "end_time": "2020-05-23T01:17:38.072648Z",
     "start_time": "2020-05-23T01:17:38.059417Z"
    }
   },
   "outputs": [],
   "source": [
    "def map_brgys(r):\n",
    "    if r.gadm_brgy:\n",
    "        return r\n",
    "    else:\n",
    "        m = r.gadm_municipality\n",
    "        p = r.gadm_province\n",
    "        b = r.barangay\n",
    "        \n",
    "        brgys = reference[(p, m)]\n",
    "        g = process.extractOne(b, brgys)[0]\n",
    "        if g is None:\n",
    "            return r\n",
    "        else:\n",
    "            return Row(r.region, r.province, r.gadm_province, r.municipality, r.gadm_municipality, r.barangay, g)"
   ]
  },
  {
   "cell_type": "code",
   "execution_count": null,
   "metadata": {
    "ExecuteTime": {
     "end_time": "2020-05-23T01:17:46.358759Z",
     "start_time": "2020-05-23T01:17:38.075922Z"
    }
   },
   "outputs": [],
   "source": [
    "rdd = lookup.rdd.map(map_brgys)\n",
    "lookup = rdd.toDF()\n",
    "lookup.createOrReplaceTempView('lookup')"
   ]
  },
  {
   "cell_type": "code",
   "execution_count": null,
   "metadata": {
    "ExecuteTime": {
     "end_time": "2020-05-22T17:43:29.776758Z",
     "start_time": "2020-05-22T17:43:18.936205Z"
    }
   },
   "outputs": [],
   "source": [
    "spark.sql('select count(*) from lookup where gadm_brgy is null').show()"
   ]
  },
  {
   "cell_type": "code",
   "execution_count": null,
   "metadata": {
    "ExecuteTime": {
     "end_time": "2020-05-23T01:17:46.632960Z",
     "start_time": "2020-05-23T01:17:46.362844Z"
    }
   },
   "outputs": [],
   "source": [
    "spark.sql('select * from lookup limit 5').show()"
   ]
  },
  {
   "cell_type": "code",
   "execution_count": null,
   "metadata": {
    "ExecuteTime": {
     "end_time": "2020-05-22T17:43:39.998378Z",
     "start_time": "2020-05-22T17:43:29.999110Z"
    }
   },
   "outputs": [],
   "source": [
    "lookup.count()"
   ]
  },
  {
   "cell_type": "markdown",
   "metadata": {},
   "source": [
    "## final precinct code lookup"
   ]
  },
  {
   "cell_type": "code",
   "execution_count": null,
   "metadata": {
    "ExecuteTime": {
     "end_time": "2020-05-22T17:43:40.859931Z",
     "start_time": "2020-05-22T17:43:40.002386Z"
    }
   },
   "outputs": [],
   "source": [
    "spark.sql('select count(distinct precinct_code) from location').show()"
   ]
  },
  {
   "cell_type": "code",
   "execution_count": null,
   "metadata": {
    "ExecuteTime": {
     "end_time": "2020-05-22T17:43:51.510118Z",
     "start_time": "2020-05-22T17:43:40.864108Z"
    }
   },
   "outputs": [],
   "source": [
    "spark.sql('select count(*) from lookup').show()"
   ]
  },
  {
   "cell_type": "code",
   "execution_count": null,
   "metadata": {
    "ExecuteTime": {
     "end_time": "2020-05-22T17:44:05.358130Z",
     "start_time": "2020-05-22T17:43:51.520082Z"
    }
   },
   "outputs": [],
   "source": [
    "spark.sql('select distinct(*) from lookup').count()"
   ]
  },
  {
   "cell_type": "code",
   "execution_count": null,
   "metadata": {
    "ExecuteTime": {
     "end_time": "2020-05-22T17:44:05.551697Z",
     "start_time": "2020-05-22T17:44:05.361843Z"
    }
   },
   "outputs": [],
   "source": [
    "lookup.show(2)"
   ]
  },
  {
   "cell_type": "code",
   "execution_count": null,
   "metadata": {
    "ExecuteTime": {
     "end_time": "2020-05-23T01:18:19.595894Z",
     "start_time": "2020-05-23T01:18:19.548951Z"
    }
   },
   "outputs": [],
   "source": [
    "final_lookup = spark.sql(\"\"\"\n",
    "            SELECT DISTINCT\n",
    "                l.precinct_code, \n",
    "                k.region,\n",
    "                k.gadm_province, \n",
    "                k.gadm_municipality, \n",
    "                k.gadm_brgy\n",
    "            FROM location l\n",
    "            LEFT JOIN lookup k\n",
    "                ON k.province = l.province\n",
    "                AND k.municipality = l.municipality\n",
    "                AND k.barangay = l.barangay\n",
    "\"\"\")\n",
    "final_lookup.createOrReplaceTempView('final_lookup')"
   ]
  },
  {
   "cell_type": "markdown",
   "metadata": {},
   "source": [
    "# consolidate lookup information"
   ]
  },
  {
   "cell_type": "code",
   "execution_count": null,
   "metadata": {
    "ExecuteTime": {
     "end_time": "2020-05-23T01:21:12.652257Z",
     "start_time": "2020-05-23T01:21:12.574743Z"
    }
   },
   "outputs": [],
   "source": [
    "spark.sql('show tables').show()"
   ]
  },
  {
   "cell_type": "markdown",
   "metadata": {},
   "source": [
    "## from the location tables\n",
    "* `final_lookup` has the clean GADM tags for region, province, municipality and brgy\n",
    "* `lookup` has the mapping for unclean --> clean geotags\n",
    "* `psgc` has additional location information such as land area, population, etc. "
   ]
  },
  {
   "cell_type": "code",
   "execution_count": null,
   "metadata": {
    "ExecuteTime": {
     "end_time": "2020-05-23T01:18:37.427107Z",
     "start_time": "2020-05-23T01:18:20.228054Z"
    },
    "scrolled": true
   },
   "outputs": [],
   "source": [
    "spark.sql('select * from final_lookup limit 5').show()"
   ]
  },
  {
   "cell_type": "code",
   "execution_count": null,
   "metadata": {
    "ExecuteTime": {
     "end_time": "2020-05-23T01:19:23.881528Z",
     "start_time": "2020-05-23T01:19:23.751437Z"
    },
    "scrolled": true
   },
   "outputs": [],
   "source": [
    "spark.sql('select * from location limit 5').show()"
   ]
  },
  {
   "cell_type": "code",
   "execution_count": null,
   "metadata": {
    "ExecuteTime": {
     "end_time": "2020-05-23T01:19:58.264698Z",
     "start_time": "2020-05-23T01:19:58.076147Z"
    }
   },
   "outputs": [],
   "source": [
    "spark.sql('select  from psgc limit 5').toPandas()"
   ]
  },
  {
   "cell_type": "code",
   "execution_count": null,
   "metadata": {
    "ExecuteTime": {
     "end_time": "2020-05-23T01:23:14.982175Z",
     "start_time": "2020-05-23T01:23:14.849857Z"
    }
   },
   "outputs": [],
   "source": [
    "spark.sql('select * from president limit 5').toPandas()"
   ]
  },
  {
   "cell_type": "code",
   "execution_count": null,
   "metadata": {
    "ExecuteTime": {
     "end_time": "2020-05-22T17:44:39.923760Z",
     "start_time": "2020-05-22T17:44:22.539949Z"
    }
   },
   "outputs": [],
   "source": [
    "final_lookup.count()"
   ]
  },
  {
   "cell_type": "code",
   "execution_count": null,
   "metadata": {
    "ExecuteTime": {
     "end_time": "2020-05-22T17:44:50.573884Z",
     "start_time": "2020-05-22T17:44:39.928692Z"
    }
   },
   "outputs": [],
   "source": [
    "spark.sql('''select * from lookup \n",
    "          where province = \"SORSOGON\" \n",
    "          and municipality=\"SORSOGON CITY\" and barangay=\"POBLACION\"''').show()"
   ]
  },
  {
   "cell_type": "code",
   "execution_count": null,
   "metadata": {
    "ExecuteTime": {
     "end_time": "2020-05-22T17:44:51.136979Z",
     "start_time": "2020-05-22T17:44:50.578669Z"
    }
   },
   "outputs": [],
   "source": [
    "spark.sql('select * from location where precinct_code = 62160095').show()"
   ]
  },
  {
   "cell_type": "markdown",
   "metadata": {},
   "source": [
    "## save lookup tables"
   ]
  },
  {
   "cell_type": "code",
   "execution_count": null,
   "metadata": {
    "ExecuteTime": {
     "end_time": "2020-05-22T17:44:51.157056Z",
     "start_time": "2020-05-22T17:44:51.141823Z"
    }
   },
   "outputs": [],
   "source": [
    "def save_query_to_csv(query, filename):\n",
    "    path = os.path.join('..', 'output', filename)\n",
    "    try:\n",
    "        spark.sql(query\n",
    "                 ).coalesce(1).write.option(\n",
    "            \"header\", \"true\").csv(path)\n",
    "        print('file saved!')\n",
    "    except:\n",
    "        inp = input('file already exists! retry save? Y/N')\n",
    "        if inp =='Y':\n",
    "            shutil.rmtree(path)\n",
    "            save_query_to_csv(query, filename)\n",
    "        else:\n",
    "            pass"
   ]
  },
  {
   "cell_type": "code",
   "execution_count": null,
   "metadata": {
    "ExecuteTime": {
     "end_time": "2020-05-22T16:15:56.755281Z",
     "start_time": "2020-05-22T16:15:52.604054Z"
    }
   },
   "outputs": [],
   "source": [
    "save_query_to_csv('select * from final_lookup', 'lookup')"
   ]
  },
  {
   "cell_type": "code",
   "execution_count": null,
   "metadata": {
    "ExecuteTime": {
     "end_time": "2020-05-22T16:16:04.692803Z",
     "start_time": "2020-05-22T16:15:58.715244Z"
    }
   },
   "outputs": [],
   "source": [
    "save_query_to_csv('''select \n",
    "                precinct_code, \n",
    "                registered_voters, \n",
    "                ballots_cast \n",
    "            from location''', 'location')"
   ]
  },
  {
   "cell_type": "code",
   "execution_count": null,
   "metadata": {
    "ExecuteTime": {
     "end_time": "2020-05-22T17:57:07.379961Z",
     "start_time": "2020-05-22T17:57:06.397890Z"
    }
   },
   "outputs": [],
   "source": [
    "save_query_to_csv('''select precinct_code,\n",
    "              registered_voters, \n",
    "              ballots_cast, \n",
    "              is_city, \n",
    "              CASE WHEN SUBSTRING(income_class, 0,3) = \"-\"\n",
    "                  THEN NULL\n",
    "                  ELSE SUBSTRING(income_class, 0,3)\n",
    "                END as income_class,\n",
    "              population, \n",
    "              land_area \n",
    "          from psgc''', 'psgc')"
   ]
  },
  {
   "cell_type": "markdown",
   "metadata": {},
   "source": [
    "# Denormalized results tables"
   ]
  },
  {
   "cell_type": "code",
   "execution_count": null,
   "metadata": {
    "ExecuteTime": {
     "end_time": "2020-05-22T16:16:14.833511Z",
     "start_time": "2020-05-22T16:16:14.745350Z"
    }
   },
   "outputs": [],
   "source": [
    "for table in ['president', 'vice_president']:\n",
    "    spark.sql(f\"\"\"\n",
    "                SELECT \n",
    "                    f.region, \n",
    "                    f.gadm_province, \n",
    "                    f.gadm_municipality, \n",
    "                    f.gadm_brgy,\n",
    "                    p.precinct_code, \n",
    "                    p.contest_code, \n",
    "                    p.candidate_name, \n",
    "                    p.party_code,\n",
    "                    p.votes, \n",
    "                    p.col5, \n",
    "                    p.ballots_cast, \n",
    "                    p.col7, \n",
    "                    p.col8, \n",
    "                    p.pct_votes\n",
    "                FROM {table} p\n",
    "                JOIN final_lookup f \n",
    "                ON p.precinct_code = f.precinct_code\n",
    "\n",
    "    \"\"\").createOrReplaceTempView(f'denorm_{table[:4]}')"
   ]
  },
  {
   "cell_type": "code",
   "execution_count": null,
   "metadata": {
    "ExecuteTime": {
     "end_time": "2020-05-22T16:16:46.762437Z",
     "start_time": "2020-05-22T16:16:26.809298Z"
    }
   },
   "outputs": [],
   "source": [
    "spark.sql('select * from denorm_vice limit 5').toPandas()"
   ]
  },
  {
   "cell_type": "code",
   "execution_count": null,
   "metadata": {
    "ExecuteTime": {
     "end_time": "2020-05-22T16:17:04.930407Z",
     "start_time": "2020-05-22T16:16:46.767638Z"
    }
   },
   "outputs": [],
   "source": [
    "spark.sql('select * from denorm_pres limit 5').toPandas()"
   ]
  },
  {
   "cell_type": "code",
   "execution_count": null,
   "metadata": {
    "ExecuteTime": {
     "end_time": "2020-05-22T16:17:57.181599Z",
     "start_time": "2020-05-22T16:17:09.530483Z"
    }
   },
   "outputs": [],
   "source": [
    "for table in tqdm(['pres', 'vice']):\n",
    "    save_query_to_csv(f'select * from denorm_{table}', f'denorm_{table}')"
   ]
  },
  {
   "cell_type": "code",
   "execution_count": null,
   "metadata": {
    "ExecuteTime": {
     "end_time": "2020-05-22T17:57:14.741885Z",
     "start_time": "2020-05-22T17:57:14.729329Z"
    }
   },
   "outputs": [],
   "source": [
    "files = glob(os.path.join('..', 'output','*','*csv'))\n",
    "files"
   ]
  },
  {
   "cell_type": "code",
   "execution_count": null,
   "metadata": {
    "ExecuteTime": {
     "end_time": "2020-05-22T17:57:15.899551Z",
     "start_time": "2020-05-22T17:57:15.887485Z"
    }
   },
   "outputs": [],
   "source": [
    "ogfiles = list(map(lambda x: os.path.split(x)[-1], files))\n",
    "ogfiles"
   ]
  },
  {
   "cell_type": "code",
   "execution_count": null,
   "metadata": {
    "ExecuteTime": {
     "end_time": "2020-05-22T17:57:17.459645Z",
     "start_time": "2020-05-22T17:57:17.447474Z"
    }
   },
   "outputs": [],
   "source": [
    "filenames = list(map(lambda x: x.split(os.sep)[2]+r'.csv', files))\n",
    "filenames"
   ]
  },
  {
   "cell_type": "code",
   "execution_count": null,
   "metadata": {
    "ExecuteTime": {
     "end_time": "2020-05-22T17:57:18.841051Z",
     "start_time": "2020-05-22T17:57:18.817192Z"
    }
   },
   "outputs": [],
   "source": [
    "for path, filename in tqdm(zip(files, filenames)):\n",
    "    try:\n",
    "        ogfilename = os.path.split(path)[-1]\n",
    "        shutil.move(path, os.path.join('..', 'output'))\n",
    "        os.rename(os.path.join('..', 'output', ogfilename), os.path.join('..', 'output', filename))\n",
    "        shutil.rmtree(os.path.join('..', 'output', filename.split('.')[0]))\n",
    "    except FileNotFoundError:\n",
    "        pass"
   ]
  },
  {
   "cell_type": "code",
   "execution_count": null,
   "metadata": {},
   "outputs": [],
   "source": []
  }
 ],
 "metadata": {
  "kernelspec": {
   "display_name": "Python 3",
   "language": "python",
   "name": "python3"
  },
  "language_info": {
   "codemirror_mode": {
    "name": "ipython",
    "version": 3
   },
   "file_extension": ".py",
   "mimetype": "text/x-python",
   "name": "python",
   "nbconvert_exporter": "python",
   "pygments_lexer": "ipython3",
   "version": "3.7.6"
  },
  "toc": {
   "base_numbering": 1,
   "nav_menu": {},
   "number_sections": true,
   "sideBar": true,
   "skip_h1_title": false,
   "title_cell": "Table of Contents",
   "title_sidebar": "Contents",
   "toc_cell": true,
   "toc_position": {},
   "toc_section_display": true,
   "toc_window_display": true
  }
 },
 "nbformat": 4,
 "nbformat_minor": 4
}
