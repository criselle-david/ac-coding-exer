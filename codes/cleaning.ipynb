{
 "cells": [
  {
   "cell_type": "markdown",
   "metadata": {},
   "source": [
    "# Instructions\n",
    "\n",
    "Datasets:\n",
    "* `ref_table_precinct_locations_PSGC.csv` – lookup table for precincts\n",
    "* `results_president.csv` – precinct-level election results for the 2016 presidential race\n",
    "* `results_vice-president.csv` – precinct-level election results for the 2016 vice presidential race\n",
    "\n",
    "Tasks:\n",
    "1. Create a denormalized table replacing precinct_code in the results_*.csv files with the columns: region, province, municipality, and barangay. \n",
    "\n",
    "2. Create an interesting data visualization using this dataset."
   ]
  },
  {
   "cell_type": "markdown",
   "metadata": {},
   "source": [
    "# Workflow Summary\n",
    "\n",
    "Since these datasets are rich with geodata, we'll use GADM shape files for plotting later on. This entails cleaning the location tags to match with the GADM labels. The general workflow for cleaning is divided in to three parts:\n",
    "1. Exact matching by merging the shape files and the location dataframe\n",
    "2. Manual cleaning for some items, especially those tagged as overseas votes since they are easily identifiable and we're sure that they're not in our shape files.\n",
    "3. Fuzzy matching for the rest of the entries.\n",
    "\n",
    "The result after these steps is a lookup table of precinct codes with the correct GADM location tags so we can easily merge them in Tableau for visualization, and a denormalized table for the `results` file so we can do preliminary EDA on the dataset."
   ]
  },
  {
   "cell_type": "markdown",
   "metadata": {},
   "source": [
    "# Preliminaries: library imports"
   ]
  },
  {
   "cell_type": "code",
   "execution_count": 1,
   "metadata": {
    "ExecuteTime": {
     "end_time": "2020-05-22T16:30:27.030744Z",
     "start_time": "2020-05-22T16:30:21.058040Z"
    }
   },
   "outputs": [],
   "source": [
    "import pandas as pd\n",
    "import numpy as np\n",
    "import matplotlib.pyplot as plt\n",
    "%matplotlib inline\n",
    "\n",
    "#geodata\n",
    "import geopandas as gpd\n",
    "\n",
    "#utilities\n",
    "import os\n",
    "import shutil\n",
    "from glob import glob\n",
    "from operator import itemgetter\n",
    "from collections import defaultdict\n",
    "import json\n",
    "from tqdm import tqdm\n",
    "\n",
    "#for fuzzy maching\n",
    "from fuzzywuzzy import process\n",
    "\n",
    "# spark imports\n",
    "from pyspark.sql import SparkSession\n",
    "from pyspark import SparkContext\n",
    "from pyspark.sql.functions import udf\n",
    "import pyspark.sql.functions as F\n",
    "from pyspark.sql import Row\n",
    "\n",
    "sc = SparkContext()\n",
    "spark = SparkSession(sc)"
   ]
  },
  {
   "cell_type": "code",
   "execution_count": 2,
   "metadata": {
    "ExecuteTime": {
     "end_time": "2020-05-22T16:30:30.255186Z",
     "start_time": "2020-05-22T16:30:30.247715Z"
    }
   },
   "outputs": [
    {
     "name": "stdout",
     "output_type": "stream",
     "text": [
      "folder already exists!\n",
      "folder already exists!\n"
     ]
    }
   ],
   "source": [
    "try:\n",
    "    os.mkdir(os.path.join('..', 'output'))\n",
    "except:\n",
    "    print('folder already exists!')"
   ]
  },
  {
   "cell_type": "markdown",
   "metadata": {},
   "source": [
    "# Data loading"
   ]
  },
  {
   "cell_type": "code",
   "execution_count": 3,
   "metadata": {
    "ExecuteTime": {
     "end_time": "2020-05-22T16:11:10.405092Z",
     "start_time": "2020-05-22T16:11:10.395010Z"
    }
   },
   "outputs": [],
   "source": [
    "shape_files = sorted(glob(os.path.join('..', 'gadm', \"gadm*.shp\")))[1:]\n",
    "data_files = sorted(glob(os.path.join('..', 'datasets', '*.csv')))"
   ]
  },
  {
   "cell_type": "code",
   "execution_count": 4,
   "metadata": {
    "ExecuteTime": {
     "end_time": "2020-05-22T16:11:10.724744Z",
     "start_time": "2020-05-22T16:11:10.709561Z"
    }
   },
   "outputs": [
    {
     "data": {
      "text/plain": [
       "{'location': '../datasets/ref_table_precinct_locations.csv',\n",
       " 'psgc': '../datasets/ref_table_precinct_locations_PSGC.csv',\n",
       " 'president': '../datasets/results_president.csv',\n",
       " 'vice_president': '../datasets/results_vice-president.csv'}"
      ]
     },
     "execution_count": 4,
     "metadata": {},
     "output_type": "execute_result"
    }
   ],
   "source": [
    "datasets = dict(map(lambda x: (x.strip(r'.csv').split('_')[-1].lower().replace('-', '_'), x), data_files))\n",
    "datasets"
   ]
  },
  {
   "cell_type": "code",
   "execution_count": 5,
   "metadata": {
    "ExecuteTime": {
     "end_time": "2020-05-22T16:11:12.048691Z",
     "start_time": "2020-05-22T16:11:12.040133Z"
    }
   },
   "outputs": [
    {
     "data": {
      "text/plain": [
       "{'provincial': '../gadm/gadm36_PHL_1.shp',\n",
       " 'municipal': '../gadm/gadm36_PHL_2.shp',\n",
       " 'brgy': '../gadm/gadm36_PHL_3.shp'}"
      ]
     },
     "execution_count": 5,
     "metadata": {},
     "output_type": "execute_result"
    }
   ],
   "source": [
    "shapes = dict(zip(['provincial', 'municipal', 'brgy'], shape_files))\n",
    "shapes"
   ]
  },
  {
   "cell_type": "code",
   "execution_count": 6,
   "metadata": {
    "ExecuteTime": {
     "end_time": "2020-05-22T16:11:25.997329Z",
     "start_time": "2020-05-22T16:11:20.714380Z"
    }
   },
   "outputs": [
    {
     "name": "stderr",
     "output_type": "stream",
     "text": [
      "100%|██████████| 4/4 [00:05<00:00,  1.31s/it]\n"
     ]
    }
   ],
   "source": [
    "for label, filepath in tqdm(datasets.items()):\n",
    "    datasets[label] = spark.read.csv(filepath, sep=',', header=True)\n",
    "#     print(label)\n",
    "#     display(datasets[label].limit(2).toPandas())\n",
    "    datasets[label].createOrReplaceTempView(label)"
   ]
  },
  {
   "cell_type": "code",
   "execution_count": 7,
   "metadata": {
    "ExecuteTime": {
     "end_time": "2020-05-22T16:11:32.516482Z",
     "start_time": "2020-05-22T16:11:27.484524Z"
    }
   },
   "outputs": [
    {
     "name": "stderr",
     "output_type": "stream",
     "text": [
      "100%|██████████| 3/3 [00:05<00:00,  1.67s/it]\n"
     ]
    }
   ],
   "source": [
    "for label, filepath in tqdm(shapes.items()):\n",
    "#     print(label)\n",
    "    gdf = gpd.GeoDataFrame.from_file(filepath)\n",
    "    col_include = list(filter(lambda x: x.startswith('NAME') or x.startswith('VAR'), gdf.columns))\n",
    "    df = pd.DataFrame(gdf[col_include])\n",
    "    for col in df.columns:\n",
    "        df[col] = df[col].astype(str) \n",
    "    shapes[label] = spark.createDataFrame(df)\n",
    "    shapes[label].createOrReplaceTempView(label)\n",
    "#     display(shapes[label].limit(2).toPandas())"
   ]
  },
  {
   "cell_type": "code",
   "execution_count": 8,
   "metadata": {
    "ExecuteTime": {
     "end_time": "2020-05-22T16:11:32.683476Z",
     "start_time": "2020-05-22T16:11:32.521191Z"
    }
   },
   "outputs": [
    {
     "name": "stdout",
     "output_type": "stream",
     "text": [
      "+--------+--------------+-----------+\n",
      "|database|     tableName|isTemporary|\n",
      "+--------+--------------+-----------+\n",
      "|        |          brgy|       true|\n",
      "|        |      location|       true|\n",
      "|        |     municipal|       true|\n",
      "|        |     president|       true|\n",
      "|        |    provincial|       true|\n",
      "|        |          psgc|       true|\n",
      "|        |vice_president|       true|\n",
      "+--------+--------------+-----------+\n",
      "\n"
     ]
    }
   ],
   "source": [
    "spark.sql(\"SHOW TABLES\").show()"
   ]
  },
  {
   "cell_type": "markdown",
   "metadata": {},
   "source": [
    "# Cleaning"
   ]
  },
  {
   "cell_type": "markdown",
   "metadata": {},
   "source": [
    "## first pass cleaning : provincial level"
   ]
  },
  {
   "cell_type": "code",
   "execution_count": 9,
   "metadata": {
    "ExecuteTime": {
     "end_time": "2020-05-22T16:11:35.273822Z",
     "start_time": "2020-05-22T16:11:32.687954Z"
    }
   },
   "outputs": [
    {
     "data": {
      "text/plain": [
       "90"
      ]
     },
     "execution_count": 9,
     "metadata": {},
     "output_type": "execute_result"
    }
   ],
   "source": [
    "spark.sql('select distinct region, province from location').count()"
   ]
  },
  {
   "cell_type": "code",
   "execution_count": 10,
   "metadata": {
    "ExecuteTime": {
     "end_time": "2020-05-22T16:11:38.454312Z",
     "start_time": "2020-05-22T16:11:38.345464Z"
    }
   },
   "outputs": [],
   "source": [
    "lookup = spark.sql(\"\"\"\n",
    "            SELECT DISTINCT\n",
    "                --l.precinct_code, \n",
    "                l.region, \n",
    "                l.province, \n",
    "                --l.municipality,\n",
    "                --l.barangay,\n",
    "                p.NAME_1 gadm_province \n",
    "                --b.NAME_2 gadm_municipality, \n",
    "                --b.NAME_3 gadm_brgy\n",
    "            FROM location l\n",
    "            LEFT JOIN provincial p\n",
    "                ON (UPPER(p.NAME_1) = l.province OR (UPPER(p.VARNAME_1) = l.province))\n",
    "--                AND UPPER(b.NAME_2) = l.municipality\n",
    "--                AND UPPER(b.NAME_3) = l.barangay\n",
    "\"\"\")\n",
    "lookup.createOrReplaceTempView('lookup')"
   ]
  },
  {
   "cell_type": "code",
   "execution_count": 11,
   "metadata": {
    "ExecuteTime": {
     "end_time": "2020-05-22T16:11:42.999960Z",
     "start_time": "2020-05-22T16:11:38.457975Z"
    }
   },
   "outputs": [
    {
     "data": {
      "text/html": [
       "<div>\n",
       "<style scoped>\n",
       "    .dataframe tbody tr th:only-of-type {\n",
       "        vertical-align: middle;\n",
       "    }\n",
       "\n",
       "    .dataframe tbody tr th {\n",
       "        vertical-align: top;\n",
       "    }\n",
       "\n",
       "    .dataframe thead th {\n",
       "        text-align: right;\n",
       "    }\n",
       "</style>\n",
       "<table border=\"1\" class=\"dataframe\">\n",
       "  <thead>\n",
       "    <tr style=\"text-align: right;\">\n",
       "      <th></th>\n",
       "      <th>region</th>\n",
       "      <th>province</th>\n",
       "      <th>gadm_province</th>\n",
       "    </tr>\n",
       "  </thead>\n",
       "  <tbody>\n",
       "    <tr>\n",
       "      <th>0</th>\n",
       "      <td>REGION XI</td>\n",
       "      <td>DAVAO (DAVAO DEL NORTE)</td>\n",
       "      <td>None</td>\n",
       "    </tr>\n",
       "    <tr>\n",
       "      <th>1</th>\n",
       "      <td>NCR</td>\n",
       "      <td>TAGUIG - PATEROS</td>\n",
       "      <td>None</td>\n",
       "    </tr>\n",
       "    <tr>\n",
       "      <th>2</th>\n",
       "      <td>OAV</td>\n",
       "      <td>ASIA</td>\n",
       "      <td>None</td>\n",
       "    </tr>\n",
       "    <tr>\n",
       "      <th>3</th>\n",
       "      <td>OAV</td>\n",
       "      <td>MIDDLE EAST AND AFRICAS</td>\n",
       "      <td>None</td>\n",
       "    </tr>\n",
       "    <tr>\n",
       "      <th>4</th>\n",
       "      <td>REGION XI</td>\n",
       "      <td>DAVAO OCCIDENTAL</td>\n",
       "      <td>None</td>\n",
       "    </tr>\n",
       "    <tr>\n",
       "      <th>5</th>\n",
       "      <td>OAV</td>\n",
       "      <td>NORTH AND LATIN AMERICA</td>\n",
       "      <td>None</td>\n",
       "    </tr>\n",
       "    <tr>\n",
       "      <th>6</th>\n",
       "      <td>NCR</td>\n",
       "      <td>NATIONAL CAPITAL REGION - THIRD DISTRICT</td>\n",
       "      <td>None</td>\n",
       "    </tr>\n",
       "    <tr>\n",
       "      <th>7</th>\n",
       "      <td>NCR</td>\n",
       "      <td>NATIONAL CAPITAL REGION - FOURTH DISTRICT</td>\n",
       "      <td>None</td>\n",
       "    </tr>\n",
       "    <tr>\n",
       "      <th>8</th>\n",
       "      <td>OAV</td>\n",
       "      <td>EUROPE</td>\n",
       "      <td>None</td>\n",
       "    </tr>\n",
       "    <tr>\n",
       "      <th>9</th>\n",
       "      <td>NCR</td>\n",
       "      <td>NATIONAL CAPITAL REGION - SECOND DISTRICT</td>\n",
       "      <td>None</td>\n",
       "    </tr>\n",
       "    <tr>\n",
       "      <th>10</th>\n",
       "      <td>NCR</td>\n",
       "      <td>NATIONAL CAPITAL REGION - MANILA</td>\n",
       "      <td>None</td>\n",
       "    </tr>\n",
       "    <tr>\n",
       "      <th>11</th>\n",
       "      <td>REGION VIII</td>\n",
       "      <td>SAMAR (WESTERN SAMAR)</td>\n",
       "      <td>None</td>\n",
       "    </tr>\n",
       "    <tr>\n",
       "      <th>12</th>\n",
       "      <td>REGION XII</td>\n",
       "      <td>COTABATO (NORTH COT.)</td>\n",
       "      <td>None</td>\n",
       "    </tr>\n",
       "  </tbody>\n",
       "</table>\n",
       "</div>"
      ],
      "text/plain": [
       "         region                                   province gadm_province\n",
       "0     REGION XI                    DAVAO (DAVAO DEL NORTE)          None\n",
       "1           NCR                           TAGUIG - PATEROS          None\n",
       "2           OAV                                       ASIA          None\n",
       "3           OAV                    MIDDLE EAST AND AFRICAS          None\n",
       "4     REGION XI                           DAVAO OCCIDENTAL          None\n",
       "5           OAV                    NORTH AND LATIN AMERICA          None\n",
       "6           NCR   NATIONAL CAPITAL REGION - THIRD DISTRICT          None\n",
       "7           NCR  NATIONAL CAPITAL REGION - FOURTH DISTRICT          None\n",
       "8           OAV                                     EUROPE          None\n",
       "9           NCR  NATIONAL CAPITAL REGION - SECOND DISTRICT          None\n",
       "10          NCR           NATIONAL CAPITAL REGION - MANILA          None\n",
       "11  REGION VIII                      SAMAR (WESTERN SAMAR)          None\n",
       "12   REGION XII                      COTABATO (NORTH COT.)          None"
      ]
     },
     "execution_count": 11,
     "metadata": {},
     "output_type": "execute_result"
    }
   ],
   "source": [
    "spark.sql('SELECT * FROM lookup WHERE gadm_province IS NULL').toPandas()"
   ]
  },
  {
   "cell_type": "code",
   "execution_count": 12,
   "metadata": {
    "ExecuteTime": {
     "end_time": "2020-05-22T16:11:53.672413Z",
     "start_time": "2020-05-22T16:11:51.069481Z"
    }
   },
   "outputs": [
    {
     "data": {
      "text/html": [
       "<div>\n",
       "<style scoped>\n",
       "    .dataframe tbody tr th:only-of-type {\n",
       "        vertical-align: middle;\n",
       "    }\n",
       "\n",
       "    .dataframe tbody tr th {\n",
       "        vertical-align: top;\n",
       "    }\n",
       "\n",
       "    .dataframe thead th {\n",
       "        text-align: right;\n",
       "    }\n",
       "</style>\n",
       "<table border=\"1\" class=\"dataframe\">\n",
       "  <thead>\n",
       "    <tr style=\"text-align: right;\">\n",
       "      <th></th>\n",
       "      <th>region</th>\n",
       "      <th>province</th>\n",
       "      <th>gadm_province</th>\n",
       "    </tr>\n",
       "  </thead>\n",
       "  <tbody>\n",
       "  </tbody>\n",
       "</table>\n",
       "</div>"
      ],
      "text/plain": [
       "Empty DataFrame\n",
       "Columns: [region, province, gadm_province]\n",
       "Index: []"
      ]
     },
     "execution_count": 12,
     "metadata": {},
     "output_type": "execute_result"
    }
   ],
   "source": [
    "lookup = spark.sql(\"\"\"\n",
    "            SELECT \n",
    "                --precinct_code,\n",
    "                region, \n",
    "                province,\n",
    "                CASE \n",
    "                    WHEN region = \"NCR\"\n",
    "                        THEN \"Metropolitan Manila\"\n",
    "                    WHEN region = \"OAV\"\n",
    "                        THEN province\n",
    "                    WHEN province = \"DAVAO OCCIDENTAL\"\n",
    "                        THEN \"Davao del Sur\"\n",
    "                    WHEN province LIKE \"%WESTERN%\"\n",
    "                        THEN \"Samar\"\n",
    "                    WHEN province LIKE \"%DAVAO DEL NORTE%\"\n",
    "                        THEN \"Davao del Norte\"\n",
    "                    WHEN province LIKE \"COTABATO%NORTH%\"\n",
    "                        THEN \"North Cotabato\"\n",
    "                        ELSE gadm_province\n",
    "                END as gadm_province\n",
    "            FROM lookup\n",
    "\"\"\")\n",
    "lookup.createOrReplaceTempView('lookup')\n",
    "spark.sql('SELECT * FROM lookup WHERE gadm_province IS NULL').toPandas()"
   ]
  },
  {
   "cell_type": "code",
   "execution_count": 13,
   "metadata": {
    "ExecuteTime": {
     "end_time": "2020-05-22T16:11:56.398731Z",
     "start_time": "2020-05-22T16:11:53.675873Z"
    }
   },
   "outputs": [
    {
     "name": "stdout",
     "output_type": "stream",
     "text": [
      "+--------+\n",
      "|count(1)|\n",
      "+--------+\n",
      "|      90|\n",
      "+--------+\n",
      "\n"
     ]
    }
   ],
   "source": [
    "spark.sql('select count(*) from lookup').show()"
   ]
  },
  {
   "cell_type": "markdown",
   "metadata": {},
   "source": [
    "## second pass cleaning: municipal level"
   ]
  },
  {
   "cell_type": "code",
   "execution_count": 14,
   "metadata": {
    "ExecuteTime": {
     "end_time": "2020-05-22T16:11:57.545818Z",
     "start_time": "2020-05-22T16:11:56.425258Z"
    }
   },
   "outputs": [
    {
     "data": {
      "text/plain": [
       "1663"
      ]
     },
     "execution_count": 14,
     "metadata": {},
     "output_type": "execute_result"
    }
   ],
   "source": [
    "spark.sql('select distinct region, province, municipality from location').count()"
   ]
  },
  {
   "cell_type": "code",
   "execution_count": 15,
   "metadata": {
    "ExecuteTime": {
     "end_time": "2020-05-22T16:11:57.631021Z",
     "start_time": "2020-05-22T16:11:57.549765Z"
    }
   },
   "outputs": [],
   "source": [
    "lookup = spark.sql(\"\"\"\n",
    "            SELECT DISTINCT\n",
    "                k.region, \n",
    "                k.province, \n",
    "                k.gadm_province, \n",
    "                l.municipality, \n",
    "                m.NAME_2 gadm_municipality\n",
    "            FROM lookup k\n",
    "            LEFT JOIN (SELECT DISTINCT province, municipality FROM location) as l\n",
    "                ON l.province = k.province\n",
    "            LEFT JOIN municipal m\n",
    "                ON m.NAME_1 = k.gadm_province \n",
    "                    AND (\n",
    "                        UPPER(m.NAME_2) = l.municipality \n",
    "                            OR UPPER(m.VARNAME_2) = l.municipality\n",
    "                        )\n",
    "\"\"\")\n",
    "lookup.createOrReplaceTempView('lookup')"
   ]
  },
  {
   "cell_type": "code",
   "execution_count": 16,
   "metadata": {
    "ExecuteTime": {
     "end_time": "2020-05-22T16:12:03.078396Z",
     "start_time": "2020-05-22T16:11:57.635402Z"
    }
   },
   "outputs": [
    {
     "name": "stdout",
     "output_type": "stream",
     "text": [
      "+--------+\n",
      "|count(1)|\n",
      "+--------+\n",
      "|    1663|\n",
      "+--------+\n",
      "\n"
     ]
    }
   ],
   "source": [
    "spark.sql('select count(*) from lookup').show()"
   ]
  },
  {
   "cell_type": "code",
   "execution_count": 17,
   "metadata": {
    "ExecuteTime": {
     "end_time": "2020-05-22T16:12:27.990280Z",
     "start_time": "2020-05-22T16:12:22.869603Z"
    }
   },
   "outputs": [
    {
     "data": {
      "text/html": [
       "<div>\n",
       "<style scoped>\n",
       "    .dataframe tbody tr th:only-of-type {\n",
       "        vertical-align: middle;\n",
       "    }\n",
       "\n",
       "    .dataframe tbody tr th {\n",
       "        vertical-align: top;\n",
       "    }\n",
       "\n",
       "    .dataframe thead th {\n",
       "        text-align: right;\n",
       "    }\n",
       "</style>\n",
       "<table border=\"1\" class=\"dataframe\">\n",
       "  <thead>\n",
       "    <tr style=\"text-align: right;\">\n",
       "      <th></th>\n",
       "      <th>region</th>\n",
       "      <th>province</th>\n",
       "      <th>gadm_province</th>\n",
       "      <th>municipality</th>\n",
       "      <th>gadm_municipality</th>\n",
       "    </tr>\n",
       "  </thead>\n",
       "  <tbody>\n",
       "    <tr>\n",
       "      <th>0</th>\n",
       "      <td>REGION X</td>\n",
       "      <td>MISAMIS ORIENTAL</td>\n",
       "      <td>Misamis Oriental</td>\n",
       "      <td>MAGSAYSAY (LINUGOS)</td>\n",
       "      <td>None</td>\n",
       "    </tr>\n",
       "    <tr>\n",
       "      <th>1</th>\n",
       "      <td>REGION XIII</td>\n",
       "      <td>DINAGAT ISLANDS</td>\n",
       "      <td>Dinagat Islands</td>\n",
       "      <td>BASILISA (RIZAL)</td>\n",
       "      <td>None</td>\n",
       "    </tr>\n",
       "    <tr>\n",
       "      <th>2</th>\n",
       "      <td>REGION XIII</td>\n",
       "      <td>DINAGAT ISLANDS</td>\n",
       "      <td>Dinagat Islands</td>\n",
       "      <td>LIBJO (ALBOR)</td>\n",
       "      <td>None</td>\n",
       "    </tr>\n",
       "    <tr>\n",
       "      <th>3</th>\n",
       "      <td>REGION IV-B</td>\n",
       "      <td>ORIENTAL MINDORO</td>\n",
       "      <td>Oriental Mindoro</td>\n",
       "      <td>CITY OF CALAPAN</td>\n",
       "      <td>None</td>\n",
       "    </tr>\n",
       "    <tr>\n",
       "      <th>4</th>\n",
       "      <td>REGION IV-B</td>\n",
       "      <td>ORIENTAL MINDORO</td>\n",
       "      <td>Oriental Mindoro</td>\n",
       "      <td>BULALACAO  (SAN PEDRO)</td>\n",
       "      <td>None</td>\n",
       "    </tr>\n",
       "    <tr>\n",
       "      <th>...</th>\n",
       "      <td>...</td>\n",
       "      <td>...</td>\n",
       "      <td>...</td>\n",
       "      <td>...</td>\n",
       "      <td>...</td>\n",
       "    </tr>\n",
       "    <tr>\n",
       "      <th>133</th>\n",
       "      <td>ARMM</td>\n",
       "      <td>LANAO DEL SUR</td>\n",
       "      <td>Lanao del Sur</td>\n",
       "      <td>POONA BAYABAO  (GATA)</td>\n",
       "      <td>None</td>\n",
       "    </tr>\n",
       "    <tr>\n",
       "      <th>134</th>\n",
       "      <td>ARMM</td>\n",
       "      <td>LANAO DEL SUR</td>\n",
       "      <td>Lanao del Sur</td>\n",
       "      <td>TAGOLOAN</td>\n",
       "      <td>None</td>\n",
       "    </tr>\n",
       "    <tr>\n",
       "      <th>135</th>\n",
       "      <td>ARMM</td>\n",
       "      <td>LANAO DEL SUR</td>\n",
       "      <td>Lanao del Sur</td>\n",
       "      <td>BALINDONG (WATU)</td>\n",
       "      <td>None</td>\n",
       "    </tr>\n",
       "    <tr>\n",
       "      <th>136</th>\n",
       "      <td>ARMM</td>\n",
       "      <td>TAWI-TAWI</td>\n",
       "      <td>Tawi-Tawi</td>\n",
       "      <td>MAPUN (CAGAYAN DE TAWI-TAWI)</td>\n",
       "      <td>None</td>\n",
       "    </tr>\n",
       "    <tr>\n",
       "      <th>137</th>\n",
       "      <td>ARMM</td>\n",
       "      <td>TAWI-TAWI</td>\n",
       "      <td>Tawi-Tawi</td>\n",
       "      <td>PANGLIMA SUGALA (BALIMBING)</td>\n",
       "      <td>None</td>\n",
       "    </tr>\n",
       "  </tbody>\n",
       "</table>\n",
       "<p>138 rows × 5 columns</p>\n",
       "</div>"
      ],
      "text/plain": [
       "          region          province     gadm_province  \\\n",
       "0       REGION X  MISAMIS ORIENTAL  Misamis Oriental   \n",
       "1    REGION XIII   DINAGAT ISLANDS   Dinagat Islands   \n",
       "2    REGION XIII   DINAGAT ISLANDS   Dinagat Islands   \n",
       "3    REGION IV-B  ORIENTAL MINDORO  Oriental Mindoro   \n",
       "4    REGION IV-B  ORIENTAL MINDORO  Oriental Mindoro   \n",
       "..           ...               ...               ...   \n",
       "133         ARMM     LANAO DEL SUR     Lanao del Sur   \n",
       "134         ARMM     LANAO DEL SUR     Lanao del Sur   \n",
       "135         ARMM     LANAO DEL SUR     Lanao del Sur   \n",
       "136         ARMM         TAWI-TAWI         Tawi-Tawi   \n",
       "137         ARMM         TAWI-TAWI         Tawi-Tawi   \n",
       "\n",
       "                     municipality gadm_municipality  \n",
       "0             MAGSAYSAY (LINUGOS)              None  \n",
       "1                BASILISA (RIZAL)              None  \n",
       "2                   LIBJO (ALBOR)              None  \n",
       "3                 CITY OF CALAPAN              None  \n",
       "4          BULALACAO  (SAN PEDRO)              None  \n",
       "..                            ...               ...  \n",
       "133         POONA BAYABAO  (GATA)              None  \n",
       "134                      TAGOLOAN              None  \n",
       "135              BALINDONG (WATU)              None  \n",
       "136  MAPUN (CAGAYAN DE TAWI-TAWI)              None  \n",
       "137   PANGLIMA SUGALA (BALIMBING)              None  \n",
       "\n",
       "[138 rows x 5 columns]"
      ]
     },
     "execution_count": 17,
     "metadata": {},
     "output_type": "execute_result"
    }
   ],
   "source": [
    "spark.sql('SELECT * FROM lookup WHERE gadm_municipality IS NULL').toPandas()"
   ]
  },
  {
   "cell_type": "code",
   "execution_count": 18,
   "metadata": {
    "ExecuteTime": {
     "end_time": "2020-05-22T16:12:28.074461Z",
     "start_time": "2020-05-22T16:12:28.025003Z"
    }
   },
   "outputs": [],
   "source": [
    "lookup = spark.sql(\"\"\"\n",
    "            SELECT \n",
    "                --precinct_code,\n",
    "                region, \n",
    "                province,\n",
    "                gadm_province,\n",
    "                municipality,\n",
    "                CASE \n",
    "                    WHEN province LIKE \"%MANILA\"\n",
    "                        THEN \"Manila\"\n",
    "                    WHEN region = \"OAV\"\n",
    "                        THEN municipality\n",
    "                        ELSE gadm_municipality\n",
    "                END as gadm_municipality\n",
    "            FROM lookup\n",
    "\"\"\")\n",
    "lookup.createOrReplaceTempView('lookup')"
   ]
  },
  {
   "cell_type": "code",
   "execution_count": 19,
   "metadata": {
    "ExecuteTime": {
     "end_time": "2020-05-22T16:12:32.270093Z",
     "start_time": "2020-05-22T16:12:28.078981Z"
    }
   },
   "outputs": [
    {
     "data": {
      "text/html": [
       "<div>\n",
       "<style scoped>\n",
       "    .dataframe tbody tr th:only-of-type {\n",
       "        vertical-align: middle;\n",
       "    }\n",
       "\n",
       "    .dataframe tbody tr th {\n",
       "        vertical-align: top;\n",
       "    }\n",
       "\n",
       "    .dataframe thead th {\n",
       "        text-align: right;\n",
       "    }\n",
       "</style>\n",
       "<table border=\"1\" class=\"dataframe\">\n",
       "  <thead>\n",
       "    <tr style=\"text-align: right;\">\n",
       "      <th></th>\n",
       "      <th>region</th>\n",
       "      <th>province</th>\n",
       "      <th>gadm_province</th>\n",
       "      <th>municipality</th>\n",
       "      <th>gadm_municipality</th>\n",
       "    </tr>\n",
       "  </thead>\n",
       "  <tbody>\n",
       "    <tr>\n",
       "      <th>0</th>\n",
       "      <td>REGION X</td>\n",
       "      <td>MISAMIS ORIENTAL</td>\n",
       "      <td>Misamis Oriental</td>\n",
       "      <td>MAGSAYSAY (LINUGOS)</td>\n",
       "      <td>None</td>\n",
       "    </tr>\n",
       "    <tr>\n",
       "      <th>1</th>\n",
       "      <td>REGION XIII</td>\n",
       "      <td>DINAGAT ISLANDS</td>\n",
       "      <td>Dinagat Islands</td>\n",
       "      <td>BASILISA (RIZAL)</td>\n",
       "      <td>None</td>\n",
       "    </tr>\n",
       "    <tr>\n",
       "      <th>2</th>\n",
       "      <td>REGION XIII</td>\n",
       "      <td>DINAGAT ISLANDS</td>\n",
       "      <td>Dinagat Islands</td>\n",
       "      <td>LIBJO (ALBOR)</td>\n",
       "      <td>None</td>\n",
       "    </tr>\n",
       "    <tr>\n",
       "      <th>3</th>\n",
       "      <td>REGION IV-B</td>\n",
       "      <td>ORIENTAL MINDORO</td>\n",
       "      <td>Oriental Mindoro</td>\n",
       "      <td>CITY OF CALAPAN</td>\n",
       "      <td>None</td>\n",
       "    </tr>\n",
       "    <tr>\n",
       "      <th>4</th>\n",
       "      <td>REGION IV-B</td>\n",
       "      <td>ORIENTAL MINDORO</td>\n",
       "      <td>Oriental Mindoro</td>\n",
       "      <td>BULALACAO  (SAN PEDRO)</td>\n",
       "      <td>None</td>\n",
       "    </tr>\n",
       "    <tr>\n",
       "      <th>...</th>\n",
       "      <td>...</td>\n",
       "      <td>...</td>\n",
       "      <td>...</td>\n",
       "      <td>...</td>\n",
       "      <td>...</td>\n",
       "    </tr>\n",
       "    <tr>\n",
       "      <th>102</th>\n",
       "      <td>ARMM</td>\n",
       "      <td>LANAO DEL SUR</td>\n",
       "      <td>Lanao del Sur</td>\n",
       "      <td>POONA BAYABAO  (GATA)</td>\n",
       "      <td>None</td>\n",
       "    </tr>\n",
       "    <tr>\n",
       "      <th>103</th>\n",
       "      <td>ARMM</td>\n",
       "      <td>LANAO DEL SUR</td>\n",
       "      <td>Lanao del Sur</td>\n",
       "      <td>TAGOLOAN</td>\n",
       "      <td>None</td>\n",
       "    </tr>\n",
       "    <tr>\n",
       "      <th>104</th>\n",
       "      <td>ARMM</td>\n",
       "      <td>LANAO DEL SUR</td>\n",
       "      <td>Lanao del Sur</td>\n",
       "      <td>BALINDONG (WATU)</td>\n",
       "      <td>None</td>\n",
       "    </tr>\n",
       "    <tr>\n",
       "      <th>105</th>\n",
       "      <td>ARMM</td>\n",
       "      <td>TAWI-TAWI</td>\n",
       "      <td>Tawi-Tawi</td>\n",
       "      <td>MAPUN (CAGAYAN DE TAWI-TAWI)</td>\n",
       "      <td>None</td>\n",
       "    </tr>\n",
       "    <tr>\n",
       "      <th>106</th>\n",
       "      <td>ARMM</td>\n",
       "      <td>TAWI-TAWI</td>\n",
       "      <td>Tawi-Tawi</td>\n",
       "      <td>PANGLIMA SUGALA (BALIMBING)</td>\n",
       "      <td>None</td>\n",
       "    </tr>\n",
       "  </tbody>\n",
       "</table>\n",
       "<p>107 rows × 5 columns</p>\n",
       "</div>"
      ],
      "text/plain": [
       "          region          province     gadm_province  \\\n",
       "0       REGION X  MISAMIS ORIENTAL  Misamis Oriental   \n",
       "1    REGION XIII   DINAGAT ISLANDS   Dinagat Islands   \n",
       "2    REGION XIII   DINAGAT ISLANDS   Dinagat Islands   \n",
       "3    REGION IV-B  ORIENTAL MINDORO  Oriental Mindoro   \n",
       "4    REGION IV-B  ORIENTAL MINDORO  Oriental Mindoro   \n",
       "..           ...               ...               ...   \n",
       "102         ARMM     LANAO DEL SUR     Lanao del Sur   \n",
       "103         ARMM     LANAO DEL SUR     Lanao del Sur   \n",
       "104         ARMM     LANAO DEL SUR     Lanao del Sur   \n",
       "105         ARMM         TAWI-TAWI         Tawi-Tawi   \n",
       "106         ARMM         TAWI-TAWI         Tawi-Tawi   \n",
       "\n",
       "                     municipality gadm_municipality  \n",
       "0             MAGSAYSAY (LINUGOS)              None  \n",
       "1                BASILISA (RIZAL)              None  \n",
       "2                   LIBJO (ALBOR)              None  \n",
       "3                 CITY OF CALAPAN              None  \n",
       "4          BULALACAO  (SAN PEDRO)              None  \n",
       "..                            ...               ...  \n",
       "102         POONA BAYABAO  (GATA)              None  \n",
       "103                      TAGOLOAN              None  \n",
       "104              BALINDONG (WATU)              None  \n",
       "105  MAPUN (CAGAYAN DE TAWI-TAWI)              None  \n",
       "106   PANGLIMA SUGALA (BALIMBING)              None  \n",
       "\n",
       "[107 rows x 5 columns]"
      ]
     },
     "execution_count": 19,
     "metadata": {},
     "output_type": "execute_result"
    }
   ],
   "source": [
    "spark.sql('SELECT * FROM lookup WHERE gadm_municipality IS NULL').toPandas()"
   ]
  },
  {
   "cell_type": "code",
   "execution_count": 20,
   "metadata": {
    "ExecuteTime": {
     "end_time": "2020-05-22T16:12:36.854790Z",
     "start_time": "2020-05-22T16:12:32.272093Z"
    }
   },
   "outputs": [
    {
     "name": "stdout",
     "output_type": "stream",
     "text": [
      "+--------+\n",
      "|count(1)|\n",
      "+--------+\n",
      "|    1663|\n",
      "+--------+\n",
      "\n"
     ]
    }
   ],
   "source": [
    "spark.sql('select count(*) from lookup').show()"
   ]
  },
  {
   "cell_type": "code",
   "execution_count": 21,
   "metadata": {
    "ExecuteTime": {
     "end_time": "2020-05-22T16:12:39.162123Z",
     "start_time": "2020-05-22T16:12:39.150224Z"
    }
   },
   "outputs": [],
   "source": [
    "def create_reference_dict(query):\n",
    "    reference = spark.sql(query).toJSON().collect()\n",
    "    ref = defaultdict(list)\n",
    "    for entry in reference:\n",
    "        items = json.loads(entry)\n",
    "        if len(items) < 3:\n",
    "            ref[items['NAME_1']] += [items['NAME_2']]\n",
    "        else:\n",
    "            ref[(items['NAME_1'], items['NAME_2'])] += [items['NAME_3']]\n",
    "    return ref"
   ]
  },
  {
   "cell_type": "code",
   "execution_count": 22,
   "metadata": {
    "ExecuteTime": {
     "end_time": "2020-05-22T16:12:45.178839Z",
     "start_time": "2020-05-22T16:12:39.980216Z"
    }
   },
   "outputs": [],
   "source": [
    "query = \"\"\"\n",
    "                SELECT NAME_1, NAME_2\n",
    "                FROM municipal\n",
    "                WHERE NAME_1 IN (SELECT gadm_province FROM lookup WHERE gadm_municipality IS NULL)\n",
    "                --AND NAME_2 NOT IN (SELECT gadm_municipality FROM lookup WHERE gadm_municipality IS NOT NULL)\n",
    "    \"\"\"\n",
    "reference = create_reference_dict(query)"
   ]
  },
  {
   "cell_type": "code",
   "execution_count": 23,
   "metadata": {
    "ExecuteTime": {
     "end_time": "2020-05-22T16:12:45.194574Z",
     "start_time": "2020-05-22T16:12:45.183799Z"
    }
   },
   "outputs": [],
   "source": [
    "def map_municipalities(r):\n",
    "    if r.gadm_municipality:\n",
    "        return r\n",
    "#     elif r.region == \"OAV\":\n",
    "#         return Row(r.region, r.province, r.gadm_province, r.municipality, r.municipality)\n",
    "    else:\n",
    "        m = r.municipality\n",
    "        p = r.gadm_province\n",
    "        try:\n",
    "            municipalities = reference[p]\n",
    "            g = process.extractOne(m, municipalities)[0]\n",
    "        except:\n",
    "            return r\n",
    "        if g is None:\n",
    "            return r\n",
    "        else:\n",
    "            return Row(r.region, r.province, r.gadm_province, r.municipality, g)"
   ]
  },
  {
   "cell_type": "code",
   "execution_count": 24,
   "metadata": {
    "ExecuteTime": {
     "end_time": "2020-05-22T16:12:48.791559Z",
     "start_time": "2020-05-22T16:12:45.197097Z"
    }
   },
   "outputs": [],
   "source": [
    "rdd = lookup.rdd.map(map_municipalities)\n",
    "lookup = rdd.toDF()\n",
    "lookup.createOrReplaceTempView('lookup')"
   ]
  },
  {
   "cell_type": "code",
   "execution_count": 25,
   "metadata": {
    "ExecuteTime": {
     "end_time": "2020-05-22T16:12:52.366970Z",
     "start_time": "2020-05-22T16:12:48.795949Z"
    }
   },
   "outputs": [
    {
     "data": {
      "text/html": [
       "<div>\n",
       "<style scoped>\n",
       "    .dataframe tbody tr th:only-of-type {\n",
       "        vertical-align: middle;\n",
       "    }\n",
       "\n",
       "    .dataframe tbody tr th {\n",
       "        vertical-align: top;\n",
       "    }\n",
       "\n",
       "    .dataframe thead th {\n",
       "        text-align: right;\n",
       "    }\n",
       "</style>\n",
       "<table border=\"1\" class=\"dataframe\">\n",
       "  <thead>\n",
       "    <tr style=\"text-align: right;\">\n",
       "      <th></th>\n",
       "      <th>region</th>\n",
       "      <th>province</th>\n",
       "      <th>gadm_province</th>\n",
       "      <th>municipality</th>\n",
       "      <th>gadm_municipality</th>\n",
       "    </tr>\n",
       "  </thead>\n",
       "  <tbody>\n",
       "  </tbody>\n",
       "</table>\n",
       "</div>"
      ],
      "text/plain": [
       "Empty DataFrame\n",
       "Columns: [region, province, gadm_province, municipality, gadm_municipality]\n",
       "Index: []"
      ]
     },
     "execution_count": 25,
     "metadata": {},
     "output_type": "execute_result"
    }
   ],
   "source": [
    "spark.sql('select * from lookup where gadm_municipality is null').toPandas()"
   ]
  },
  {
   "cell_type": "code",
   "execution_count": 26,
   "metadata": {
    "ExecuteTime": {
     "end_time": "2020-05-22T16:12:55.753728Z",
     "start_time": "2020-05-22T16:12:52.372325Z"
    }
   },
   "outputs": [
    {
     "name": "stdout",
     "output_type": "stream",
     "text": [
      "+--------+\n",
      "|count(1)|\n",
      "+--------+\n",
      "|    1663|\n",
      "+--------+\n",
      "\n"
     ]
    }
   ],
   "source": [
    "spark.sql('select count(*) from lookup').show()"
   ]
  },
  {
   "cell_type": "markdown",
   "metadata": {},
   "source": [
    "## third pass: barangay level"
   ]
  },
  {
   "cell_type": "code",
   "execution_count": 27,
   "metadata": {
    "ExecuteTime": {
     "end_time": "2020-05-22T16:12:56.697983Z",
     "start_time": "2020-05-22T16:12:55.759370Z"
    }
   },
   "outputs": [
    {
     "data": {
      "text/plain": [
       "40805"
      ]
     },
     "execution_count": 27,
     "metadata": {},
     "output_type": "execute_result"
    }
   ],
   "source": [
    "spark.sql('select distinct region, province, municipality, barangay from location').count()"
   ]
  },
  {
   "cell_type": "code",
   "execution_count": 28,
   "metadata": {
    "ExecuteTime": {
     "end_time": "2020-05-22T16:12:56.760204Z",
     "start_time": "2020-05-22T16:12:56.702034Z"
    }
   },
   "outputs": [],
   "source": [
    "lookup = spark.sql(\"\"\"\n",
    "            SELECT DISTINCT\n",
    "                k.region, \n",
    "                k.province, \n",
    "                k.gadm_province, \n",
    "                k.municipality, \n",
    "                k.gadm_municipality,\n",
    "                l.barangay\n",
    "                --, b.NAME_3 gadm_brgy\n",
    "            FROM lookup k\n",
    "            LEFT JOIN location l\n",
    "                ON l.province = k.province\n",
    "                AND l.municipality = k.municipality\n",
    "\n",
    "\"\"\")\n",
    "lookup.createOrReplaceTempView('lookup')"
   ]
  },
  {
   "cell_type": "code",
   "execution_count": 29,
   "metadata": {
    "ExecuteTime": {
     "end_time": "2020-05-22T16:13:01.564474Z",
     "start_time": "2020-05-22T16:12:56.764092Z"
    }
   },
   "outputs": [
    {
     "name": "stdout",
     "output_type": "stream",
     "text": [
      "+-----------+-------------+-------------+------------+-----------------+--------------------+\n",
      "|     region|     province|gadm_province|municipality|gadm_municipality|            barangay|\n",
      "+-----------+-------------+-------------+------------+-----------------+--------------------+\n",
      "|REGION VIII|EASTERN SAMAR|Eastern Samar|    LLORENTE|         Llorente|  BARANGAY  2 (POB.)|\n",
      "|REGION VIII|EASTERN SAMAR|Eastern Samar|        ORAS|             Oras|             MABUHAY|\n",
      "|REGION VIII|EASTERN SAMAR|Eastern Samar|     SALCEDO|          Salcedo|              BUABUA|\n",
      "|REGION VIII|EASTERN SAMAR|Eastern Samar|  SAN JULIAN|       San Julian|               LIBAS|\n",
      "|REGION VIII|EASTERN SAMAR|Eastern Samar|      LAWAAN|           Lawaan|BARANGAY POBLACIO...|\n",
      "+-----------+-------------+-------------+------------+-----------------+--------------------+\n",
      "\n"
     ]
    }
   ],
   "source": [
    "spark.sql('select * from lookup limit 5').show()"
   ]
  },
  {
   "cell_type": "code",
   "execution_count": 30,
   "metadata": {
    "ExecuteTime": {
     "end_time": "2020-05-22T16:13:01.611090Z",
     "start_time": "2020-05-22T16:13:01.568357Z"
    }
   },
   "outputs": [],
   "source": [
    "lookup = spark.sql(\"\"\"\n",
    "            SELECT DISTINCT \n",
    "                k.region, \n",
    "                k.province, \n",
    "                k.gadm_province, \n",
    "                k.municipality, \n",
    "                k.gadm_municipality, \n",
    "                k.barangay, \n",
    "                b.NAME_3 gadm_brgy\n",
    "            FROM lookup k\n",
    "            LEFT JOIN brgy b\n",
    "            ON b.NAME_1 = k.gadm_province\n",
    "            AND b.NAME_2 = k.gadm_municipality\n",
    "            AND (UPPER(b.NAME_3) = k.barangay)\n",
    "\"\"\")\n",
    "lookup.createOrReplaceTempView('lookup')"
   ]
  },
  {
   "cell_type": "code",
   "execution_count": 31,
   "metadata": {
    "ExecuteTime": {
     "end_time": "2020-05-22T16:13:08.868431Z",
     "start_time": "2020-05-22T16:13:01.612559Z"
    }
   },
   "outputs": [
    {
     "name": "stdout",
     "output_type": "stream",
     "text": [
      "+-----------+----------------+----------------+------------+-----------------+-----------+-----------+\n",
      "|     region|        province|   gadm_province|municipality|gadm_municipality|   barangay|  gadm_brgy|\n",
      "+-----------+----------------+----------------+------------+-----------------+-----------+-----------+\n",
      "|        CAR|            ABRA|            Abra|   MALIBCONG|        Malibcong|      UMNAP|      Umnap|\n",
      "|REGION XIII|AGUSAN DEL NORTE|Agusan del Norte|  BUENAVISTA|       Buenavista|POBLACION 6|Poblacion 6|\n",
      "|REGION XIII|AGUSAN DEL NORTE|Agusan del Norte|  BUENAVISTA|       Buenavista|      RIZAL|      Rizal|\n",
      "|REGION XIII|AGUSAN DEL NORTE|Agusan del Norte|  LAS NIEVES|       Las Nieves|MARCOS CALO|Marcos Calo|\n",
      "|REGION XIII|AGUSAN DEL NORTE|Agusan del Norte|    SANTIAGO|         Santiago| SAN ISIDRO| San Isidro|\n",
      "+-----------+----------------+----------------+------------+-----------------+-----------+-----------+\n",
      "only showing top 5 rows\n",
      "\n"
     ]
    }
   ],
   "source": [
    "lookup.show(5)"
   ]
  },
  {
   "cell_type": "code",
   "execution_count": 32,
   "metadata": {
    "ExecuteTime": {
     "end_time": "2020-05-22T16:13:17.525471Z",
     "start_time": "2020-05-22T16:13:08.873444Z"
    }
   },
   "outputs": [
    {
     "data": {
      "text/plain": [
       "40805"
      ]
     },
     "execution_count": 32,
     "metadata": {},
     "output_type": "execute_result"
    }
   ],
   "source": [
    "lookup.count()"
   ]
  },
  {
   "cell_type": "code",
   "execution_count": 33,
   "metadata": {
    "ExecuteTime": {
     "end_time": "2020-05-22T16:13:26.405201Z",
     "start_time": "2020-05-22T16:13:17.530446Z"
    }
   },
   "outputs": [
    {
     "name": "stdout",
     "output_type": "stream",
     "text": [
      "+--------+\n",
      "|count(1)|\n",
      "+--------+\n",
      "|    5276|\n",
      "+--------+\n",
      "\n"
     ]
    }
   ],
   "source": [
    "spark.sql('SELECT count(*) FROM lookup WHERE gadm_brgy IS NULL').show()"
   ]
  },
  {
   "cell_type": "code",
   "execution_count": 34,
   "metadata": {
    "ExecuteTime": {
     "end_time": "2020-05-22T16:13:26.451194Z",
     "start_time": "2020-05-22T16:13:26.407192Z"
    }
   },
   "outputs": [],
   "source": [
    "lookup = spark.sql(\"\"\"\n",
    "            SELECT \n",
    "                --precinct_code,\n",
    "                region, \n",
    "                province,\n",
    "                gadm_province,\n",
    "                municipality,\n",
    "                gadm_municipality,\n",
    "                barangay,\n",
    "                CASE \n",
    "                    WHEN region = \"OAV\"\n",
    "                        THEN barangay\n",
    "                        ELSE gadm_brgy\n",
    "                END as gadm_brgy\n",
    "            FROM lookup\n",
    "\"\"\")\n",
    "lookup.createOrReplaceTempView('lookup')"
   ]
  },
  {
   "cell_type": "code",
   "execution_count": 35,
   "metadata": {
    "ExecuteTime": {
     "end_time": "2020-05-22T16:14:03.263749Z",
     "start_time": "2020-05-22T16:13:55.439602Z"
    }
   },
   "outputs": [
    {
     "name": "stdout",
     "output_type": "stream",
     "text": [
      "+--------+\n",
      "|count(1)|\n",
      "+--------+\n",
      "|    5239|\n",
      "+--------+\n",
      "\n"
     ]
    }
   ],
   "source": [
    "spark.sql('SELECT count(*) FROM lookup WHERE gadm_brgy IS NULL').show()"
   ]
  },
  {
   "cell_type": "code",
   "execution_count": 36,
   "metadata": {
    "ExecuteTime": {
     "end_time": "2020-05-22T16:14:16.833691Z",
     "start_time": "2020-05-22T16:14:03.269088Z"
    }
   },
   "outputs": [],
   "source": [
    "query = \"\"\"\n",
    "            SELECT NAME_1, NAME_2, NAME_3\n",
    "            FROM brgy\n",
    "            WHERE NAME_1 in (SELECT gadm_province FROM lookup WHERE gadm_brgy IS NULL)\n",
    "            AND NAME_2 in (SELECT gadm_municipality FROM lookup WHERE gadm_brgy IS NULL)\n",
    "            --AND NAME_2 NOT IN (SELECT gadm_municipality FROM lookup WHERE gadm_municipality IS NOT NULL)\n",
    "\"\"\"\n",
    "reference = create_reference_dict(query)"
   ]
  },
  {
   "cell_type": "code",
   "execution_count": 37,
   "metadata": {
    "ExecuteTime": {
     "end_time": "2020-05-22T16:14:16.839513Z",
     "start_time": "2020-05-22T16:14:16.835180Z"
    }
   },
   "outputs": [
    {
     "data": {
      "text/plain": [
       "1188"
      ]
     },
     "execution_count": 37,
     "metadata": {},
     "output_type": "execute_result"
    }
   ],
   "source": [
    "len(reference)"
   ]
  },
  {
   "cell_type": "code",
   "execution_count": 38,
   "metadata": {
    "ExecuteTime": {
     "end_time": "2020-05-22T16:14:16.856837Z",
     "start_time": "2020-05-22T16:14:16.844491Z"
    }
   },
   "outputs": [],
   "source": [
    "def map_brgys(r):\n",
    "    if r.gadm_brgy:\n",
    "        return r\n",
    "    else:\n",
    "        m = r.gadm_municipality\n",
    "        p = r.gadm_province\n",
    "        b = r.barangay\n",
    "        \n",
    "        brgys = reference[(p, m)]\n",
    "        g = process.extractOne(b, brgys)[0]\n",
    "        if g is None:\n",
    "            return r\n",
    "        else:\n",
    "            return Row(r.region, r.province, r.gadm_province, r.municipality, r.gadm_municipality, r.barangay, g)"
   ]
  },
  {
   "cell_type": "code",
   "execution_count": 39,
   "metadata": {
    "ExecuteTime": {
     "end_time": "2020-05-22T16:14:23.561462Z",
     "start_time": "2020-05-22T16:14:16.863222Z"
    }
   },
   "outputs": [],
   "source": [
    "rdd = lookup.rdd.map(map_brgys)\n",
    "lookup = rdd.toDF()\n",
    "lookup.createOrReplaceTempView('lookup')"
   ]
  },
  {
   "cell_type": "code",
   "execution_count": 40,
   "metadata": {
    "ExecuteTime": {
     "end_time": "2020-05-22T16:14:33.833720Z",
     "start_time": "2020-05-22T16:14:23.567121Z"
    }
   },
   "outputs": [
    {
     "name": "stdout",
     "output_type": "stream",
     "text": [
      "+--------+\n",
      "|count(1)|\n",
      "+--------+\n",
      "|       0|\n",
      "+--------+\n",
      "\n"
     ]
    }
   ],
   "source": [
    "spark.sql('select count(*) from lookup where gadm_brgy is null').show()"
   ]
  },
  {
   "cell_type": "code",
   "execution_count": 41,
   "metadata": {
    "ExecuteTime": {
     "end_time": "2020-05-22T16:14:34.040224Z",
     "start_time": "2020-05-22T16:14:33.837975Z"
    }
   },
   "outputs": [
    {
     "name": "stdout",
     "output_type": "stream",
     "text": [
      "+-----------+----------------+----------------+------------+-----------------+-----------+-----------+\n",
      "|     region|        province|   gadm_province|municipality|gadm_municipality|   barangay|  gadm_brgy|\n",
      "+-----------+----------------+----------------+------------+-----------------+-----------+-----------+\n",
      "|        CAR|            ABRA|            Abra|   MALIBCONG|        Malibcong|      UMNAP|      Umnap|\n",
      "|REGION XIII|AGUSAN DEL NORTE|Agusan del Norte|  BUENAVISTA|       Buenavista|POBLACION 6|Poblacion 6|\n",
      "|REGION XIII|AGUSAN DEL NORTE|Agusan del Norte|  BUENAVISTA|       Buenavista|      RIZAL|      Rizal|\n",
      "|REGION XIII|AGUSAN DEL NORTE|Agusan del Norte|  LAS NIEVES|       Las Nieves|MARCOS CALO|Marcos Calo|\n",
      "|REGION XIII|AGUSAN DEL NORTE|Agusan del Norte|    SANTIAGO|         Santiago| SAN ISIDRO| San Isidro|\n",
      "+-----------+----------------+----------------+------------+-----------------+-----------+-----------+\n",
      "\n"
     ]
    }
   ],
   "source": [
    "spark.sql('select * from lookup limit 5').show()"
   ]
  },
  {
   "cell_type": "code",
   "execution_count": 42,
   "metadata": {
    "ExecuteTime": {
     "end_time": "2020-05-22T16:14:43.663249Z",
     "start_time": "2020-05-22T16:14:34.044494Z"
    }
   },
   "outputs": [
    {
     "data": {
      "text/plain": [
       "40805"
      ]
     },
     "execution_count": 42,
     "metadata": {},
     "output_type": "execute_result"
    }
   ],
   "source": [
    "lookup.count()"
   ]
  },
  {
   "cell_type": "markdown",
   "metadata": {},
   "source": [
    "## final precinct code lookup"
   ]
  },
  {
   "cell_type": "code",
   "execution_count": 43,
   "metadata": {
    "ExecuteTime": {
     "end_time": "2020-05-22T16:14:45.880782Z",
     "start_time": "2020-05-22T16:14:45.069608Z"
    }
   },
   "outputs": [
    {
     "name": "stdout",
     "output_type": "stream",
     "text": [
      "+-----------------------------+\n",
      "|count(DISTINCT precinct_code)|\n",
      "+-----------------------------+\n",
      "|                        90642|\n",
      "+-----------------------------+\n",
      "\n"
     ]
    }
   ],
   "source": [
    "spark.sql('select count(distinct precinct_code) from location').show()"
   ]
  },
  {
   "cell_type": "code",
   "execution_count": 44,
   "metadata": {
    "ExecuteTime": {
     "end_time": "2020-05-22T16:14:55.744790Z",
     "start_time": "2020-05-22T16:14:46.064187Z"
    }
   },
   "outputs": [
    {
     "name": "stdout",
     "output_type": "stream",
     "text": [
      "+--------+\n",
      "|count(1)|\n",
      "+--------+\n",
      "|   40805|\n",
      "+--------+\n",
      "\n"
     ]
    }
   ],
   "source": [
    "spark.sql('select count(*) from lookup').show()"
   ]
  },
  {
   "cell_type": "code",
   "execution_count": 45,
   "metadata": {
    "ExecuteTime": {
     "end_time": "2020-05-22T16:15:08.403895Z",
     "start_time": "2020-05-22T16:14:55.749695Z"
    }
   },
   "outputs": [
    {
     "data": {
      "text/plain": [
       "40805"
      ]
     },
     "execution_count": 45,
     "metadata": {},
     "output_type": "execute_result"
    }
   ],
   "source": [
    "spark.sql('select distinct(*) from lookup').count()"
   ]
  },
  {
   "cell_type": "code",
   "execution_count": 46,
   "metadata": {
    "ExecuteTime": {
     "end_time": "2020-05-22T16:15:08.560148Z",
     "start_time": "2020-05-22T16:15:08.408100Z"
    }
   },
   "outputs": [
    {
     "name": "stdout",
     "output_type": "stream",
     "text": [
      "+-----------+----------------+----------------+------------+-----------------+-----------+-----------+\n",
      "|     region|        province|   gadm_province|municipality|gadm_municipality|   barangay|  gadm_brgy|\n",
      "+-----------+----------------+----------------+------------+-----------------+-----------+-----------+\n",
      "|        CAR|            ABRA|            Abra|   MALIBCONG|        Malibcong|      UMNAP|      Umnap|\n",
      "|REGION XIII|AGUSAN DEL NORTE|Agusan del Norte|  BUENAVISTA|       Buenavista|POBLACION 6|Poblacion 6|\n",
      "+-----------+----------------+----------------+------------+-----------------+-----------+-----------+\n",
      "only showing top 2 rows\n",
      "\n"
     ]
    }
   ],
   "source": [
    "lookup.show(2)"
   ]
  },
  {
   "cell_type": "code",
   "execution_count": 47,
   "metadata": {
    "ExecuteTime": {
     "end_time": "2020-05-22T16:15:08.605121Z",
     "start_time": "2020-05-22T16:15:08.564783Z"
    }
   },
   "outputs": [],
   "source": [
    "final_lookup = spark.sql(\"\"\"\n",
    "            SELECT DISTINCT\n",
    "                l.precinct_code, \n",
    "                k.region,\n",
    "                k.gadm_province, \n",
    "                k.gadm_municipality, \n",
    "                k.gadm_brgy\n",
    "            FROM location l\n",
    "            LEFT JOIN lookup k\n",
    "                ON k.province = l.province\n",
    "                AND k.municipality = l.municipality\n",
    "                AND k.barangay = l.barangay\n",
    "\"\"\")\n",
    "final_lookup.createOrReplaceTempView('final_lookup')"
   ]
  },
  {
   "cell_type": "code",
   "execution_count": 48,
   "metadata": {
    "ExecuteTime": {
     "end_time": "2020-05-22T16:15:23.870775Z",
     "start_time": "2020-05-22T16:15:08.611096Z"
    }
   },
   "outputs": [
    {
     "name": "stdout",
     "output_type": "stream",
     "text": [
      "+-------------+-----------+-------------------+-----------------+--------------+\n",
      "|precinct_code|     region|      gadm_province|gadm_municipality|     gadm_brgy|\n",
      "+-------------+-----------+-------------------+-----------------+--------------+\n",
      "|     74040764|        NCR|Metropolitan Manila|      Quezon City|     Milagrosa|\n",
      "|     14030047| REGION III|            Bulacan|          Baliuag|        Pagala|\n",
      "|     24040005|  REGION XI|      Davao del Sur|          Hagonoy|Guihing Aplaya|\n",
      "|     56070075|REGION IV-A|             Quezon|          Calauag|   Santa Maria|\n",
      "|     64170026|REGION VIII|     Southern Leyte|            Sogod|      Kahupian|\n",
      "+-------------+-----------+-------------------+-----------------+--------------+\n",
      "\n"
     ]
    }
   ],
   "source": [
    "spark.sql('select * from final_lookup limit 5').show()"
   ]
  },
  {
   "cell_type": "code",
   "execution_count": 49,
   "metadata": {
    "ExecuteTime": {
     "end_time": "2020-05-22T16:15:40.074942Z",
     "start_time": "2020-05-22T16:15:23.874814Z"
    }
   },
   "outputs": [
    {
     "data": {
      "text/plain": [
       "90642"
      ]
     },
     "execution_count": 49,
     "metadata": {},
     "output_type": "execute_result"
    }
   ],
   "source": [
    "final_lookup.count()"
   ]
  },
  {
   "cell_type": "code",
   "execution_count": 50,
   "metadata": {
    "ExecuteTime": {
     "end_time": "2020-05-22T16:15:49.758912Z",
     "start_time": "2020-05-22T16:15:40.078969Z"
    }
   },
   "outputs": [
    {
     "name": "stdout",
     "output_type": "stream",
     "text": [
      "+--------+--------+-------------+-------------+-----------------+---------+---------+\n",
      "|  region|province|gadm_province| municipality|gadm_municipality| barangay|gadm_brgy|\n",
      "+--------+--------+-------------+-------------+-----------------+---------+---------+\n",
      "|REGION V|SORSOGON|     Sorsogon|SORSOGON CITY|    Sorsogon City|POBLACION|Poblacion|\n",
      "+--------+--------+-------------+-------------+-----------------+---------+---------+\n",
      "\n"
     ]
    }
   ],
   "source": [
    "spark.sql('''select * from lookup \n",
    "          where province = \"SORSOGON\" \n",
    "          and municipality=\"SORSOGON CITY\" and barangay=\"POBLACION\"''').show()"
   ]
  },
  {
   "cell_type": "code",
   "execution_count": 51,
   "metadata": {
    "ExecuteTime": {
     "end_time": "2020-05-22T16:15:50.240846Z",
     "start_time": "2020-05-22T16:15:49.763598Z"
    }
   },
   "outputs": [
    {
     "name": "stdout",
     "output_type": "stream",
     "text": [
      "+-------------+--------+--------+-------------+---------+-----------------+------------+\n",
      "|precinct_code|  region|province| municipality| barangay|registered_voters|ballots_cast|\n",
      "+-------------+--------+--------+-------------+---------+-----------------+------------+\n",
      "|     62160095|REGION V|SORSOGON|SORSOGON CITY|POBLACION|              694|         584|\n",
      "+-------------+--------+--------+-------------+---------+-----------------+------------+\n",
      "\n"
     ]
    }
   ],
   "source": [
    "spark.sql('select * from location where precinct_code = 62160095').show()"
   ]
  },
  {
   "cell_type": "markdown",
   "metadata": {},
   "source": [
    "## save lookup tables"
   ]
  },
  {
   "cell_type": "code",
   "execution_count": 52,
   "metadata": {
    "ExecuteTime": {
     "end_time": "2020-05-22T16:15:50.256277Z",
     "start_time": "2020-05-22T16:15:50.245210Z"
    }
   },
   "outputs": [],
   "source": [
    "def save_query_to_csv(query, filename):\n",
    "    path = os.path.join('..', 'output', filename)\n",
    "    try:\n",
    "        spark.sql(query\n",
    "                 ).coalesce(1).write.option(\n",
    "            \"header\", \"true\").csv(path)\n",
    "        print('file saved!')\n",
    "    except:\n",
    "        inp = input('file already exists! retry save? Y/N')\n",
    "        if inp =='Y':\n",
    "            shutil.rmtree(path)\n",
    "            save_query_to_csv(query, filename)\n",
    "        else:\n",
    "            pass"
   ]
  },
  {
   "cell_type": "code",
   "execution_count": 53,
   "metadata": {
    "ExecuteTime": {
     "end_time": "2020-05-22T16:15:56.755281Z",
     "start_time": "2020-05-22T16:15:52.604054Z"
    }
   },
   "outputs": [
    {
     "name": "stdout",
     "output_type": "stream",
     "text": [
      "file already exists! retry save? Y/Nn\n"
     ]
    }
   ],
   "source": [
    "save_query_to_csv('select * from final_lookup', 'lookup')"
   ]
  },
  {
   "cell_type": "code",
   "execution_count": 54,
   "metadata": {
    "ExecuteTime": {
     "end_time": "2020-05-22T16:16:04.692803Z",
     "start_time": "2020-05-22T16:15:58.715244Z"
    }
   },
   "outputs": [
    {
     "name": "stdout",
     "output_type": "stream",
     "text": [
      "file already exists! retry save? Y/NY\n",
      "file saved!\n"
     ]
    }
   ],
   "source": [
    "save_query_to_csv('''select \n",
    "                precinct_code, \n",
    "                registered_voters, \n",
    "                ballots_cast \n",
    "            from location''', 'location')"
   ]
  },
  {
   "cell_type": "markdown",
   "metadata": {},
   "source": [
    "# Denormalized results tables"
   ]
  },
  {
   "cell_type": "code",
   "execution_count": 55,
   "metadata": {
    "ExecuteTime": {
     "end_time": "2020-05-22T16:16:14.833511Z",
     "start_time": "2020-05-22T16:16:14.745350Z"
    }
   },
   "outputs": [],
   "source": [
    "for table in ['president', 'vice_president']:\n",
    "    spark.sql(f\"\"\"\n",
    "                SELECT \n",
    "                    f.region, \n",
    "                    f.gadm_province, \n",
    "                    f.gadm_municipality, \n",
    "                    f.gadm_brgy,\n",
    "                    p.precinct_code, \n",
    "                    p.contest_code, \n",
    "                    p.candidate_name, \n",
    "                    p.party_code,\n",
    "                    p.votes, \n",
    "                    p.col5, \n",
    "                    p.ballots_cast, \n",
    "                    p.col7, \n",
    "                    p.col8, \n",
    "                    p.pct_votes\n",
    "                FROM {table} p\n",
    "                JOIN final_lookup f \n",
    "                ON p.precinct_code = f.precinct_code\n",
    "\n",
    "    \"\"\").createOrReplaceTempView(f'denorm_{table[:4]}')"
   ]
  },
  {
   "cell_type": "code",
   "execution_count": 56,
   "metadata": {
    "ExecuteTime": {
     "end_time": "2020-05-22T16:16:46.762437Z",
     "start_time": "2020-05-22T16:16:26.809298Z"
    }
   },
   "outputs": [
    {
     "data": {
      "text/html": [
       "<div>\n",
       "<style scoped>\n",
       "    .dataframe tbody tr th:only-of-type {\n",
       "        vertical-align: middle;\n",
       "    }\n",
       "\n",
       "    .dataframe tbody tr th {\n",
       "        vertical-align: top;\n",
       "    }\n",
       "\n",
       "    .dataframe thead th {\n",
       "        text-align: right;\n",
       "    }\n",
       "</style>\n",
       "<table border=\"1\" class=\"dataframe\">\n",
       "  <thead>\n",
       "    <tr style=\"text-align: right;\">\n",
       "      <th></th>\n",
       "      <th>region</th>\n",
       "      <th>gadm_province</th>\n",
       "      <th>gadm_municipality</th>\n",
       "      <th>gadm_brgy</th>\n",
       "      <th>precinct_code</th>\n",
       "      <th>contest_code</th>\n",
       "      <th>candidate_name</th>\n",
       "      <th>party_code</th>\n",
       "      <th>votes</th>\n",
       "      <th>col5</th>\n",
       "      <th>ballots_cast</th>\n",
       "      <th>col7</th>\n",
       "      <th>col8</th>\n",
       "      <th>pct_votes</th>\n",
       "    </tr>\n",
       "  </thead>\n",
       "  <tbody>\n",
       "    <tr>\n",
       "      <th>0</th>\n",
       "      <td>REGION IV-A</td>\n",
       "      <td>Batangas</td>\n",
       "      <td>Batangas City</td>\n",
       "      <td>Barangay 1</td>\n",
       "      <td>10050007</td>\n",
       "      <td>299009</td>\n",
       "      <td>MARCOS, BONGBONG (IND)</td>\n",
       "      <td>58</td>\n",
       "      <td>129</td>\n",
       "      <td>4</td>\n",
       "      <td>491</td>\n",
       "      <td>8</td>\n",
       "      <td>0</td>\n",
       "      <td>0.262729124236</td>\n",
       "    </tr>\n",
       "    <tr>\n",
       "      <th>1</th>\n",
       "      <td>REGION IV-A</td>\n",
       "      <td>Batangas</td>\n",
       "      <td>Batangas City</td>\n",
       "      <td>Barangay 1</td>\n",
       "      <td>10050007</td>\n",
       "      <td>299009</td>\n",
       "      <td>TRILLANES, ANTONIO IV (IND)</td>\n",
       "      <td>58</td>\n",
       "      <td>12</td>\n",
       "      <td>6</td>\n",
       "      <td>491</td>\n",
       "      <td>8</td>\n",
       "      <td>0</td>\n",
       "      <td>0.0244399185336</td>\n",
       "    </tr>\n",
       "    <tr>\n",
       "      <th>2</th>\n",
       "      <td>REGION IV-A</td>\n",
       "      <td>Batangas</td>\n",
       "      <td>Batangas City</td>\n",
       "      <td>Barangay 1</td>\n",
       "      <td>10050007</td>\n",
       "      <td>299009</td>\n",
       "      <td>HONASAN, GRINGO (UNA)</td>\n",
       "      <td>163</td>\n",
       "      <td>9</td>\n",
       "      <td>3</td>\n",
       "      <td>491</td>\n",
       "      <td>8</td>\n",
       "      <td>0</td>\n",
       "      <td>0.0183299389002</td>\n",
       "    </tr>\n",
       "    <tr>\n",
       "      <th>3</th>\n",
       "      <td>REGION IV-A</td>\n",
       "      <td>Batangas</td>\n",
       "      <td>Batangas City</td>\n",
       "      <td>Barangay 1</td>\n",
       "      <td>10050007</td>\n",
       "      <td>299009</td>\n",
       "      <td>ROBREDO, LENI DAANG MATUWID (LP)</td>\n",
       "      <td>85</td>\n",
       "      <td>210</td>\n",
       "      <td>5</td>\n",
       "      <td>491</td>\n",
       "      <td>8</td>\n",
       "      <td>0</td>\n",
       "      <td>0.427698574338</td>\n",
       "    </tr>\n",
       "    <tr>\n",
       "      <th>4</th>\n",
       "      <td>REGION IV-A</td>\n",
       "      <td>Batangas</td>\n",
       "      <td>Batangas City</td>\n",
       "      <td>Barangay 1</td>\n",
       "      <td>10050007</td>\n",
       "      <td>299009</td>\n",
       "      <td>ESCUDERO, CHIZ (IND)</td>\n",
       "      <td>58</td>\n",
       "      <td>54</td>\n",
       "      <td>2</td>\n",
       "      <td>491</td>\n",
       "      <td>8</td>\n",
       "      <td>0</td>\n",
       "      <td>0.109979633401</td>\n",
       "    </tr>\n",
       "  </tbody>\n",
       "</table>\n",
       "</div>"
      ],
      "text/plain": [
       "        region gadm_province gadm_municipality   gadm_brgy precinct_code  \\\n",
       "0  REGION IV-A      Batangas     Batangas City  Barangay 1      10050007   \n",
       "1  REGION IV-A      Batangas     Batangas City  Barangay 1      10050007   \n",
       "2  REGION IV-A      Batangas     Batangas City  Barangay 1      10050007   \n",
       "3  REGION IV-A      Batangas     Batangas City  Barangay 1      10050007   \n",
       "4  REGION IV-A      Batangas     Batangas City  Barangay 1      10050007   \n",
       "\n",
       "  contest_code                    candidate_name party_code votes col5  \\\n",
       "0       299009            MARCOS, BONGBONG (IND)         58   129    4   \n",
       "1       299009       TRILLANES, ANTONIO IV (IND)         58    12    6   \n",
       "2       299009             HONASAN, GRINGO (UNA)        163     9    3   \n",
       "3       299009  ROBREDO, LENI DAANG MATUWID (LP)         85   210    5   \n",
       "4       299009              ESCUDERO, CHIZ (IND)         58    54    2   \n",
       "\n",
       "  ballots_cast col7 col8        pct_votes  \n",
       "0          491    8    0   0.262729124236  \n",
       "1          491    8    0  0.0244399185336  \n",
       "2          491    8    0  0.0183299389002  \n",
       "3          491    8    0   0.427698574338  \n",
       "4          491    8    0   0.109979633401  "
      ]
     },
     "execution_count": 56,
     "metadata": {},
     "output_type": "execute_result"
    }
   ],
   "source": [
    "spark.sql('select * from denorm_vice limit 5').toPandas()"
   ]
  },
  {
   "cell_type": "code",
   "execution_count": 57,
   "metadata": {
    "ExecuteTime": {
     "end_time": "2020-05-22T16:17:04.930407Z",
     "start_time": "2020-05-22T16:16:46.767638Z"
    }
   },
   "outputs": [
    {
     "data": {
      "text/html": [
       "<div>\n",
       "<style scoped>\n",
       "    .dataframe tbody tr th:only-of-type {\n",
       "        vertical-align: middle;\n",
       "    }\n",
       "\n",
       "    .dataframe tbody tr th {\n",
       "        vertical-align: top;\n",
       "    }\n",
       "\n",
       "    .dataframe thead th {\n",
       "        text-align: right;\n",
       "    }\n",
       "</style>\n",
       "<table border=\"1\" class=\"dataframe\">\n",
       "  <thead>\n",
       "    <tr style=\"text-align: right;\">\n",
       "      <th></th>\n",
       "      <th>region</th>\n",
       "      <th>gadm_province</th>\n",
       "      <th>gadm_municipality</th>\n",
       "      <th>gadm_brgy</th>\n",
       "      <th>precinct_code</th>\n",
       "      <th>contest_code</th>\n",
       "      <th>candidate_name</th>\n",
       "      <th>party_code</th>\n",
       "      <th>votes</th>\n",
       "      <th>col5</th>\n",
       "      <th>ballots_cast</th>\n",
       "      <th>col7</th>\n",
       "      <th>col8</th>\n",
       "      <th>pct_votes</th>\n",
       "    </tr>\n",
       "  </thead>\n",
       "  <tbody>\n",
       "    <tr>\n",
       "      <th>0</th>\n",
       "      <td>REGION IV-A</td>\n",
       "      <td>Batangas</td>\n",
       "      <td>Batangas City</td>\n",
       "      <td>Barangay 1</td>\n",
       "      <td>10050007</td>\n",
       "      <td>199009</td>\n",
       "      <td>DUTERTE, RODY (PDPLBN)</td>\n",
       "      <td>114</td>\n",
       "      <td>168</td>\n",
       "      <td>3</td>\n",
       "      <td>491</td>\n",
       "      <td>2</td>\n",
       "      <td>0</td>\n",
       "      <td>0.34215885947</td>\n",
       "    </tr>\n",
       "    <tr>\n",
       "      <th>1</th>\n",
       "      <td>REGION IV-A</td>\n",
       "      <td>Batangas</td>\n",
       "      <td>Batangas City</td>\n",
       "      <td>Barangay 1</td>\n",
       "      <td>10050007</td>\n",
       "      <td>199009</td>\n",
       "      <td>DEFENSOR SANTIAGO, MIRIAM (PRP)</td>\n",
       "      <td>135</td>\n",
       "      <td>35</td>\n",
       "      <td>2</td>\n",
       "      <td>491</td>\n",
       "      <td>2</td>\n",
       "      <td>0</td>\n",
       "      <td>0.071283095723</td>\n",
       "    </tr>\n",
       "    <tr>\n",
       "      <th>2</th>\n",
       "      <td>REGION IV-A</td>\n",
       "      <td>Batangas</td>\n",
       "      <td>Batangas City</td>\n",
       "      <td>Barangay 1</td>\n",
       "      <td>10050007</td>\n",
       "      <td>199009</td>\n",
       "      <td>BINAY, JOJO (UNA)</td>\n",
       "      <td>163</td>\n",
       "      <td>88</td>\n",
       "      <td>1</td>\n",
       "      <td>491</td>\n",
       "      <td>2</td>\n",
       "      <td>0</td>\n",
       "      <td>0.179226069246</td>\n",
       "    </tr>\n",
       "    <tr>\n",
       "      <th>3</th>\n",
       "      <td>REGION IV-A</td>\n",
       "      <td>Batangas</td>\n",
       "      <td>Batangas City</td>\n",
       "      <td>Barangay 1</td>\n",
       "      <td>10050007</td>\n",
       "      <td>199009</td>\n",
       "      <td>ROXAS, MAR DAANG MATUWID (LP)</td>\n",
       "      <td>85</td>\n",
       "      <td>82</td>\n",
       "      <td>5</td>\n",
       "      <td>491</td>\n",
       "      <td>2</td>\n",
       "      <td>0</td>\n",
       "      <td>0.16700610998</td>\n",
       "    </tr>\n",
       "    <tr>\n",
       "      <th>4</th>\n",
       "      <td>REGION IV-A</td>\n",
       "      <td>Batangas</td>\n",
       "      <td>Batangas City</td>\n",
       "      <td>Barangay 1</td>\n",
       "      <td>10050007</td>\n",
       "      <td>199009</td>\n",
       "      <td>SEÑERES, ROY (WPPPMM)</td>\n",
       "      <td>165</td>\n",
       "      <td>1</td>\n",
       "      <td>6</td>\n",
       "      <td>491</td>\n",
       "      <td>2</td>\n",
       "      <td>0</td>\n",
       "      <td>0.0020366598778</td>\n",
       "    </tr>\n",
       "  </tbody>\n",
       "</table>\n",
       "</div>"
      ],
      "text/plain": [
       "        region gadm_province gadm_municipality   gadm_brgy precinct_code  \\\n",
       "0  REGION IV-A      Batangas     Batangas City  Barangay 1      10050007   \n",
       "1  REGION IV-A      Batangas     Batangas City  Barangay 1      10050007   \n",
       "2  REGION IV-A      Batangas     Batangas City  Barangay 1      10050007   \n",
       "3  REGION IV-A      Batangas     Batangas City  Barangay 1      10050007   \n",
       "4  REGION IV-A      Batangas     Batangas City  Barangay 1      10050007   \n",
       "\n",
       "  contest_code                   candidate_name party_code votes col5  \\\n",
       "0       199009           DUTERTE, RODY (PDPLBN)        114   168    3   \n",
       "1       199009  DEFENSOR SANTIAGO, MIRIAM (PRP)        135    35    2   \n",
       "2       199009                BINAY, JOJO (UNA)        163    88    1   \n",
       "3       199009    ROXAS, MAR DAANG MATUWID (LP)         85    82    5   \n",
       "4       199009            SEÑERES, ROY (WPPPMM)        165     1    6   \n",
       "\n",
       "  ballots_cast col7 col8        pct_votes  \n",
       "0          491    2    0    0.34215885947  \n",
       "1          491    2    0   0.071283095723  \n",
       "2          491    2    0   0.179226069246  \n",
       "3          491    2    0    0.16700610998  \n",
       "4          491    2    0  0.0020366598778  "
      ]
     },
     "execution_count": 57,
     "metadata": {},
     "output_type": "execute_result"
    }
   ],
   "source": [
    "spark.sql('select * from denorm_pres limit 5').toPandas()"
   ]
  },
  {
   "cell_type": "code",
   "execution_count": 58,
   "metadata": {
    "ExecuteTime": {
     "end_time": "2020-05-22T16:17:57.181599Z",
     "start_time": "2020-05-22T16:17:09.530483Z"
    }
   },
   "outputs": [
    {
     "name": "stderr",
     "output_type": "stream",
     "text": [
      " 50%|█████     | 1/2 [00:25<00:25, 25.08s/it]"
     ]
    },
    {
     "name": "stdout",
     "output_type": "stream",
     "text": [
      "file saved!\n"
     ]
    },
    {
     "name": "stderr",
     "output_type": "stream",
     "text": [
      "100%|██████████| 2/2 [00:47<00:00, 23.82s/it]"
     ]
    },
    {
     "name": "stdout",
     "output_type": "stream",
     "text": [
      "file saved!\n"
     ]
    },
    {
     "name": "stderr",
     "output_type": "stream",
     "text": [
      "\n"
     ]
    }
   ],
   "source": [
    "for table in tqdm(['pres', 'vice']):\n",
    "    save_query_to_csv(f'select * from denorm_{table}', f'denorm_{table}')"
   ]
  },
  {
   "cell_type": "code",
   "execution_count": 4,
   "metadata": {
    "ExecuteTime": {
     "end_time": "2020-05-22T16:30:40.674359Z",
     "start_time": "2020-05-22T16:30:40.663608Z"
    }
   },
   "outputs": [],
   "source": [
    "files = glob(os.path.join('..', 'output','*','*csv'))"
   ]
  },
  {
   "cell_type": "code",
   "execution_count": 5,
   "metadata": {
    "ExecuteTime": {
     "end_time": "2020-05-22T16:30:41.466351Z",
     "start_time": "2020-05-22T16:30:41.452017Z"
    }
   },
   "outputs": [
    {
     "data": {
      "text/plain": [
       "['part-00000-76f5f423-02b9-49cf-9f40-258287e7ea70-c000.csv',\n",
       " 'part-00000-a16b52c8-a693-4847-9f27-2b9c0022ae36-c000.csv',\n",
       " 'part-00000-fff5ddd7-10e8-4520-8bf2-bca38e143240-c000.csv',\n",
       " 'part-00000-4d6ed548-8914-413c-84dc-bac3ae10fd94-c000.csv']"
      ]
     },
     "execution_count": 5,
     "metadata": {},
     "output_type": "execute_result"
    },
    {
     "data": {
      "text/plain": [
       "['part-00000-76f5f423-02b9-49cf-9f40-258287e7ea70-c000.csv',\n",
       " 'part-00000-a16b52c8-a693-4847-9f27-2b9c0022ae36-c000.csv',\n",
       " 'part-00000-fff5ddd7-10e8-4520-8bf2-bca38e143240-c000.csv',\n",
       " 'part-00000-4d6ed548-8914-413c-84dc-bac3ae10fd94-c000.csv']"
      ]
     },
     "execution_count": 5,
     "metadata": {},
     "output_type": "execute_result"
    }
   ],
   "source": [
    "ogfiles = list(map(lambda x: os.path.split(x)[-1], files))\n",
    "ogfiles"
   ]
  },
  {
   "cell_type": "code",
   "execution_count": 6,
   "metadata": {
    "ExecuteTime": {
     "end_time": "2020-05-22T16:30:43.715132Z",
     "start_time": "2020-05-22T16:30:43.704039Z"
    }
   },
   "outputs": [
    {
     "data": {
      "text/plain": [
       "['location.csv', 'lookup.csv', 'denorm_pres.csv', 'denorm_vice.csv']"
      ]
     },
     "execution_count": 6,
     "metadata": {},
     "output_type": "execute_result"
    },
    {
     "data": {
      "text/plain": [
       "['location.csv', 'lookup.csv', 'denorm_pres.csv', 'denorm_vice.csv']"
      ]
     },
     "execution_count": 6,
     "metadata": {},
     "output_type": "execute_result"
    }
   ],
   "source": [
    "filenames = list(map(lambda x: x.split(os.sep)[2]+r'.csv', files))\n",
    "filenames"
   ]
  },
  {
   "cell_type": "code",
   "execution_count": 10,
   "metadata": {
    "ExecuteTime": {
     "end_time": "2020-05-22T16:32:37.822591Z",
     "start_time": "2020-05-22T16:32:37.792908Z"
    }
   },
   "outputs": [
    {
     "name": "stderr",
     "output_type": "stream",
     "text": [
      "4it [00:00, 383.18it/s]\n",
      "4it [00:00, 383.18it/s]\n"
     ]
    }
   ],
   "source": [
    "for path, filename in tqdm(zip(files, filenames)):\n",
    "    try:\n",
    "        ogfilename = os.path.split(path)[-1]\n",
    "        shutil.move(path, os.path.join('..', 'output'))\n",
    "        os.rename(os.path.join('..', 'output', ogfilename), os.path.join('..', 'output', filename))\n",
    "        shutil.rmtree(os.path.join('..', 'output', filename.split('.')[0]))\n",
    "    except FileNotFoundError:\n",
    "        pass"
   ]
  },
  {
   "cell_type": "code",
   "execution_count": null,
   "metadata": {},
   "outputs": [],
   "source": []
  }
 ],
 "metadata": {
  "kernelspec": {
   "display_name": "Python 3",
   "language": "python",
   "name": "python3"
  },
  "language_info": {
   "codemirror_mode": {
    "name": "ipython",
    "version": 3
   },
   "file_extension": ".py",
   "mimetype": "text/x-python",
   "name": "python",
   "nbconvert_exporter": "python",
   "pygments_lexer": "ipython3",
   "version": "3.7.6"
  },
  "toc": {
   "base_numbering": 1,
   "nav_menu": {},
   "number_sections": true,
   "sideBar": true,
   "skip_h1_title": false,
   "title_cell": "Table of Contents",
   "title_sidebar": "Contents",
   "toc_cell": false,
   "toc_position": {},
   "toc_section_display": true,
   "toc_window_display": true
  }
 },
 "nbformat": 4,
 "nbformat_minor": 4
}
