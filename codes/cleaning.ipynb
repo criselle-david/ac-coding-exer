{
 "cells": [
  {
   "cell_type": "markdown",
   "metadata": {
    "toc": true
   },
   "source": [
    "<h1>Table of Contents<span class=\"tocSkip\"></span></h1>\n",
    "<div class=\"toc\"><ul class=\"toc-item\"><li><span><a href=\"#Instructions\" data-toc-modified-id=\"Instructions-1\"><span class=\"toc-item-num\">1&nbsp;&nbsp;</span>Instructions</a></span></li><li><span><a href=\"#Workflow-Summary\" data-toc-modified-id=\"Workflow-Summary-2\"><span class=\"toc-item-num\">2&nbsp;&nbsp;</span>Workflow Summary</a></span></li><li><span><a href=\"#Preliminaries:-library-imports\" data-toc-modified-id=\"Preliminaries:-library-imports-3\"><span class=\"toc-item-num\">3&nbsp;&nbsp;</span>Preliminaries: library imports</a></span></li><li><span><a href=\"#Data-loading\" data-toc-modified-id=\"Data-loading-4\"><span class=\"toc-item-num\">4&nbsp;&nbsp;</span>Data loading</a></span></li><li><span><a href=\"#Data-dictionary\" data-toc-modified-id=\"Data-dictionary-5\"><span class=\"toc-item-num\">5&nbsp;&nbsp;</span>Data dictionary</a></span><ul class=\"toc-item\"><li><span><a href=\"#location\" data-toc-modified-id=\"location-5.1\"><span class=\"toc-item-num\">5.1&nbsp;&nbsp;</span><code>location</code></a></span></li><li><span><a href=\"#psgc\" data-toc-modified-id=\"psgc-5.2\"><span class=\"toc-item-num\">5.2&nbsp;&nbsp;</span><code>psgc</code></a></span></li><li><span><a href=\"#results-tables:-president-and-vice_president\" data-toc-modified-id=\"results-tables:-president-and-vice_president-5.3\"><span class=\"toc-item-num\">5.3&nbsp;&nbsp;</span>results tables: <code>president</code> and <code>vice_president</code></a></span><ul class=\"toc-item\"><li><span><a href=\"#unlabeled-columns\" data-toc-modified-id=\"unlabeled-columns-5.3.1\"><span class=\"toc-item-num\">5.3.1&nbsp;&nbsp;</span>unlabeled columns</a></span><ul class=\"toc-item\"><li><span><a href=\"#col5\" data-toc-modified-id=\"col5-5.3.1.1\"><span class=\"toc-item-num\">5.3.1.1&nbsp;&nbsp;</span><code>col5</code></a></span></li><li><span><a href=\"#col7,-col8\" data-toc-modified-id=\"col7,-col8-5.3.1.2\"><span class=\"toc-item-num\">5.3.1.2&nbsp;&nbsp;</span><code>col7</code>, <code>col8</code></a></span></li></ul></li></ul></li><li><span><a href=\"#granularity-of-information\" data-toc-modified-id=\"granularity-of-information-5.4\"><span class=\"toc-item-num\">5.4&nbsp;&nbsp;</span>granularity of information</a></span><ul class=\"toc-item\"><li><span><a href=\"#municipal-level-information\" data-toc-modified-id=\"municipal-level-information-5.4.1\"><span class=\"toc-item-num\">5.4.1&nbsp;&nbsp;</span>municipal level information</a></span></li><li><span><a href=\"#precinct-level-information\" data-toc-modified-id=\"precinct-level-information-5.4.2\"><span class=\"toc-item-num\">5.4.2&nbsp;&nbsp;</span>precinct level information</a></span></li><li><span><a href=\"#candidate-information---precinct-votes-breakdown\" data-toc-modified-id=\"candidate-information---precinct-votes-breakdown-5.4.3\"><span class=\"toc-item-num\">5.4.3&nbsp;&nbsp;</span>candidate information - precinct votes breakdown</a></span></li></ul></li></ul></li><li><span><a href=\"#Cleaning:-location-files\" data-toc-modified-id=\"Cleaning:-location-files-6\"><span class=\"toc-item-num\">6&nbsp;&nbsp;</span>Cleaning: location files</a></span><ul class=\"toc-item\"><li><span><a href=\"#first-pass-cleaning-:-exact-matching\" data-toc-modified-id=\"first-pass-cleaning-:-exact-matching-6.1\"><span class=\"toc-item-num\">6.1&nbsp;&nbsp;</span>first pass cleaning : exact matching</a></span></li><li><span><a href=\"#second-pass-cleaning:-manual-replacement\" data-toc-modified-id=\"second-pass-cleaning:-manual-replacement-6.2\"><span class=\"toc-item-num\">6.2&nbsp;&nbsp;</span>second pass cleaning: manual replacement</a></span></li><li><span><a href=\"#third-pass-cleaning:-fuzzy-matching\" data-toc-modified-id=\"third-pass-cleaning:-fuzzy-matching-6.3\"><span class=\"toc-item-num\">6.3&nbsp;&nbsp;</span>third pass cleaning: fuzzy matching</a></span></li><li><span><a href=\"#export-location-to-gadm-lookup\" data-toc-modified-id=\"export-location-to-gadm-lookup-6.4\"><span class=\"toc-item-num\">6.4&nbsp;&nbsp;</span>export location to gadm lookup</a></span></li></ul></li><li><span><a href=\"#Create-denormalized-tables\" data-toc-modified-id=\"Create-denormalized-tables-7\"><span class=\"toc-item-num\">7&nbsp;&nbsp;</span>Create denormalized tables</a></span></li></ul></div>"
   ]
  },
  {
   "cell_type": "markdown",
   "metadata": {},
   "source": [
    "# Instructions\n",
    "\n",
    "Datasets:\n",
    "* `ref_table_precinct_locations_PSGC.csv` – lookup table for precincts\n",
    "* `results_president.csv` – precinct-level election results for the 2016 presidential race\n",
    "* `results_vice-president.csv` – precinct-level election results for the 2016 vice presidential race\n",
    "\n",
    "Tasks:\n",
    "1. Create a denormalized table replacing precinct_code in the results_*.csv files with the columns: region, province, municipality, and barangay. \n",
    "\n",
    "2. Create an interesting data visualization using this dataset."
   ]
  },
  {
   "cell_type": "markdown",
   "metadata": {},
   "source": [
    "# Workflow Summary\n",
    "\n",
    "1. Initial data inspection and data dictionary building\n",
    "2. Data cleaning\n",
    "3. EDA\n",
    "\n",
    "Since these datasets are rich with geodata, we'll use GADM shape files for plotting later on. This entails cleaning the location tags to match with the GADM labels. The general workflow for cleaning is divided in to three parts:\n",
    "1. Exact matching by merging the shape files and the location dataframe\n",
    "2. Manual cleaning for some items, especially those tagged as overseas votes since they are easily identifiable and we're sure that they're not in our shape files.\n",
    "3. Fuzzy matching for the rest of the entries.\n",
    "\n",
    "The result after these steps is a lookup table of precinct codes with the correct GADM location tags so we can easily merge them in Tableau for visualization, and a denormalized table for the `results` file so we can do preliminary EDA on the dataset."
   ]
  },
  {
   "cell_type": "markdown",
   "metadata": {},
   "source": [
    "# Preliminaries: library imports"
   ]
  },
  {
   "cell_type": "code",
   "execution_count": 1,
   "metadata": {
    "ExecuteTime": {
     "end_time": "2020-05-23T17:03:49.624119Z",
     "start_time": "2020-05-23T17:03:41.300894Z"
    }
   },
   "outputs": [],
   "source": [
    "import pandas as pd\n",
    "import numpy as np\n",
    "import matplotlib.pyplot as plt\n",
    "%matplotlib inline\n",
    "\n",
    "#geodata\n",
    "import geopandas as gpd\n",
    "\n",
    "#utilities\n",
    "import os\n",
    "import shutil\n",
    "from glob import glob\n",
    "from operator import itemgetter\n",
    "from collections import defaultdict\n",
    "import json\n",
    "from tqdm import tqdm\n",
    "\n",
    "#for fuzzy maching\n",
    "from fuzzywuzzy import process\n",
    "\n",
    "# spark imports\n",
    "from pyspark.sql import SparkSession\n",
    "from pyspark import SparkContext\n",
    "from pyspark.sql.functions import udf\n",
    "import pyspark.sql.functions as F\n",
    "from pyspark.sql import Row\n",
    "\n",
    "sc = SparkContext()\n",
    "spark = SparkSession(sc)"
   ]
  },
  {
   "cell_type": "code",
   "execution_count": 2,
   "metadata": {
    "ExecuteTime": {
     "end_time": "2020-05-23T17:03:49.640186Z",
     "start_time": "2020-05-23T17:03:49.632265Z"
    }
   },
   "outputs": [],
   "source": [
    "try:\n",
    "    os.mkdir(os.path.join('..', 'output'))\n",
    "except:\n",
    "    print('folder already exists!')"
   ]
  },
  {
   "cell_type": "code",
   "execution_count": 14,
   "metadata": {
    "ExecuteTime": {
     "end_time": "2020-05-23T17:06:30.681684Z",
     "start_time": "2020-05-23T17:06:30.664735Z"
    }
   },
   "outputs": [],
   "source": [
    "def rename_files():\n",
    "    files = glob(os.path.join('..', 'output','*','*csv'))\n",
    "    filenames = list(map(lambda x: x.split(os.sep)[2]+r'.csv', files))\n",
    "    for path, filename in tqdm(zip(files, filenames)):\n",
    "        try:\n",
    "            ogfilename = os.path.split(path)[-1]\n",
    "            shutil.move(path, os.path.join('..', 'output'))\n",
    "            os.rename(os.path.join('..', 'output', ogfilename), os.path.join('..', 'output', filename))\n",
    "            shutil.rmtree(os.path.join('..', 'output', filename.split('.')[0]))\n",
    "        except FileNotFoundError:\n",
    "            pass"
   ]
  },
  {
   "cell_type": "code",
   "execution_count": 15,
   "metadata": {
    "ExecuteTime": {
     "end_time": "2020-05-23T17:06:48.280849Z",
     "start_time": "2020-05-23T17:06:48.268184Z"
    }
   },
   "outputs": [],
   "source": [
    "def save_query_to_csv(query, filename):\n",
    "    \"\"\"Accepts a query and saves it into a single csv file\"\"\"\n",
    "    path = os.path.join('..', 'output', filename)\n",
    "    try:\n",
    "        spark.sql(query\n",
    "                 ).coalesce(1).write.option(\n",
    "            \"header\", \"true\").csv(path)\n",
    "        rename_files()\n",
    "        print('file saved!')\n",
    "    except:\n",
    "        inp = input('file already exists! retry save? Y/N')\n",
    "        if inp =='Y':\n",
    "            shutil.rmtree(path)\n",
    "            save_query_to_csv(query, filename)\n",
    "        else:\n",
    "            pass"
   ]
  },
  {
   "cell_type": "markdown",
   "metadata": {},
   "source": [
    "# Data loading"
   ]
  },
  {
   "cell_type": "code",
   "execution_count": 5,
   "metadata": {
    "ExecuteTime": {
     "end_time": "2020-05-23T17:04:33.504832Z",
     "start_time": "2020-05-23T17:04:33.493252Z"
    }
   },
   "outputs": [],
   "source": [
    "shape_files = sorted(glob(os.path.join('..', 'gadm', \"gadm*.shp\")))[1:]\n",
    "data_files = sorted(glob(os.path.join('..', 'datasets', '*.csv')))"
   ]
  },
  {
   "cell_type": "code",
   "execution_count": 6,
   "metadata": {
    "ExecuteTime": {
     "end_time": "2020-05-23T17:04:33.998656Z",
     "start_time": "2020-05-23T17:04:33.982356Z"
    }
   },
   "outputs": [
    {
     "data": {
      "text/plain": [
       "{'location': '../datasets/ref_table_precinct_locations.csv',\n",
       " 'psgc': '../datasets/ref_table_precinct_locations_PSGC.csv',\n",
       " 'president': '../datasets/results_president.csv',\n",
       " 'vice_president': '../datasets/results_vice-president.csv'}"
      ]
     },
     "execution_count": 6,
     "metadata": {},
     "output_type": "execute_result"
    }
   ],
   "source": [
    "datasets = dict(map(lambda x: (x.strip(r'.csv').split('_')[-1].lower().replace('-', '_'), x), data_files))\n",
    "datasets"
   ]
  },
  {
   "cell_type": "code",
   "execution_count": 7,
   "metadata": {
    "ExecuteTime": {
     "end_time": "2020-05-23T17:04:35.995759Z",
     "start_time": "2020-05-23T17:04:35.988314Z"
    }
   },
   "outputs": [
    {
     "data": {
      "text/plain": [
       "{'provincial': '../gadm/gadm36_PHL_1.shp',\n",
       " 'municipal': '../gadm/gadm36_PHL_2.shp',\n",
       " 'brgy': '../gadm/gadm36_PHL_3.shp'}"
      ]
     },
     "execution_count": 7,
     "metadata": {},
     "output_type": "execute_result"
    }
   ],
   "source": [
    "shapes = dict(zip(['provincial', 'municipal', 'brgy'], shape_files))\n",
    "shapes"
   ]
  },
  {
   "cell_type": "code",
   "execution_count": 8,
   "metadata": {
    "ExecuteTime": {
     "end_time": "2020-05-23T17:04:44.070321Z",
     "start_time": "2020-05-23T17:04:37.132461Z"
    }
   },
   "outputs": [
    {
     "name": "stderr",
     "output_type": "stream",
     "text": [
      "100%|██████████| 4/4 [00:06<00:00,  1.73s/it]\n"
     ]
    }
   ],
   "source": [
    "for label, filepath in tqdm(datasets.items()):\n",
    "    datasets[label] = spark.read.csv(filepath, sep=',', header=True)\n",
    "#     print(label)\n",
    "#     display(datasets[label].limit(2).toPandas())\n",
    "    datasets[label].createOrReplaceTempView(label)"
   ]
  },
  {
   "cell_type": "code",
   "execution_count": 9,
   "metadata": {
    "ExecuteTime": {
     "end_time": "2020-05-23T17:04:50.699073Z",
     "start_time": "2020-05-23T17:04:44.075691Z"
    }
   },
   "outputs": [
    {
     "name": "stderr",
     "output_type": "stream",
     "text": [
      "100%|██████████| 3/3 [00:06<00:00,  2.20s/it]\n"
     ]
    }
   ],
   "source": [
    "for label, filepath in tqdm(shapes.items()):\n",
    "#     print(label)\n",
    "    gdf = gpd.GeoDataFrame.from_file(filepath)\n",
    "    col_include = list(filter(lambda x: x.startswith('NAME') or x.startswith('VAR'), gdf.columns))\n",
    "    df = pd.DataFrame(gdf[col_include])\n",
    "    for col in df.columns:\n",
    "        df[col] = df[col].astype(str) \n",
    "    shapes[label] = spark.createDataFrame(df)\n",
    "    shapes[label].createOrReplaceTempView(label)\n",
    "#     display(shapes[label].limit(2).toPandas())"
   ]
  },
  {
   "cell_type": "code",
   "execution_count": 10,
   "metadata": {
    "ExecuteTime": {
     "end_time": "2020-05-23T17:04:51.038432Z",
     "start_time": "2020-05-23T17:04:50.705241Z"
    }
   },
   "outputs": [
    {
     "name": "stdout",
     "output_type": "stream",
     "text": [
      "+--------+--------------+-----------+\n",
      "|database|     tableName|isTemporary|\n",
      "+--------+--------------+-----------+\n",
      "|        |          brgy|       true|\n",
      "|        |      location|       true|\n",
      "|        |     municipal|       true|\n",
      "|        |     president|       true|\n",
      "|        |    provincial|       true|\n",
      "|        |          psgc|       true|\n",
      "|        |vice_president|       true|\n",
      "+--------+--------------+-----------+\n",
      "\n"
     ]
    }
   ],
   "source": [
    "spark.sql(\"SHOW TABLES\").show()"
   ]
  },
  {
   "cell_type": "markdown",
   "metadata": {},
   "source": [
    "# Data dictionary\n",
    "\n",
    "First, we check the available data fields and the granularity of the information available. By building a data dictionary, we also establish the relationship of the fields from different datasets so we can decide which information is relevant in building our denormalized OLAP table. If there are unlabled columns, we also try to resolve those in this section. Lastly, we map out the hierarchy of data available to us in order to easily visualize the overview of our datasets."
   ]
  },
  {
   "cell_type": "code",
   "execution_count": 11,
   "metadata": {
    "ExecuteTime": {
     "end_time": "2020-05-23T17:04:51.046365Z",
     "start_time": "2020-05-23T17:04:51.041195Z"
    }
   },
   "outputs": [
    {
     "data": {
      "text/plain": [
       "dict_keys(['location', 'psgc', 'president', 'vice_president'])"
      ]
     },
     "execution_count": 11,
     "metadata": {},
     "output_type": "execute_result"
    }
   ],
   "source": [
    "datasets.keys()"
   ]
  },
  {
   "cell_type": "markdown",
   "metadata": {},
   "source": [
    "## `location`\n",
    "* filename : `ref_table_precinct_locations.csv`\n",
    "* `registered_voters` and `ballots_cast` are both per precinct\n",
    "* multiple precinct codes per barangay"
   ]
  },
  {
   "cell_type": "code",
   "execution_count": 16,
   "metadata": {
    "ExecuteTime": {
     "end_time": "2020-05-23T17:06:57.277780Z",
     "start_time": "2020-05-23T17:06:57.254596Z"
    }
   },
   "outputs": [
    {
     "name": "stdout",
     "output_type": "stream",
     "text": [
      "root\n",
      " |-- precinct_code: string (nullable = true)\n",
      " |-- region: string (nullable = true)\n",
      " |-- province: string (nullable = true)\n",
      " |-- municipality: string (nullable = true)\n",
      " |-- barangay: string (nullable = true)\n",
      " |-- registered_voters: string (nullable = true)\n",
      " |-- ballots_cast: string (nullable = true)\n",
      "\n"
     ]
    }
   ],
   "source": [
    "datasets['location'].printSchema()"
   ]
  },
  {
   "cell_type": "code",
   "execution_count": 17,
   "metadata": {
    "ExecuteTime": {
     "end_time": "2020-05-23T17:06:58.279860Z",
     "start_time": "2020-05-23T17:06:57.970695Z"
    }
   },
   "outputs": [
    {
     "name": "stdout",
     "output_type": "stream",
     "text": [
      "+-------------+--------+----------+------------+--------+-----------------+------------+\n",
      "|precinct_code|  region|  province|municipality|barangay|registered_voters|ballots_cast|\n",
      "+-------------+--------+----------+------------+--------+-----------------+------------+\n",
      "|     55170026|REGION I|PANGASINAN|    CALASIAO| BUENLAG|              592|         503|\n",
      "|     55170027|REGION I|PANGASINAN|    CALASIAO| BUENLAG|              526|         458|\n",
      "+-------------+--------+----------+------------+--------+-----------------+------------+\n",
      "only showing top 2 rows\n",
      "\n"
     ]
    }
   ],
   "source": [
    "datasets['location'].show(2)"
   ]
  },
  {
   "cell_type": "markdown",
   "metadata": {
    "ExecuteTime": {
     "end_time": "2020-05-23T01:47:03.232104Z",
     "start_time": "2020-05-23T01:47:03.227708Z"
    }
   },
   "source": [
    "## `psgc`\n",
    "\n",
    "* filename: `ref_table_precinct_locations_PSGC.csv`\n",
    "\n",
    "**NOTES**\n",
    "* PSGC = [Philippine Standard Geographic Code](https://psa.gov.ph/classification/psgc/)\n",
    "* same fields as `location`:\n",
    "```python\n",
    " |-- precinct_code: string (nullable = true)\n",
    " |-- region: string (nullable = true)\n",
    " |-- province: string (nullable = true)\n",
    " |-- municipality: string (nullable = true)\n",
    " |-- barangay: string (nullable = true)\n",
    " |-- registered_voters: string (nullable = true)\n",
    " |-- ballots_cast: string (nullable = true)\n",
    "```\n",
    "\n",
    "* additional fields:\n",
    "    * `PSGC_CM`, `province_CM`, `municipality_CM` - PSGC-specific code, goes down to barangay level\n",
    "    * `is_city` - flag for city, 1 if city, 0 if not\n",
    "    * `income_class` - municipal level\n",
    "    * `population` - population, municipal level\n",
    "    * `land_area` - municipal level; unit: $m^2$\n"
   ]
  },
  {
   "cell_type": "code",
   "execution_count": 18,
   "metadata": {
    "ExecuteTime": {
     "end_time": "2020-05-23T17:07:00.597499Z",
     "start_time": "2020-05-23T17:07:00.588734Z"
    }
   },
   "outputs": [
    {
     "name": "stdout",
     "output_type": "stream",
     "text": [
      "root\n",
      " |-- _c0: string (nullable = true)\n",
      " |-- precinct_code: string (nullable = true)\n",
      " |-- region: string (nullable = true)\n",
      " |-- province: string (nullable = true)\n",
      " |-- municipality: string (nullable = true)\n",
      " |-- barangay: string (nullable = true)\n",
      " |-- registered_voters: string (nullable = true)\n",
      " |-- ballots_cast: string (nullable = true)\n",
      " |-- PSGC_CM: string (nullable = true)\n",
      " |-- is_city: string (nullable = true)\n",
      " |-- income_class: string (nullable = true)\n",
      " |-- population: string (nullable = true)\n",
      " |-- land_area: string (nullable = true)\n",
      " |-- province_CM: string (nullable = true)\n",
      " |-- municipality_CM: string (nullable = true)\n",
      "\n"
     ]
    }
   ],
   "source": [
    "datasets['psgc'].printSchema()"
   ]
  },
  {
   "cell_type": "code",
   "execution_count": 21,
   "metadata": {
    "ExecuteTime": {
     "end_time": "2020-05-23T17:07:23.928053Z",
     "start_time": "2020-05-23T17:07:23.744918Z"
    }
   },
   "outputs": [
    {
     "data": {
      "text/html": [
       "<div>\n",
       "<style scoped>\n",
       "    .dataframe tbody tr th:only-of-type {\n",
       "        vertical-align: middle;\n",
       "    }\n",
       "\n",
       "    .dataframe tbody tr th {\n",
       "        vertical-align: top;\n",
       "    }\n",
       "\n",
       "    .dataframe thead th {\n",
       "        text-align: right;\n",
       "    }\n",
       "</style>\n",
       "<table border=\"1\" class=\"dataframe\">\n",
       "  <thead>\n",
       "    <tr style=\"text-align: right;\">\n",
       "      <th></th>\n",
       "      <th>_c0</th>\n",
       "      <th>precinct_code</th>\n",
       "      <th>region</th>\n",
       "      <th>province</th>\n",
       "      <th>municipality</th>\n",
       "      <th>barangay</th>\n",
       "      <th>registered_voters</th>\n",
       "      <th>ballots_cast</th>\n",
       "      <th>PSGC_CM</th>\n",
       "      <th>is_city</th>\n",
       "      <th>income_class</th>\n",
       "      <th>population</th>\n",
       "      <th>land_area</th>\n",
       "      <th>province_CM</th>\n",
       "      <th>municipality_CM</th>\n",
       "    </tr>\n",
       "  </thead>\n",
       "  <tbody>\n",
       "    <tr>\n",
       "      <th>0</th>\n",
       "      <td>0</td>\n",
       "      <td>55170026</td>\n",
       "      <td>REGION I</td>\n",
       "      <td>PANGASINAN</td>\n",
       "      <td>CALASIAO</td>\n",
       "      <td>BUENLAG</td>\n",
       "      <td>592</td>\n",
       "      <td>503</td>\n",
       "      <td>15517000</td>\n",
       "      <td>0.0</td>\n",
       "      <td>1st</td>\n",
       "      <td>91109.0</td>\n",
       "      <td>4836.0</td>\n",
       "      <td>PANGASINAN</td>\n",
       "      <td>CALASIAO</td>\n",
       "    </tr>\n",
       "    <tr>\n",
       "      <th>1</th>\n",
       "      <td>1</td>\n",
       "      <td>55170027</td>\n",
       "      <td>REGION I</td>\n",
       "      <td>PANGASINAN</td>\n",
       "      <td>CALASIAO</td>\n",
       "      <td>BUENLAG</td>\n",
       "      <td>526</td>\n",
       "      <td>458</td>\n",
       "      <td>15517000</td>\n",
       "      <td>0.0</td>\n",
       "      <td>1st</td>\n",
       "      <td>91109.0</td>\n",
       "      <td>4836.0</td>\n",
       "      <td>PANGASINAN</td>\n",
       "      <td>CALASIAO</td>\n",
       "    </tr>\n",
       "  </tbody>\n",
       "</table>\n",
       "</div>"
      ],
      "text/plain": [
       "  _c0 precinct_code    region    province municipality barangay  \\\n",
       "0   0      55170026  REGION I  PANGASINAN     CALASIAO  BUENLAG   \n",
       "1   1      55170027  REGION I  PANGASINAN     CALASIAO  BUENLAG   \n",
       "\n",
       "  registered_voters ballots_cast   PSGC_CM is_city income_class population  \\\n",
       "0               592          503  15517000     0.0          1st    91109.0   \n",
       "1               526          458  15517000     0.0          1st    91109.0   \n",
       "\n",
       "  land_area province_CM municipality_CM  \n",
       "0    4836.0  PANGASINAN        CALASIAO  \n",
       "1    4836.0  PANGASINAN        CALASIAO  "
      ]
     },
     "execution_count": 21,
     "metadata": {},
     "output_type": "execute_result"
    }
   ],
   "source": [
    "datasets['psgc'].limit(2).toPandas()"
   ]
  },
  {
   "cell_type": "markdown",
   "metadata": {
    "ExecuteTime": {
     "end_time": "2020-05-23T02:00:50.789785Z",
     "start_time": "2020-05-23T02:00:50.578776Z"
    }
   },
   "source": [
    "## results tables: `president` and `vice_president`\n",
    "filename: `results_*.csv`\n",
    "* `precinct_code`\n",
    "* `contest_code` - position-specific code, same for all candidates running in the same position\n",
    "* `candidate_name` - candidate name; code inside the parentheses indicate party affiliation\n",
    "* `party_code` - numerical code for party affiliation\n",
    "* `votes` - number of votes garnered in precinct\n",
    "* `col5` - candidate code; numerical identifier, distinct per candidate\n",
    "* `ballots_cast` - number of total ballots casted in precinct\n",
    "* `col7` - \n",
    "* `col8` - \n",
    "* `timestamp` - time of upload of electoral results per precinct (should be one value per precinct)\n",
    "* `pct_votes` - `votes`/`ballots_cast`"
   ]
  },
  {
   "cell_type": "code",
   "execution_count": 22,
   "metadata": {
    "ExecuteTime": {
     "end_time": "2020-05-23T17:07:27.528066Z",
     "start_time": "2020-05-23T17:07:27.519897Z"
    }
   },
   "outputs": [
    {
     "name": "stdout",
     "output_type": "stream",
     "text": [
      "root\n",
      " |-- precinct_code: string (nullable = true)\n",
      " |-- contest_code: string (nullable = true)\n",
      " |-- candidate_name: string (nullable = true)\n",
      " |-- party_code: string (nullable = true)\n",
      " |-- votes: string (nullable = true)\n",
      " |-- col5: string (nullable = true)\n",
      " |-- ballots_cast: string (nullable = true)\n",
      " |-- col7: string (nullable = true)\n",
      " |-- col8: string (nullable = true)\n",
      " |-- timestamp: string (nullable = true)\n",
      " |-- pct_votes: string (nullable = true)\n",
      "\n"
     ]
    }
   ],
   "source": [
    "datasets['president'].printSchema()"
   ]
  },
  {
   "cell_type": "markdown",
   "metadata": {},
   "source": [
    "### unlabeled columns"
   ]
  },
  {
   "cell_type": "markdown",
   "metadata": {},
   "source": [
    "#### `col5`\n",
    "* candidate code - unique per candidate"
   ]
  },
  {
   "cell_type": "code",
   "execution_count": 24,
   "metadata": {
    "ExecuteTime": {
     "end_time": "2020-05-23T17:07:36.048796Z",
     "start_time": "2020-05-23T17:07:32.944188Z"
    }
   },
   "outputs": [
    {
     "name": "stdout",
     "output_type": "stream",
     "text": [
      "+----+--------------------+\n",
      "|col5|      candidate_name|\n",
      "+----+--------------------+\n",
      "|   4|    POE, GRACE (IND)|\n",
      "|   1|   BINAY, JOJO (UNA)|\n",
      "|   5|ROXAS, MAR DAANG ...|\n",
      "|   6|SEÑERES, ROY (WPP...|\n",
      "|   2|DEFENSOR SANTIAGO...|\n",
      "|   3|DUTERTE, RODY (PD...|\n",
      "+----+--------------------+\n",
      "\n"
     ]
    }
   ],
   "source": [
    "spark.sql(\"\"\"SELECT DISTINCT col5, candidate_name FROM president\"\"\").show()"
   ]
  },
  {
   "cell_type": "markdown",
   "metadata": {},
   "source": [
    "#### `col7`, `col8`\n",
    "* unique per precinct."
   ]
  },
  {
   "cell_type": "code",
   "execution_count": 25,
   "metadata": {
    "ExecuteTime": {
     "end_time": "2020-05-23T17:07:45.945148Z",
     "start_time": "2020-05-23T17:07:36.055620Z"
    }
   },
   "outputs": [
    {
     "name": "stdout",
     "output_type": "stream",
     "text": [
      "+-------------+-----------+-----------+\n",
      "|precinct_code|count(col7)|count(col8)|\n",
      "+-------------+-----------+-----------+\n",
      "|     24020457|          1|          1|\n",
      "|     22170586|          1|          1|\n",
      "|     72110015|          1|          1|\n",
      "|      4050001|          1|          1|\n",
      "|     34050056|          1|          1|\n",
      "+-------------+-----------+-----------+\n",
      "\n"
     ]
    }
   ],
   "source": [
    "spark.sql('''\n",
    "            SELECT \n",
    "                precinct_code,\n",
    "                count(col7),\n",
    "                count(col8)\n",
    "            FROM (SELECT DISTINCT precinct_code, col7, col8 FROM president)\n",
    "            GROUP BY precinct_code\n",
    "            ORDER BY count(col7) DESC, count(col8) DESC\n",
    "            LIMIT 5\n",
    "            ''').show()"
   ]
  },
  {
   "cell_type": "markdown",
   "metadata": {},
   "source": [
    "* could be number of abstain and invalid votes"
   ]
  },
  {
   "cell_type": "code",
   "execution_count": 26,
   "metadata": {
    "ExecuteTime": {
     "end_time": "2020-05-23T17:07:49.077738Z",
     "start_time": "2020-05-23T17:07:45.951086Z"
    }
   },
   "outputs": [
    {
     "name": "stdout",
     "output_type": "stream",
     "text": [
      "+-------------+-----------+------------+----+----+-------+----+\n",
      "|precinct_code|total_votes|ballots_cast|col7|col8|sum_all|diff|\n",
      "+-------------+-----------+------------+----+----+-------+----+\n",
      "|     30210009|      279.0|         300|   7|  14|  300.0| 0.0|\n",
      "|     70020039|      286.0|         289|   2|   1|  289.0| 0.0|\n",
      "|     38120006|      537.0|         574|  15|  22|  574.0| 0.0|\n",
      "|     10320013|      507.0|         526|  12|   7|  526.0| 0.0|\n",
      "|     71080017|      394.0|         425|  28|   3|  425.0| 0.0|\n",
      "|     39101260|      509.0|         515|   3|   3|  515.0| 0.0|\n",
      "|     58130129|      529.0|         534|   4|   1|  534.0| 0.0|\n",
      "|     21190064|      410.0|         417|   6|   1|  417.0| 0.0|\n",
      "|      8060009|      375.0|         383|   5|   3|  383.0| 0.0|\n",
      "|     36030018|      133.0|         137|   2|   2|  137.0| 0.0|\n",
      "|     56190045|      359.0|         364|   5|   0|  364.0| 0.0|\n",
      "|     14230094|      520.0|         533|   6|   7|  533.0| 0.0|\n",
      "|     14190015|      548.0|         571|  18|   5|  571.0| 0.0|\n",
      "|     21180190|      550.0|         558|   4|   4|  558.0| 0.0|\n",
      "|     11130019|      438.0|         446|   4|   4|  446.0| 0.0|\n",
      "|     76010083|      440.0|         446|   5|   1|  446.0| 0.0|\n",
      "|     76070316|      494.0|         495|   0|   1|  495.0| 0.0|\n",
      "|     10290055|      587.0|         611|  14|  10|  611.0| 0.0|\n",
      "|     10160031|      569.0|         583|  11|   3|  583.0| 0.0|\n",
      "|     74030302|      596.0|         601|   3|   2|  601.0| 0.0|\n",
      "+-------------+-----------+------------+----+----+-------+----+\n",
      "\n"
     ]
    }
   ],
   "source": [
    "spark.sql('''\n",
    "        SELECT \n",
    "            precinct_code,\n",
    "            SUM(votes) total_votes,\n",
    "            ballots_cast,\n",
    "            col7,\n",
    "            col8,\n",
    "            SUM(votes) + col7 + col8 sum_all,\n",
    "            ballots_cast - (SUM(votes) + col7 + col8) diff\n",
    "        FROM\n",
    "            president\n",
    "        GROUP BY\n",
    "            precinct_code, \n",
    "            ballots_cast, \n",
    "            col7, col8 \n",
    "        ORDER BY diff\n",
    "        LIMIT 20\n",
    "            ''').show()"
   ]
  },
  {
   "cell_type": "markdown",
   "metadata": {
    "ExecuteTime": {
     "end_time": "2020-05-23T04:04:42.915052Z",
     "start_time": "2020-05-23T04:04:42.912272Z"
    }
   },
   "source": [
    "## granularity of information"
   ]
  },
  {
   "cell_type": "markdown",
   "metadata": {},
   "source": [
    "```python\n",
    "|-- region\n",
    "|---- province\n",
    "|------ municipality\n",
    "|      |--income_class\n",
    "|      |--population\n",
    "|      |--land_area\n",
    "|      |--is_city\n",
    "|-------- barangay\n",
    "|---------- precinct\n",
    "|           |--precinct_code\n",
    "|           |--registered_voters\n",
    "|           |--ballots_cast\n",
    "|           |--timestamp\n",
    "|           |--invalid_votes\n",
    "|           |--abstain\n",
    "|...............candidates (party_code)\n",
    "               |-- votes\n",
    "               |-- pct_votes\n",
    "\n",
    "```\n",
    "\n",
    "\n",
    "from `location` table:\n",
    "* `precinct_code`\n",
    "* `region`\n",
    "* `province`\n",
    "* `municipality`\n",
    "* `barangay`\n",
    "* `registered_voters`\n",
    "* `ballots_cast`\n",
    "\n",
    "from `psgc` table:\n",
    "* `is_city`\n",
    "* `income_class`\n",
    "* `population`\n",
    "* `land_area`\n",
    "\n",
    "from results tables (`president` and `vice_president`)\n",
    "* `candidate_name`\n",
    "* `party_code`\n",
    "* `votes`\n",
    "* `col7`\n",
    "* `col8`\n",
    "* `timestamp`\n",
    "* `pct_votes`"
   ]
  },
  {
   "cell_type": "markdown",
   "metadata": {},
   "source": [
    "### municipal level information"
   ]
  },
  {
   "cell_type": "code",
   "execution_count": 28,
   "metadata": {
    "ExecuteTime": {
     "end_time": "2020-05-23T17:08:17.879829Z",
     "start_time": "2020-05-23T17:08:16.896696Z"
    },
    "scrolled": true
   },
   "outputs": [
    {
     "name": "stdout",
     "output_type": "stream",
     "text": [
      "+-----------+------------------+-------------------+-------+-----------------+----------+---------+\n",
      "|     region|          province|       municipality|is_city|     income_class|population|land_area|\n",
      "+-----------+------------------+-------------------+-------+-----------------+----------+---------+\n",
      "|REGION IV-A|            LAGUNA|            CAVINTI|    0.0|              3rd|   20809.0|  20358.0|\n",
      "|  REGION VI|            ILOILO|        ILOILO CITY|    1.0|1st Class-Special|      null|   7834.0|\n",
      "|       ARMM|       MAGUINDANAO|DATU SAUDI AMPATUAN|    0.0|              4th|   20330.0|   6016.0|\n",
      "|   REGION X|          BUKIDNON|            DAMULOG|    0.0|              4th|   25538.0|  24419.0|\n",
      "|   REGION X|MISAMIS OCCIDENTAL|             CLARIN|    0.0|              4th|   35573.0|   8450.0|\n",
      "+-----------+------------------+-------------------+-------+-----------------+----------+---------+\n",
      "\n"
     ]
    }
   ],
   "source": [
    "spark.sql('''\n",
    "            SELECT DISTINCT\n",
    "                region, \n",
    "                province,\n",
    "                municipality, \n",
    "                is_city, \n",
    "                income_class, \n",
    "                population, \n",
    "                land_area \n",
    "            FROM psgc\n",
    "            LIMIT 5''').show()"
   ]
  },
  {
   "cell_type": "markdown",
   "metadata": {},
   "source": [
    "### precinct level information\n",
    "\n",
    "**precinct geomapping**"
   ]
  },
  {
   "cell_type": "code",
   "execution_count": 30,
   "metadata": {
    "ExecuteTime": {
     "end_time": "2020-05-23T17:08:35.713439Z",
     "start_time": "2020-05-23T17:08:35.544337Z"
    },
    "scrolled": false
   },
   "outputs": [
    {
     "name": "stdout",
     "output_type": "stream",
     "text": [
      "+-------------+--------+----------+------------+--------+\n",
      "|precinct_code|  region|  province|municipality|barangay|\n",
      "+-------------+--------+----------+------------+--------+\n",
      "|     55170026|REGION I|PANGASINAN|    CALASIAO| BUENLAG|\n",
      "|     55170027|REGION I|PANGASINAN|    CALASIAO| BUENLAG|\n",
      "+-------------+--------+----------+------------+--------+\n",
      "\n"
     ]
    }
   ],
   "source": [
    "spark.sql('SELECT precinct_code, region, province, municipality, barangay FROM location LIMIT 2').show()"
   ]
  },
  {
   "cell_type": "markdown",
   "metadata": {},
   "source": [
    "**voting statistics per precinct**"
   ]
  },
  {
   "cell_type": "code",
   "execution_count": 31,
   "metadata": {
    "ExecuteTime": {
     "end_time": "2020-05-23T17:08:41.131774Z",
     "start_time": "2020-05-23T17:08:38.891158Z"
    }
   },
   "outputs": [
    {
     "name": "stdout",
     "output_type": "stream",
     "text": [
      "+-------------+-----------------+------------+-------------+-------------+-------------------+\n",
      "|precinct_code|registered_voters|ballots_cast|abstain_votes|invalid_votes|          timestamp|\n",
      "+-------------+-----------------+------------+-------------+-------------+-------------------+\n",
      "|     58080245|              744|         507|            5|            5|05/09/2016 17:10:49|\n",
      "|      6110003|              312|         259|            5|            2|05/09/2016 17:11:10|\n",
      "|     31150045|              274|         231|            5|            6|05/09/2016 17:12:13|\n",
      "|     19030021|              483|         384|            4|           23|05/09/2016 17:20:45|\n",
      "|     56450073|              630|         554|            7|            3|05/09/2016 17:32:40|\n",
      "|     15290029|              747|         634|           10|            5|05/09/2016 17:32:35|\n",
      "|     37010029|              511|         416|           30|           21|05/09/2016 17:32:34|\n",
      "|     24021077|              644|         529|            9|            9|05/09/2016 17:34:33|\n",
      "|     46240002|              774|         676|           49|           19|05/09/2016 17:33:35|\n",
      "|     22510001|              724|         552|           17|           18|05/09/2016 17:36:28|\n",
      "+-------------+-----------------+------------+-------------+-------------+-------------------+\n",
      "\n"
     ]
    }
   ],
   "source": [
    "spark.sql(\"\"\"\n",
    "    SELECT DISTINCT\n",
    "        l.precinct_code, \n",
    "        l.registered_voters, \n",
    "        l.ballots_cast,\n",
    "        p.col7 abstain_votes,\n",
    "        p.col8 invalid_votes,\n",
    "        p.timestamp\n",
    "    FROM location l\n",
    "    JOIN president p\n",
    "    ON p.precinct_code = l.precinct_code\n",
    "    LIMIT 10\n",
    "\"\"\").show()"
   ]
  },
  {
   "cell_type": "markdown",
   "metadata": {},
   "source": [
    "### candidate information - precinct votes breakdown"
   ]
  },
  {
   "cell_type": "code",
   "execution_count": 32,
   "metadata": {
    "ExecuteTime": {
     "end_time": "2020-05-23T17:08:51.865712Z",
     "start_time": "2020-05-23T17:08:48.446248Z"
    }
   },
   "outputs": [
    {
     "name": "stdout",
     "output_type": "stream",
     "text": [
      "+-------------+--------------------+----------+-----+---------------+\n",
      "|precinct_code|      candidate_name|party_code|votes|      pct_votes|\n",
      "+-------------+--------------------+----------+-----+---------------+\n",
      "|     10010001|SEÑERES, ROY (WPP...|       165|    0|            0.0|\n",
      "|     10010001|   BINAY, JOJO (UNA)|       163|  117| 0.267734553776|\n",
      "|     10010001|    POE, GRACE (IND)|        58|   59| 0.135011441648|\n",
      "|     10010001|ROXAS, MAR DAANG ...|        85|   92| 0.210526315789|\n",
      "|     10010001|DUTERTE, RODY (PD...|       114|  136| 0.311212814645|\n",
      "|     10010001|DEFENSOR SANTIAGO...|       135|   24|0.0549199084668|\n",
      "|     10010002|   BINAY, JOJO (UNA)|       163|  115| 0.213358070501|\n",
      "|     10010002|DUTERTE, RODY (PD...|       114|  156| 0.289424860853|\n",
      "|     10010002|    POE, GRACE (IND)|        58|  104| 0.192949907236|\n",
      "|     10010002|SEÑERES, ROY (WPP...|       165|    0|            0.0|\n",
      "+-------------+--------------------+----------+-----+---------------+\n",
      "\n"
     ]
    }
   ],
   "source": [
    "spark.sql(\"\"\"\n",
    "    SELECT DISTINCT\n",
    "        p.precinct_code, \n",
    "        p.candidate_name,\n",
    "        p.party_code,\n",
    "        p.votes,\n",
    "        p.pct_votes\n",
    "    FROM president p\n",
    "    ORDER BY precinct_code\n",
    "    LIMIT 10\n",
    "\"\"\").show()"
   ]
  },
  {
   "cell_type": "markdown",
   "metadata": {},
   "source": [
    "# Cleaning: location files \n",
    "\n",
    "Since most of our location specific information outside of the votes per precinct are up to municipal level only, we will create a GADM mapping that is until municipal level. \n",
    "As previously mentioned, cleaning would be divided into three parts:\n",
    "1. exact matching\n",
    "2. manual cleaning\n",
    "3. fuzzy matching\n",
    "\n",
    "After cleaning, uur data frame should have the following headers:\n",
    "* `region`\n",
    "* `province`\n",
    "* `municipality`\n",
    "* `gadm_province`\n",
    "* `gadm_municipality`"
   ]
  },
  {
   "cell_type": "markdown",
   "metadata": {},
   "source": [
    "## first pass cleaning : exact matching"
   ]
  },
  {
   "cell_type": "code",
   "execution_count": 51,
   "metadata": {
    "ExecuteTime": {
     "end_time": "2020-05-24T07:22:27.175914Z",
     "start_time": "2020-05-24T07:22:25.877185Z"
    }
   },
   "outputs": [
    {
     "data": {
      "text/plain": [
       "1663"
      ]
     },
     "execution_count": 51,
     "metadata": {},
     "output_type": "execute_result"
    }
   ],
   "source": [
    "spark.sql('select distinct region, province, municipality from location').count()"
   ]
  },
  {
   "cell_type": "code",
   "execution_count": 60,
   "metadata": {
    "ExecuteTime": {
     "end_time": "2020-05-24T07:25:48.621405Z",
     "start_time": "2020-05-24T07:25:47.138837Z"
    }
   },
   "outputs": [
    {
     "name": "stdout",
     "output_type": "stream",
     "text": [
      "+--------+\n",
      "|count(1)|\n",
      "+--------+\n",
      "|    1663|\n",
      "+--------+\n",
      "\n"
     ]
    }
   ],
   "source": [
    "spark.sql('''\n",
    "            SELECT DISTINCT\n",
    "                l.region, l.province, l.municipality,\n",
    "                m.NAME_1 gadm_province, m.NAME_2 gadm_municipality\n",
    "            FROM location l\n",
    "            LEFT JOIN municipal m\n",
    "            ON UPPER(m.NAME_1) = l.province\n",
    "            AND UPPER(m.NAME_2) = l.municipality \n",
    "''').createOrReplaceTempView('lookup')\n",
    "spark.sql('SELECT COUNT(*) FROM lookup').show()"
   ]
  },
  {
   "cell_type": "code",
   "execution_count": 61,
   "metadata": {
    "ExecuteTime": {
     "end_time": "2020-05-24T07:25:50.199768Z",
     "start_time": "2020-05-24T07:25:48.626496Z"
    }
   },
   "outputs": [
    {
     "name": "stdout",
     "output_type": "stream",
     "text": [
      "+--------+\n",
      "|count(1)|\n",
      "+--------+\n",
      "|     225|\n",
      "+--------+\n",
      "\n"
     ]
    }
   ],
   "source": [
    "spark.sql('SELECT count(*) FROM lookup WHERE gadm_province IS NULL').show()"
   ]
  },
  {
   "cell_type": "markdown",
   "metadata": {},
   "source": [
    "## second pass cleaning: manual replacement"
   ]
  },
  {
   "cell_type": "code",
   "execution_count": 62,
   "metadata": {
    "ExecuteTime": {
     "end_time": "2020-05-24T07:25:52.105531Z",
     "start_time": "2020-05-24T07:25:50.204412Z"
    }
   },
   "outputs": [
    {
     "name": "stdout",
     "output_type": "stream",
     "text": [
      "+-----------+\n",
      "|null_values|\n",
      "+-----------+\n",
      "|          0|\n",
      "+-----------+\n",
      "\n"
     ]
    }
   ],
   "source": [
    "spark.sql('''\n",
    "            SELECT k.region, k.province, k.municipality, \n",
    "                CASE \n",
    "                    WHEN region = \"NCR\"\n",
    "                        THEN \"Metropolitan Manila\"\n",
    "                    WHEN province LIKE \"%DAVAO DEL NORTE%\"\n",
    "                        THEN \"Davao del Norte\"\n",
    "                    WHEN province LIKE \"DAV%OCC%\"\n",
    "                        THEN \"Davao del Sur\"\n",
    "                    WHEN province LIKE \"COTABATO%NORTH%\"\n",
    "                        THEN \"North Cotabato\"\n",
    "                    WHEN province LIKE \"%WEST%SAMAR%\"\n",
    "                        THEN \"Samar\"\n",
    "                    WHEN region = \"OAV\"\n",
    "                        THEN province\n",
    "                        ELSE p.NAME_1\n",
    "                END as gadm_province,\n",
    "            --p.NAME_1 gadm_province, \n",
    "                CASE \n",
    "                    WHEN region = \"OAV\"\n",
    "                        THEN municipality\n",
    "                    WHEN province LIKE \"%MANILA\" AND region = \"NCR\"\n",
    "                        THEN \"Manila\"\n",
    "                        ELSE gadm_municipality\n",
    "                END as gadm_municipality\n",
    "            FROM lookup k\n",
    "            LEFT JOIN provincial p \n",
    "            ON (UPPER(p.NAME_1) = k.province OR UPPER(p.VARNAME_1) = k.province)\n",
    "            --WHERE gadm_province IS NULL\n",
    "''').createOrReplaceTempView('lookup')\n",
    "spark.sql('SELECT count(*) null_values FROM lookup WHERE gadm_province IS NULL').show()"
   ]
  },
  {
   "cell_type": "code",
   "execution_count": 63,
   "metadata": {
    "ExecuteTime": {
     "end_time": "2020-05-24T07:25:58.771688Z",
     "start_time": "2020-05-24T07:25:56.914562Z"
    }
   },
   "outputs": [
    {
     "name": "stdout",
     "output_type": "stream",
     "text": [
      "+--------+\n",
      "|count(1)|\n",
      "+--------+\n",
      "|    1663|\n",
      "+--------+\n",
      "\n"
     ]
    }
   ],
   "source": [
    "spark.sql('select count(*) from lookup').show()"
   ]
  },
  {
   "cell_type": "code",
   "execution_count": 64,
   "metadata": {
    "ExecuteTime": {
     "end_time": "2020-05-24T07:27:43.373142Z",
     "start_time": "2020-05-24T07:27:37.984921Z"
    }
   },
   "outputs": [
    {
     "name": "stdout",
     "output_type": "stream",
     "text": [
      "+-----------+\n",
      "|null_values|\n",
      "+-----------+\n",
      "|        107|\n",
      "+-----------+\n",
      "\n"
     ]
    }
   ],
   "source": [
    "spark.sql('''\n",
    "            SELECT \n",
    "                k.region, \n",
    "                k.province, \n",
    "                k.municipality, \n",
    "                CASE \n",
    "                    WHEN k.gadm_province IS NOT NULL\n",
    "                        THEN gadm_province\n",
    "                        ELSE m.NAME_1 \n",
    "                END as gadm_province,\n",
    "--                m.NAME_1 gadm_province,\n",
    "                CASE \n",
    "                    WHEN province LIKE \"%MANILA\" AND region = \"NCR\"\n",
    "                        THEN \"Manila\"\n",
    "                    WHEN region = \"OAV\"\n",
    "                        THEN municipality\n",
    "                        ELSE m.NAME_2 \n",
    "                END as gadm_municipality\n",
    "            FROM lookup as k\n",
    "            LEFT JOIN municipal m\n",
    "            ON m.NAME_1 = k.gadm_province\n",
    "            AND (UPPER(m.NAME_2) = k.municipality \n",
    "                    OR UPPER(m.VARNAME_2) = k.municipality)\n",
    "--            WHERE gadm_municipality IS NULL AND province LIKE \"%DAV%OCC%\"\n",
    "            ORDER BY region, province, municipality\n",
    "''').createOrReplaceTempView('lookup')\n",
    "spark.sql('SELECT count(*) null_values FROM lookup WHERE gadm_municipality IS NULL').show()"
   ]
  },
  {
   "cell_type": "markdown",
   "metadata": {},
   "source": [
    "## third pass cleaning: fuzzy matching\n",
    "\n",
    "For fuzzy matching, we only consider GADM values which have not been matched as choices to avoid duplication. Since we can't apply a function inside SQL directly, we export the table to rdd first then use the map function. This passes the entire row to the function and performs fuzzy matching inside the function. Because we can't parallelize a sql statement into the rdd map function, we first export our shape tags which have not been mapped into a dataframe. We only have a little over 100 values so this won't take too much memory.\n",
    "\n",
    "Workflow summary:\n",
    "1. Determine which gadm values have not been mapped and export to a dataframe. This will be our reference for fuzzy matching later on.\n",
    "2. Export the lookup table to RDD so we can apply a map function.\n",
    "3. Create a mapping function that will perform fuzzy matching."
   ]
  },
  {
   "cell_type": "code",
   "execution_count": 74,
   "metadata": {
    "ExecuteTime": {
     "end_time": "2020-05-24T07:35:09.284794Z",
     "start_time": "2020-05-24T07:35:04.531082Z"
    }
   },
   "outputs": [],
   "source": [
    "remaining = spark.sql('''\n",
    "            SELECT NAME_1, NAME_2 \n",
    "            FROM \n",
    "                (\n",
    "                SELECT m.NAME_1, m.NAME_2, k.gadm_municipality\n",
    "                FROM municipal m\n",
    "                LEFT JOIN lookup k\n",
    "                    ON k.gadm_province = m.NAME_1\n",
    "                        AND k.gadm_municipality = m.NAME_2)\n",
    "            WHERE gadm_municipality IS NULL\n",
    "''').toPandas().groupby('NAME_1').NAME_2.apply(list)"
   ]
  },
  {
   "cell_type": "code",
   "execution_count": 76,
   "metadata": {
    "ExecuteTime": {
     "end_time": "2020-05-24T07:35:42.266905Z",
     "start_time": "2020-05-24T07:35:42.251006Z"
    }
   },
   "outputs": [
    {
     "data": {
      "text/plain": [
       "NAME_1\n",
       "Abra                                                    [Licuan-Baay]\n",
       "Agusan del Norte                                        [Mainit Lake]\n",
       "Agusan del Sur                                         [Bayugan City]\n",
       "Albay               [Santo Domingo, Bato Lake, Tabaco City, Daraga...\n",
       "Antique                                              [Tobias Fornier]\n",
       "Name: NAME_2, dtype: object"
      ]
     },
     "execution_count": 76,
     "metadata": {},
     "output_type": "execute_result"
    }
   ],
   "source": [
    "remaining.head()"
   ]
  },
  {
   "cell_type": "code",
   "execution_count": 78,
   "metadata": {
    "ExecuteTime": {
     "end_time": "2020-05-24T07:42:53.210396Z",
     "start_time": "2020-05-24T07:42:53.189738Z"
    }
   },
   "outputs": [],
   "source": [
    "def map_municipality(r):\n",
    "    if r.gadm_municipality:\n",
    "        return r\n",
    "    else:\n",
    "        p = r.gadm_province\n",
    "        m = r.municipality\n",
    "        to_return = r\n",
    "        try:\n",
    "            replace_with, score = process.extractOne(m, remaining[p])\n",
    "            if score > 90:\n",
    "                to_return = Row(r.region, r.province, r.municipality, r.gadm_province, replace_with)\n",
    "            else:\n",
    "                if score > 80:\n",
    "                    if 'DATU' in m or 'SHARIFF' in m:\n",
    "                        to_return = Row(r.region, r.province, r.municipality, r.gadm_province, r.municipality)\n",
    "                    else:\n",
    "                        to_return = Row(r.region, r.province, r.municipality, r.gadm_province, replace_with)\n",
    "                else:\n",
    "                    to_return = Row(r.region, r.province, r.municipality, r.gadm_province, r.municipality)\n",
    "            return to_return\n",
    "        except:\n",
    "            return Row(r.region, r.province, r.municipality, r.gadm_province, r.municipality)"
   ]
  },
  {
   "cell_type": "code",
   "execution_count": 79,
   "metadata": {
    "ExecuteTime": {
     "end_time": "2020-05-24T07:43:03.853016Z",
     "start_time": "2020-05-24T07:43:00.074372Z"
    }
   },
   "outputs": [],
   "source": [
    "rdd = spark.sql('SELECT * FROM lookup').rdd\n",
    "rdd.map(map_municipality).toDF().createOrReplaceTempView('lookup')"
   ]
  },
  {
   "cell_type": "code",
   "execution_count": 80,
   "metadata": {
    "ExecuteTime": {
     "end_time": "2020-05-24T07:43:25.670495Z",
     "start_time": "2020-05-24T07:43:21.939016Z"
    }
   },
   "outputs": [
    {
     "name": "stdout",
     "output_type": "stream",
     "text": [
      "+------+--------+------------+-------------+-----------------+\n",
      "|region|province|municipality|gadm_province|gadm_municipality|\n",
      "+------+--------+------------+-------------+-----------------+\n",
      "+------+--------+------------+-------------+-----------------+\n",
      "\n"
     ]
    }
   ],
   "source": [
    "spark.sql('''SELECT * FROM lookup WHERE gadm_municipality IS NULL''').show()"
   ]
  },
  {
   "cell_type": "code",
   "execution_count": 83,
   "metadata": {
    "ExecuteTime": {
     "end_time": "2020-05-24T07:44:03.319370Z",
     "start_time": "2020-05-24T07:44:00.248822Z"
    }
   },
   "outputs": [
    {
     "name": "stdout",
     "output_type": "stream",
     "text": [
      "+--------+\n",
      "|count(1)|\n",
      "+--------+\n",
      "|    1663|\n",
      "+--------+\n",
      "\n"
     ]
    }
   ],
   "source": [
    "spark.sql('SELECT count(*) FROM lookup').show()"
   ]
  },
  {
   "cell_type": "markdown",
   "metadata": {
    "ExecuteTime": {
     "end_time": "2020-05-24T07:45:07.445707Z",
     "start_time": "2020-05-24T07:45:07.439864Z"
    }
   },
   "source": [
    "## export location to gadm lookup"
   ]
  },
  {
   "cell_type": "code",
   "execution_count": 85,
   "metadata": {
    "ExecuteTime": {
     "end_time": "2020-05-24T07:46:09.952470Z",
     "start_time": "2020-05-24T07:45:58.951384Z"
    },
    "scrolled": true
   },
   "outputs": [
    {
     "name": "stderr",
     "output_type": "stream",
     "text": [
      "1it [00:00, 236.19it/s]"
     ]
    },
    {
     "name": "stdout",
     "output_type": "stream",
     "text": [
      "file saved!\n"
     ]
    },
    {
     "name": "stderr",
     "output_type": "stream",
     "text": [
      "\n"
     ]
    }
   ],
   "source": [
    "save_query_to_csv('SELECT * FROM lookup', 'location_lookup')"
   ]
  },
  {
   "cell_type": "markdown",
   "metadata": {},
   "source": [
    "# Create denormalized tables\n",
    "* replace precinct code with region, province, municipality and barangay in results table.\n",
    "* we also want to include other useful information in the psgc table."
   ]
  },
  {
   "cell_type": "code",
   "execution_count": 88,
   "metadata": {
    "ExecuteTime": {
     "end_time": "2020-05-24T07:52:23.581572Z",
     "start_time": "2020-05-24T07:52:23.432161Z"
    }
   },
   "outputs": [
    {
     "data": {
      "text/html": [
       "<div>\n",
       "<style scoped>\n",
       "    .dataframe tbody tr th:only-of-type {\n",
       "        vertical-align: middle;\n",
       "    }\n",
       "\n",
       "    .dataframe tbody tr th {\n",
       "        vertical-align: top;\n",
       "    }\n",
       "\n",
       "    .dataframe thead th {\n",
       "        text-align: right;\n",
       "    }\n",
       "</style>\n",
       "<table border=\"1\" class=\"dataframe\">\n",
       "  <thead>\n",
       "    <tr style=\"text-align: right;\">\n",
       "      <th></th>\n",
       "      <th>precinct_code</th>\n",
       "      <th>contest_code</th>\n",
       "      <th>candidate_name</th>\n",
       "      <th>party_code</th>\n",
       "      <th>votes</th>\n",
       "      <th>col5</th>\n",
       "      <th>ballots_cast</th>\n",
       "      <th>col7</th>\n",
       "      <th>col8</th>\n",
       "      <th>timestamp</th>\n",
       "      <th>pct_votes</th>\n",
       "    </tr>\n",
       "  </thead>\n",
       "  <tbody>\n",
       "    <tr>\n",
       "      <th>0</th>\n",
       "      <td>69140005</td>\n",
       "      <td>199009</td>\n",
       "      <td>DUTERTE, RODY (PDPLBN)</td>\n",
       "      <td>114</td>\n",
       "      <td>124</td>\n",
       "      <td>3</td>\n",
       "      <td>639</td>\n",
       "      <td>13</td>\n",
       "      <td>8</td>\n",
       "      <td>05/09/2016 17:05:50</td>\n",
       "      <td>0.194053208138</td>\n",
       "    </tr>\n",
       "    <tr>\n",
       "      <th>1</th>\n",
       "      <td>69140005</td>\n",
       "      <td>199009</td>\n",
       "      <td>DEFENSOR SANTIAGO, MIRIAM (PRP)</td>\n",
       "      <td>135</td>\n",
       "      <td>12</td>\n",
       "      <td>2</td>\n",
       "      <td>639</td>\n",
       "      <td>13</td>\n",
       "      <td>8</td>\n",
       "      <td>05/09/2016 17:05:50</td>\n",
       "      <td>0.018779342723</td>\n",
       "    </tr>\n",
       "  </tbody>\n",
       "</table>\n",
       "</div>"
      ],
      "text/plain": [
       "  precinct_code contest_code                   candidate_name party_code  \\\n",
       "0      69140005       199009           DUTERTE, RODY (PDPLBN)        114   \n",
       "1      69140005       199009  DEFENSOR SANTIAGO, MIRIAM (PRP)        135   \n",
       "\n",
       "  votes col5 ballots_cast col7 col8            timestamp       pct_votes  \n",
       "0   124    3          639   13    8  05/09/2016 17:05:50  0.194053208138  \n",
       "1    12    2          639   13    8  05/09/2016 17:05:50  0.018779342723  "
      ]
     },
     "execution_count": 88,
     "metadata": {},
     "output_type": "execute_result"
    }
   ],
   "source": [
    "datasets['president'].limit(2).toPandas()"
   ]
  },
  {
   "cell_type": "code",
   "execution_count": 104,
   "metadata": {
    "ExecuteTime": {
     "end_time": "2020-05-24T09:38:05.350184Z",
     "start_time": "2020-05-24T09:38:05.337296Z"
    }
   },
   "outputs": [],
   "source": [
    "def create_denorm_table(table):\n",
    "    query = f'''\n",
    "                SELECT \n",
    "                    p.precinct_code, \n",
    "                    k.region, \n",
    "                    k.gadm_province, \n",
    "                    k.gadm_municipality, \n",
    "                    g.barangay,\n",
    "                    p.candidate_name, \n",
    "                    p.party_code, \n",
    "                    p.votes, \n",
    "                    p.ballots_cast, \n",
    "                    p.col7 abstain, \n",
    "                    p.col8 invalid_votes,\n",
    "                    p.timestamp,\n",
    "                    p.pct_votes,\n",
    "                    g.registered_voters,\n",
    "                    g.is_city,\n",
    "                    g.income_class,\n",
    "                    g.population,\n",
    "                    g.land_area   \n",
    "                FROM {table} p\n",
    "                LEFT JOIN (psgc g \n",
    "                    LEFT JOIN lookup k \n",
    "                        ON k.province = g.province \n",
    "                        AND k.municipality = g.municipality)\n",
    "                ON g.precinct_code = p.precinct_code\n",
    "    '''\n",
    "    table_name = f'denorm_{table[:4]}'\n",
    "    spark.sql(query).createOrReplaceTempView(table_name)\n",
    "    save_query_to_csv(f'SELECT * FROM {table_name}', table_name)"
   ]
  },
  {
   "cell_type": "code",
   "execution_count": 105,
   "metadata": {
    "ExecuteTime": {
     "end_time": "2020-05-24T09:39:04.798212Z",
     "start_time": "2020-05-24T09:38:33.849639Z"
    }
   },
   "outputs": [
    {
     "name": "stderr",
     "output_type": "stream",
     "text": [
      "1it [00:00, 212.15it/s]\n"
     ]
    },
    {
     "name": "stdout",
     "output_type": "stream",
     "text": [
      "file saved!\n"
     ]
    },
    {
     "name": "stderr",
     "output_type": "stream",
     "text": [
      "1it [00:00, 253.85it/s]"
     ]
    },
    {
     "name": "stdout",
     "output_type": "stream",
     "text": [
      "file saved!\n"
     ]
    },
    {
     "name": "stderr",
     "output_type": "stream",
     "text": [
      "\n"
     ]
    }
   ],
   "source": [
    "for table in ['president', 'vice_president']:\n",
    "    create_denorm_table(table)"
   ]
  },
  {
   "cell_type": "code",
   "execution_count": 106,
   "metadata": {
    "ExecuteTime": {
     "end_time": "2020-05-24T09:39:12.890242Z",
     "start_time": "2020-05-24T09:39:04.812251Z"
    }
   },
   "outputs": [
    {
     "data": {
      "text/html": [
       "<div>\n",
       "<style scoped>\n",
       "    .dataframe tbody tr th:only-of-type {\n",
       "        vertical-align: middle;\n",
       "    }\n",
       "\n",
       "    .dataframe tbody tr th {\n",
       "        vertical-align: top;\n",
       "    }\n",
       "\n",
       "    .dataframe thead th {\n",
       "        text-align: right;\n",
       "    }\n",
       "</style>\n",
       "<table border=\"1\" class=\"dataframe\">\n",
       "  <thead>\n",
       "    <tr style=\"text-align: right;\">\n",
       "      <th></th>\n",
       "      <th>precinct_code</th>\n",
       "      <th>region</th>\n",
       "      <th>gadm_province</th>\n",
       "      <th>gadm_municipality</th>\n",
       "      <th>barangay</th>\n",
       "      <th>candidate_name</th>\n",
       "      <th>party_code</th>\n",
       "      <th>votes</th>\n",
       "      <th>ballots_cast</th>\n",
       "      <th>abstain</th>\n",
       "      <th>invalid_votes</th>\n",
       "      <th>timestamp</th>\n",
       "      <th>pct_votes</th>\n",
       "      <th>registered_voters</th>\n",
       "      <th>is_city</th>\n",
       "      <th>income_class</th>\n",
       "      <th>population</th>\n",
       "      <th>land_area</th>\n",
       "    </tr>\n",
       "  </thead>\n",
       "  <tbody>\n",
       "    <tr>\n",
       "      <th>0</th>\n",
       "      <td>10050007</td>\n",
       "      <td>REGION IV-A</td>\n",
       "      <td>Batangas</td>\n",
       "      <td>Batangas City</td>\n",
       "      <td>BARANGAY  5 (POB.)</td>\n",
       "      <td>DUTERTE, RODY (PDPLBN)</td>\n",
       "      <td>114</td>\n",
       "      <td>168</td>\n",
       "      <td>491</td>\n",
       "      <td>2</td>\n",
       "      <td>0</td>\n",
       "      <td>05/09/2016 18:28:46</td>\n",
       "      <td>0.34215885947</td>\n",
       "      <td>602</td>\n",
       "      <td>1.0</td>\n",
       "      <td>1st Class-Special</td>\n",
       "      <td>None</td>\n",
       "      <td>28296.0</td>\n",
       "    </tr>\n",
       "    <tr>\n",
       "      <th>1</th>\n",
       "      <td>10050007</td>\n",
       "      <td>REGION IV-A</td>\n",
       "      <td>Batangas</td>\n",
       "      <td>Batangas City</td>\n",
       "      <td>BARANGAY  5 (POB.)</td>\n",
       "      <td>DEFENSOR SANTIAGO, MIRIAM (PRP)</td>\n",
       "      <td>135</td>\n",
       "      <td>35</td>\n",
       "      <td>491</td>\n",
       "      <td>2</td>\n",
       "      <td>0</td>\n",
       "      <td>05/09/2016 18:28:46</td>\n",
       "      <td>0.071283095723</td>\n",
       "      <td>602</td>\n",
       "      <td>1.0</td>\n",
       "      <td>1st Class-Special</td>\n",
       "      <td>None</td>\n",
       "      <td>28296.0</td>\n",
       "    </tr>\n",
       "  </tbody>\n",
       "</table>\n",
       "</div>"
      ],
      "text/plain": [
       "  precinct_code       region gadm_province gadm_municipality  \\\n",
       "0      10050007  REGION IV-A      Batangas     Batangas City   \n",
       "1      10050007  REGION IV-A      Batangas     Batangas City   \n",
       "\n",
       "             barangay                   candidate_name party_code votes  \\\n",
       "0  BARANGAY  5 (POB.)           DUTERTE, RODY (PDPLBN)        114   168   \n",
       "1  BARANGAY  5 (POB.)  DEFENSOR SANTIAGO, MIRIAM (PRP)        135    35   \n",
       "\n",
       "  ballots_cast abstain invalid_votes            timestamp       pct_votes  \\\n",
       "0          491       2             0  05/09/2016 18:28:46   0.34215885947   \n",
       "1          491       2             0  05/09/2016 18:28:46  0.071283095723   \n",
       "\n",
       "  registered_voters is_city       income_class population land_area  \n",
       "0               602     1.0  1st Class-Special       None   28296.0  \n",
       "1               602     1.0  1st Class-Special       None   28296.0  "
      ]
     },
     "execution_count": 106,
     "metadata": {},
     "output_type": "execute_result"
    }
   ],
   "source": [
    "spark.sql('SELECT * FROM denorm_pres LIMIT 2').toPandas()"
   ]
  },
  {
   "cell_type": "code",
   "execution_count": 107,
   "metadata": {
    "ExecuteTime": {
     "end_time": "2020-05-24T09:39:20.543573Z",
     "start_time": "2020-05-24T09:39:12.892653Z"
    }
   },
   "outputs": [
    {
     "data": {
      "text/html": [
       "<div>\n",
       "<style scoped>\n",
       "    .dataframe tbody tr th:only-of-type {\n",
       "        vertical-align: middle;\n",
       "    }\n",
       "\n",
       "    .dataframe tbody tr th {\n",
       "        vertical-align: top;\n",
       "    }\n",
       "\n",
       "    .dataframe thead th {\n",
       "        text-align: right;\n",
       "    }\n",
       "</style>\n",
       "<table border=\"1\" class=\"dataframe\">\n",
       "  <thead>\n",
       "    <tr style=\"text-align: right;\">\n",
       "      <th></th>\n",
       "      <th>precinct_code</th>\n",
       "      <th>region</th>\n",
       "      <th>gadm_province</th>\n",
       "      <th>gadm_municipality</th>\n",
       "      <th>barangay</th>\n",
       "      <th>candidate_name</th>\n",
       "      <th>party_code</th>\n",
       "      <th>votes</th>\n",
       "      <th>ballots_cast</th>\n",
       "      <th>abstain</th>\n",
       "      <th>invalid_votes</th>\n",
       "      <th>timestamp</th>\n",
       "      <th>pct_votes</th>\n",
       "      <th>registered_voters</th>\n",
       "      <th>is_city</th>\n",
       "      <th>income_class</th>\n",
       "      <th>population</th>\n",
       "      <th>land_area</th>\n",
       "    </tr>\n",
       "  </thead>\n",
       "  <tbody>\n",
       "    <tr>\n",
       "      <th>0</th>\n",
       "      <td>10080008</td>\n",
       "      <td>REGION IV-A</td>\n",
       "      <td>Batangas</td>\n",
       "      <td>Calatagan</td>\n",
       "      <td>BARANGAY  4 (POB.)</td>\n",
       "      <td>MARCOS, BONGBONG (IND)</td>\n",
       "      <td>58</td>\n",
       "      <td>103</td>\n",
       "      <td>436</td>\n",
       "      <td>16</td>\n",
       "      <td>1</td>\n",
       "      <td>05/09/2016 19:08:46</td>\n",
       "      <td>0.23623853211</td>\n",
       "      <td>528</td>\n",
       "      <td>0.0</td>\n",
       "      <td>2nd</td>\n",
       "      <td>51997.0</td>\n",
       "      <td>11200.0</td>\n",
       "    </tr>\n",
       "    <tr>\n",
       "      <th>1</th>\n",
       "      <td>10080008</td>\n",
       "      <td>REGION IV-A</td>\n",
       "      <td>Batangas</td>\n",
       "      <td>Calatagan</td>\n",
       "      <td>BARANGAY  4 (POB.)</td>\n",
       "      <td>TRILLANES, ANTONIO IV (IND)</td>\n",
       "      <td>58</td>\n",
       "      <td>6</td>\n",
       "      <td>436</td>\n",
       "      <td>16</td>\n",
       "      <td>1</td>\n",
       "      <td>05/09/2016 19:08:46</td>\n",
       "      <td>0.0137614678899</td>\n",
       "      <td>528</td>\n",
       "      <td>0.0</td>\n",
       "      <td>2nd</td>\n",
       "      <td>51997.0</td>\n",
       "      <td>11200.0</td>\n",
       "    </tr>\n",
       "  </tbody>\n",
       "</table>\n",
       "</div>"
      ],
      "text/plain": [
       "  precinct_code       region gadm_province gadm_municipality  \\\n",
       "0      10080008  REGION IV-A      Batangas         Calatagan   \n",
       "1      10080008  REGION IV-A      Batangas         Calatagan   \n",
       "\n",
       "             barangay               candidate_name party_code votes  \\\n",
       "0  BARANGAY  4 (POB.)       MARCOS, BONGBONG (IND)         58   103   \n",
       "1  BARANGAY  4 (POB.)  TRILLANES, ANTONIO IV (IND)         58     6   \n",
       "\n",
       "  ballots_cast abstain invalid_votes            timestamp        pct_votes  \\\n",
       "0          436      16             1  05/09/2016 19:08:46    0.23623853211   \n",
       "1          436      16             1  05/09/2016 19:08:46  0.0137614678899   \n",
       "\n",
       "  registered_voters is_city income_class population land_area  \n",
       "0               528     0.0          2nd    51997.0   11200.0  \n",
       "1               528     0.0          2nd    51997.0   11200.0  "
      ]
     },
     "execution_count": 107,
     "metadata": {},
     "output_type": "execute_result"
    }
   ],
   "source": [
    "spark.sql('SELECT * FROM denorm_vice WHERE population > 10000 LIMIT 2').toPandas()"
   ]
  },
  {
   "cell_type": "code",
   "execution_count": null,
   "metadata": {},
   "outputs": [],
   "source": []
  }
 ],
 "metadata": {
  "kernelspec": {
   "display_name": "Python 3",
   "language": "python",
   "name": "python3"
  },
  "language_info": {
   "codemirror_mode": {
    "name": "ipython",
    "version": 3
   },
   "file_extension": ".py",
   "mimetype": "text/x-python",
   "name": "python",
   "nbconvert_exporter": "python",
   "pygments_lexer": "ipython3",
   "version": "3.7.6"
  },
  "toc": {
   "base_numbering": 1,
   "nav_menu": {},
   "number_sections": true,
   "sideBar": true,
   "skip_h1_title": false,
   "title_cell": "Table of Contents",
   "title_sidebar": "Contents",
   "toc_cell": true,
   "toc_position": {
    "height": "calc(100% - 180px)",
    "left": "10px",
    "top": "150px",
    "width": "288px"
   },
   "toc_section_display": true,
   "toc_window_display": true
  }
 },
 "nbformat": 4,
 "nbformat_minor": 4
}
